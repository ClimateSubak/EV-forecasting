{
 "cells": [
  {
   "cell_type": "code",
   "execution_count": 1,
   "metadata": {},
   "outputs": [],
   "source": [
    "import pandas as pd\n",
    "import geopandas as gpd\n",
    "import numpy as np\n",
    "import matplotlib.pyplot as plt\n",
    "import seaborn as sns\n",
    "\n",
    "from sklearn import ensemble\n",
    "from sklearn.metrics import accuracy_score, mean_absolute_error, mean_squared_error, r2_score\n",
    "from sklearn.inspection import permutation_importance\n",
    "from xgboost import XGBRegressor"
   ]
  },
  {
   "cell_type": "code",
   "execution_count": 2,
   "metadata": {},
   "outputs": [],
   "source": [
    "from F2_train_test_split_functions import func_test_train_split_time\n",
    "from F1_plot_functions import plot_dated_evdist, plot_single_msoa"
   ]
  },
  {
   "cell_type": "markdown",
   "metadata": {},
   "source": [
    "## Forecasting EV uptake in MSOAs\n",
    "\n",
    "In this notebook we run an XGBoost forecasting model for the EV uptake in MSOAs."
   ]
  },
  {
   "cell_type": "code",
   "execution_count": 3,
   "metadata": {},
   "outputs": [
    {
     "data": {
      "text/html": [
       "<div>\n",
       "<style scoped>\n",
       "    .dataframe tbody tr th:only-of-type {\n",
       "        vertical-align: middle;\n",
       "    }\n",
       "\n",
       "    .dataframe tbody tr th {\n",
       "        vertical-align: top;\n",
       "    }\n",
       "\n",
       "    .dataframe thead th {\n",
       "        text-align: right;\n",
       "    }\n",
       "</style>\n",
       "<table border=\"1\" class=\"dataframe\">\n",
       "  <thead>\n",
       "    <tr style=\"text-align: right;\">\n",
       "      <th></th>\n",
       "      <th></th>\n",
       "      <th>ev_count</th>\n",
       "      <th>index</th>\n",
       "      <th>total_annual_income_2019</th>\n",
       "      <th>houseprice_avg_2019</th>\n",
       "      <th>elec_consumption_2019</th>\n",
       "      <th>IMDRank</th>\n",
       "      <th>IMDDecil</th>\n",
       "      <th>pv_count</th>\n",
       "      <th>public_charger_count</th>\n",
       "      <th>private_charger_count</th>\n",
       "      <th>n_months</th>\n",
       "      <th>ev_price</th>\n",
       "      <th>Rural town and fringe</th>\n",
       "      <th>Rural town and fringe in a sparse setting</th>\n",
       "      <th>Rural village and dispersed</th>\n",
       "      <th>Rural village and dispersed in a sparse setting</th>\n",
       "      <th>Urban city and town</th>\n",
       "      <th>Urban city and town in a sparse setting</th>\n",
       "      <th>Urban major conurbation</th>\n",
       "      <th>Urban minor conurbation</th>\n",
       "    </tr>\n",
       "    <tr>\n",
       "      <th>MSOA11CD</th>\n",
       "      <th>date</th>\n",
       "      <th></th>\n",
       "      <th></th>\n",
       "      <th></th>\n",
       "      <th></th>\n",
       "      <th></th>\n",
       "      <th></th>\n",
       "      <th></th>\n",
       "      <th></th>\n",
       "      <th></th>\n",
       "      <th></th>\n",
       "      <th></th>\n",
       "      <th></th>\n",
       "      <th></th>\n",
       "      <th></th>\n",
       "      <th></th>\n",
       "      <th></th>\n",
       "      <th></th>\n",
       "      <th></th>\n",
       "      <th></th>\n",
       "      <th></th>\n",
       "    </tr>\n",
       "  </thead>\n",
       "  <tbody>\n",
       "    <tr>\n",
       "      <th rowspan=\"5\" valign=\"top\">E02000002</th>\n",
       "      <th>2014-01-01</th>\n",
       "      <td>2</td>\n",
       "      <td>3434</td>\n",
       "      <td>40170.0</td>\n",
       "      <td>357206.0</td>\n",
       "      <td>12874.224118</td>\n",
       "      <td>6621.5</td>\n",
       "      <td>2.0</td>\n",
       "      <td>0.0</td>\n",
       "      <td>2.363636</td>\n",
       "      <td>0.5</td>\n",
       "      <td>0</td>\n",
       "      <td>25278.29</td>\n",
       "      <td>0</td>\n",
       "      <td>0</td>\n",
       "      <td>0</td>\n",
       "      <td>0</td>\n",
       "      <td>0</td>\n",
       "      <td>0</td>\n",
       "      <td>1</td>\n",
       "      <td>0</td>\n",
       "    </tr>\n",
       "    <tr>\n",
       "      <th>2014-02-01</th>\n",
       "      <td>2</td>\n",
       "      <td>3434</td>\n",
       "      <td>40170.0</td>\n",
       "      <td>357206.0</td>\n",
       "      <td>12874.224118</td>\n",
       "      <td>6621.5</td>\n",
       "      <td>2.0</td>\n",
       "      <td>1.0</td>\n",
       "      <td>2.363636</td>\n",
       "      <td>0.5</td>\n",
       "      <td>1</td>\n",
       "      <td>25278.29</td>\n",
       "      <td>0</td>\n",
       "      <td>0</td>\n",
       "      <td>0</td>\n",
       "      <td>0</td>\n",
       "      <td>0</td>\n",
       "      <td>0</td>\n",
       "      <td>1</td>\n",
       "      <td>0</td>\n",
       "    </tr>\n",
       "    <tr>\n",
       "      <th>2014-03-01</th>\n",
       "      <td>2</td>\n",
       "      <td>3434</td>\n",
       "      <td>40170.0</td>\n",
       "      <td>357206.0</td>\n",
       "      <td>12874.224118</td>\n",
       "      <td>6621.5</td>\n",
       "      <td>2.0</td>\n",
       "      <td>1.0</td>\n",
       "      <td>2.363636</td>\n",
       "      <td>0.5</td>\n",
       "      <td>2</td>\n",
       "      <td>25278.29</td>\n",
       "      <td>0</td>\n",
       "      <td>0</td>\n",
       "      <td>0</td>\n",
       "      <td>0</td>\n",
       "      <td>0</td>\n",
       "      <td>0</td>\n",
       "      <td>1</td>\n",
       "      <td>0</td>\n",
       "    </tr>\n",
       "    <tr>\n",
       "      <th>2014-04-01</th>\n",
       "      <td>2</td>\n",
       "      <td>3434</td>\n",
       "      <td>40170.0</td>\n",
       "      <td>357206.0</td>\n",
       "      <td>12874.224118</td>\n",
       "      <td>6621.5</td>\n",
       "      <td>2.0</td>\n",
       "      <td>1.0</td>\n",
       "      <td>2.363636</td>\n",
       "      <td>0.5</td>\n",
       "      <td>3</td>\n",
       "      <td>25278.29</td>\n",
       "      <td>0</td>\n",
       "      <td>0</td>\n",
       "      <td>0</td>\n",
       "      <td>0</td>\n",
       "      <td>0</td>\n",
       "      <td>0</td>\n",
       "      <td>1</td>\n",
       "      <td>0</td>\n",
       "    </tr>\n",
       "    <tr>\n",
       "      <th>2014-05-01</th>\n",
       "      <td>2</td>\n",
       "      <td>3434</td>\n",
       "      <td>40170.0</td>\n",
       "      <td>357206.0</td>\n",
       "      <td>12874.224118</td>\n",
       "      <td>6621.5</td>\n",
       "      <td>2.0</td>\n",
       "      <td>1.0</td>\n",
       "      <td>2.363636</td>\n",
       "      <td>0.5</td>\n",
       "      <td>4</td>\n",
       "      <td>25278.29</td>\n",
       "      <td>0</td>\n",
       "      <td>0</td>\n",
       "      <td>0</td>\n",
       "      <td>0</td>\n",
       "      <td>0</td>\n",
       "      <td>0</td>\n",
       "      <td>1</td>\n",
       "      <td>0</td>\n",
       "    </tr>\n",
       "  </tbody>\n",
       "</table>\n",
       "</div>"
      ],
      "text/plain": [
       "                      ev_count  index  total_annual_income_2019  \\\n",
       "MSOA11CD  date                                                    \n",
       "E02000002 2014-01-01         2   3434                   40170.0   \n",
       "          2014-02-01         2   3434                   40170.0   \n",
       "          2014-03-01         2   3434                   40170.0   \n",
       "          2014-04-01         2   3434                   40170.0   \n",
       "          2014-05-01         2   3434                   40170.0   \n",
       "\n",
       "                      houseprice_avg_2019  elec_consumption_2019  IMDRank  \\\n",
       "MSOA11CD  date                                                              \n",
       "E02000002 2014-01-01             357206.0           12874.224118   6621.5   \n",
       "          2014-02-01             357206.0           12874.224118   6621.5   \n",
       "          2014-03-01             357206.0           12874.224118   6621.5   \n",
       "          2014-04-01             357206.0           12874.224118   6621.5   \n",
       "          2014-05-01             357206.0           12874.224118   6621.5   \n",
       "\n",
       "                      IMDDecil  pv_count  public_charger_count  \\\n",
       "MSOA11CD  date                                                   \n",
       "E02000002 2014-01-01       2.0       0.0              2.363636   \n",
       "          2014-02-01       2.0       1.0              2.363636   \n",
       "          2014-03-01       2.0       1.0              2.363636   \n",
       "          2014-04-01       2.0       1.0              2.363636   \n",
       "          2014-05-01       2.0       1.0              2.363636   \n",
       "\n",
       "                      private_charger_count  n_months  ev_price  \\\n",
       "MSOA11CD  date                                                    \n",
       "E02000002 2014-01-01                    0.5         0  25278.29   \n",
       "          2014-02-01                    0.5         1  25278.29   \n",
       "          2014-03-01                    0.5         2  25278.29   \n",
       "          2014-04-01                    0.5         3  25278.29   \n",
       "          2014-05-01                    0.5         4  25278.29   \n",
       "\n",
       "                      Rural town and fringe  \\\n",
       "MSOA11CD  date                                \n",
       "E02000002 2014-01-01                      0   \n",
       "          2014-02-01                      0   \n",
       "          2014-03-01                      0   \n",
       "          2014-04-01                      0   \n",
       "          2014-05-01                      0   \n",
       "\n",
       "                      Rural town and fringe in a sparse setting  \\\n",
       "MSOA11CD  date                                                    \n",
       "E02000002 2014-01-01                                          0   \n",
       "          2014-02-01                                          0   \n",
       "          2014-03-01                                          0   \n",
       "          2014-04-01                                          0   \n",
       "          2014-05-01                                          0   \n",
       "\n",
       "                      Rural village and dispersed  \\\n",
       "MSOA11CD  date                                      \n",
       "E02000002 2014-01-01                            0   \n",
       "          2014-02-01                            0   \n",
       "          2014-03-01                            0   \n",
       "          2014-04-01                            0   \n",
       "          2014-05-01                            0   \n",
       "\n",
       "                      Rural village and dispersed in a sparse setting  \\\n",
       "MSOA11CD  date                                                          \n",
       "E02000002 2014-01-01                                                0   \n",
       "          2014-02-01                                                0   \n",
       "          2014-03-01                                                0   \n",
       "          2014-04-01                                                0   \n",
       "          2014-05-01                                                0   \n",
       "\n",
       "                      Urban city and town  \\\n",
       "MSOA11CD  date                              \n",
       "E02000002 2014-01-01                    0   \n",
       "          2014-02-01                    0   \n",
       "          2014-03-01                    0   \n",
       "          2014-04-01                    0   \n",
       "          2014-05-01                    0   \n",
       "\n",
       "                      Urban city and town in a sparse setting  \\\n",
       "MSOA11CD  date                                                  \n",
       "E02000002 2014-01-01                                        0   \n",
       "          2014-02-01                                        0   \n",
       "          2014-03-01                                        0   \n",
       "          2014-04-01                                        0   \n",
       "          2014-05-01                                        0   \n",
       "\n",
       "                      Urban major conurbation  Urban minor conurbation  \n",
       "MSOA11CD  date                                                          \n",
       "E02000002 2014-01-01                        1                        0  \n",
       "          2014-02-01                        1                        0  \n",
       "          2014-03-01                        1                        0  \n",
       "          2014-04-01                        1                        0  \n",
       "          2014-05-01                        1                        0  "
      ]
     },
     "execution_count": 3,
     "metadata": {},
     "output_type": "execute_result"
    }
   ],
   "source": [
    "df = pd.read_csv('../data/msoa_full_updated_ev_count_onehotencode.csv',index_col=['MSOA11CD','date'])\n",
    "df.head()"
   ]
  },
  {
   "cell_type": "code",
   "execution_count": 4,
   "metadata": {},
   "outputs": [],
   "source": [
    "y = df[['ev_count']]\n",
    "X = df.drop(columns=['ev_count'])"
   ]
  },
  {
   "cell_type": "code",
   "execution_count": 5,
   "metadata": {},
   "outputs": [
    {
     "name": "stdout",
     "output_type": "stream",
     "text": [
      "CPU times: user 1.46 s, sys: 40 ms, total: 1.5 s\n",
      "Wall time: 1.5 s\n"
     ]
    }
   ],
   "source": [
    "%%time\n",
    "X_train, y_train, X_test, y_test = func_test_train_split_time(X,y,0.8,1)"
   ]
  },
  {
   "cell_type": "markdown",
   "metadata": {},
   "source": [
    "## XGBoost model\n",
    "\n",
    "Initial attempt, with 100 trees and all the data"
   ]
  },
  {
   "cell_type": "code",
   "execution_count": 6,
   "metadata": {},
   "outputs": [],
   "source": [
    "# xgb = XGBRegressor(\n",
    "#     objective=\"reg:squarederror\",\n",
    "#     max_depth=3,\n",
    "#     n_estimators=100,\n",
    "#     learning_rate=0.1,\n",
    "# )\n",
    "params = {'n_estimators': 100,\n",
    "          'max_depth': 4,\n",
    "          'min_samples_split': 5,\n",
    "          'learning_rate': 0.01,\n",
    "          'loss': 'ls'}\n",
    "xgb = ensemble.GradientBoostingRegressor(**params)"
   ]
  },
  {
   "cell_type": "code",
   "execution_count": 7,
   "metadata": {},
   "outputs": [
    {
     "name": "stdout",
     "output_type": "stream",
     "text": [
      "CPU times: user 1min 36s, sys: 28 ms, total: 1min 36s\n",
      "Wall time: 1min 36s\n"
     ]
    },
    {
     "data": {
      "text/plain": [
       "GradientBoostingRegressor(learning_rate=0.01, max_depth=4, min_samples_split=5)"
      ]
     },
     "execution_count": 7,
     "metadata": {},
     "output_type": "execute_result"
    }
   ],
   "source": [
    "%%time\n",
    "xgb.fit(X_train, y_train.values.ravel())"
   ]
  },
  {
   "cell_type": "code",
   "execution_count": 8,
   "metadata": {},
   "outputs": [],
   "source": [
    "y_pred_xgb = xgb.predict(X_test)"
   ]
  },
  {
   "cell_type": "code",
   "execution_count": 9,
   "metadata": {},
   "outputs": [
    {
     "name": "stdout",
     "output_type": "stream",
     "text": [
      "Mean Absolute Error: 10.73\n",
      "Mean Squared Error: 510.49\n",
      "XGB R2 train accuracy: 0.077\n",
      "XGB R2 test accuracy: -0.509\n"
     ]
    }
   ],
   "source": [
    "print('Mean Absolute Error:', round(mean_absolute_error(y_test, y_pred_xgb), 2))\n",
    "print('Mean Squared Error:', round(mean_squared_error(y_test, y_pred_xgb), 2))\n",
    "print(\"XGB R2 train accuracy: %0.3f\" % xgb.score(X_train, y_train))\n",
    "print(\"XGB R2 test accuracy: %0.3f\" % xgb.score(X_test, y_test))"
   ]
  },
  {
   "cell_type": "markdown",
   "metadata": {},
   "source": [
    "Visualise a nonzero MSOA performance."
   ]
  },
  {
   "cell_type": "code",
   "execution_count": 10,
   "metadata": {},
   "outputs": [],
   "source": [
    "idx = pd.IndexSlice\n",
    "df_current = df.loc[idx[:,'2021-04-01'],:]\n",
    "msoa_nonzero_evcount = np.array(df_current[df_current.ev_count > 0].index.droplevel(1))"
   ]
  },
  {
   "cell_type": "code",
   "execution_count": 11,
   "metadata": {},
   "outputs": [
    {
     "data": {
      "text/html": [
       "<div>\n",
       "<style scoped>\n",
       "    .dataframe tbody tr th:only-of-type {\n",
       "        vertical-align: middle;\n",
       "    }\n",
       "\n",
       "    .dataframe tbody tr th {\n",
       "        vertical-align: top;\n",
       "    }\n",
       "\n",
       "    .dataframe thead th {\n",
       "        text-align: right;\n",
       "    }\n",
       "</style>\n",
       "<table border=\"1\" class=\"dataframe\">\n",
       "  <thead>\n",
       "    <tr style=\"text-align: right;\">\n",
       "      <th></th>\n",
       "      <th></th>\n",
       "      <th>ev_count</th>\n",
       "    </tr>\n",
       "    <tr>\n",
       "      <th>MSOA11CD</th>\n",
       "      <th>date</th>\n",
       "      <th></th>\n",
       "    </tr>\n",
       "  </thead>\n",
       "  <tbody>\n",
       "    <tr>\n",
       "      <th rowspan=\"5\" valign=\"top\">E02000002</th>\n",
       "      <th>2019-11-01</th>\n",
       "      <td>5.841419</td>\n",
       "    </tr>\n",
       "    <tr>\n",
       "      <th>2019-12-01</th>\n",
       "      <td>5.915310</td>\n",
       "    </tr>\n",
       "    <tr>\n",
       "      <th>2020-01-01</th>\n",
       "      <td>7.543666</td>\n",
       "    </tr>\n",
       "    <tr>\n",
       "      <th>2020-02-01</th>\n",
       "      <td>7.568708</td>\n",
       "    </tr>\n",
       "    <tr>\n",
       "      <th>2020-03-01</th>\n",
       "      <td>7.568708</td>\n",
       "    </tr>\n",
       "  </tbody>\n",
       "</table>\n",
       "</div>"
      ],
      "text/plain": [
       "                      ev_count\n",
       "MSOA11CD  date                \n",
       "E02000002 2019-11-01  5.841419\n",
       "          2019-12-01  5.915310\n",
       "          2020-01-01  7.543666\n",
       "          2020-02-01  7.568708\n",
       "          2020-03-01  7.568708"
      ]
     },
     "execution_count": 11,
     "metadata": {},
     "output_type": "execute_result"
    }
   ],
   "source": [
    "df_xgb_pred = pd.DataFrame(index=y_test.index)\n",
    "df_xgb_pred['ev_count'] = y_pred_xgb\n",
    "df_xgb_pred.head()"
   ]
  },
  {
   "cell_type": "code",
   "execution_count": 12,
   "metadata": {},
   "outputs": [
    {
     "data": {
      "image/png": "[encoded data removed]",
      "text/plain": [
       "<Figure size 720x360 with 1 Axes>"
      ]
     },
     "metadata": {
      "needs_background": "light"
     },
     "output_type": "display_data"
    }
   ],
   "source": [
    "ax = plot_single_msoa(y_train, y_test, y_pred_xgb, np.random.choice(msoa_nonzero_evcount))"
   ]
  },
  {
   "cell_type": "markdown",
   "metadata": {},
   "source": [
    "Visualise end distribution"
   ]
  },
  {
   "cell_type": "code",
   "execution_count": 13,
   "metadata": {},
   "outputs": [
    {
     "name": "stderr",
     "output_type": "stream",
     "text": [
      "/opt/anaconda/envs/Python3/lib/python3.8/site-packages/seaborn/distributions.py:2557: FutureWarning: `distplot` is a deprecated function and will be removed in a future version. Please adapt your code to use either `displot` (a figure-level function with similar flexibility) or `histplot` (an axes-level function for histograms).\n",
      "  warnings.warn(msg, FutureWarning)\n",
      "/opt/anaconda/envs/Python3/lib/python3.8/site-packages/seaborn/distributions.py:2557: FutureWarning: `distplot` is a deprecated function and will be removed in a future version. Please adapt your code to use either `displot` (a figure-level function with similar flexibility) or `histplot` (an axes-level function for histograms).\n",
      "  warnings.warn(msg, FutureWarning)\n"
     ]
    },
    {
     "data": {
      "image/png": "[encoded data removed]",
      "text/plain": [
       "<Figure size 432x288 with 1 Axes>"
      ]
     },
     "metadata": {
      "needs_background": "light"
     },
     "output_type": "display_data"
    }
   ],
   "source": [
    "ax = plot_dated_evdist(y_test, y_pred_xgb, msoa_nonzero_evcount, '2021-04-01')\n",
    "plt.show()"
   ]
  },
  {
   "cell_type": "code",
   "execution_count": 14,
   "metadata": {},
   "outputs": [],
   "source": [
    "test_score = np.zeros((params['n_estimators'],), dtype=np.float64)\n",
    "for i, y_pred in enumerate(xgb.staged_predict(X_test)):\n",
    "    test_score[i] = mean_squared_error(y_test.ev_count.values, y_pred)\n",
    "\n",
    "# ---  this is annoying : xgb.loss_(y_test, y_pred_xgb.reshape(91840,1))\n"
   ]
  },
  {
   "cell_type": "code",
   "execution_count": 15,
   "metadata": {},
   "outputs": [
    {
     "data": {
      "image/png": "[encoded data removed]",
      "text/plain": [
       "<Figure size 864x432 with 2 Axes>"
      ]
     },
     "metadata": {
      "needs_background": "light"
     },
     "output_type": "display_data"
    }
   ],
   "source": [
    "feature_importance = xgb.feature_importances_\n",
    "sorted_idx = np.argsort(feature_importance)\n",
    "pos = np.arange(sorted_idx.shape[0]) + .5\n",
    "fig = plt.figure(figsize=(12, 6))\n",
    "plt.subplot(1, 2, 1)\n",
    "plt.barh(pos, feature_importance[sorted_idx], align='center')\n",
    "plt.yticks(pos, np.array(X_test.columns)[sorted_idx])\n",
    "plt.title('Feature Importance (MDI)')\n",
    "\n",
    "result = permutation_importance(xgb, X_test, y_test, n_repeats=10,\n",
    "                                random_state=42, n_jobs=2)\n",
    "sorted_idx = result.importances_mean.argsort()\n",
    "plt.subplot(1, 2, 2)\n",
    "plt.boxplot(result.importances[sorted_idx].T,\n",
    "            vert=False, labels=np.array(X_test.columns)[sorted_idx])\n",
    "plt.title(\"Permutation Importance (test set)\")\n",
    "fig.tight_layout()\n",
    "plt.show()"
   ]
  },
  {
   "cell_type": "markdown",
   "metadata": {},
   "source": [
    "### Sample zero data\n",
    "\n",
    "The model is overfitting to the zero data. To check that this is the issue, we sample N=381 zero MSOA regions and retrain."
   ]
  },
  {
   "cell_type": "code",
   "execution_count": 16,
   "metadata": {},
   "outputs": [
    {
     "data": {
      "text/plain": [
       "4392"
      ]
     },
     "execution_count": 16,
     "metadata": {},
     "output_type": "execute_result"
    }
   ],
   "source": [
    "len(msoa_nonzero_evcount)"
   ]
  },
  {
   "cell_type": "code",
   "execution_count": 17,
   "metadata": {},
   "outputs": [],
   "source": [
    "msoa_all = np.array(df_current.index.droplevel(1))\n",
    "msoa_zero_evcount = np.array(list(set(msoa_all)-set(msoa_nonzero_evcount)))\n",
    "assert len(msoa_all)-len(msoa_nonzero_evcount) == len(msoa_zero_evcount)"
   ]
  },
  {
   "cell_type": "code",
   "execution_count": 18,
   "metadata": {},
   "outputs": [
    {
     "data": {
      "text/plain": [
       "1348"
      ]
     },
     "execution_count": 18,
     "metadata": {},
     "output_type": "execute_result"
    }
   ],
   "source": [
    "len(msoa_zero_evcount)"
   ]
  },
  {
   "cell_type": "code",
   "execution_count": 19,
   "metadata": {},
   "outputs": [],
   "source": [
    "msoa_zero_sample = msoa_zero_evcount"
   ]
  },
  {
   "cell_type": "code",
   "execution_count": 20,
   "metadata": {},
   "outputs": [
    {
     "name": "stdout",
     "output_type": "stream",
     "text": [
      "<class 'numpy.ndarray'>\n",
      "<class 'numpy.ndarray'>\n"
     ]
    }
   ],
   "source": [
    "print(type(msoa_zero_sample))\n",
    "print(type(msoa_nonzero_evcount))\n",
    "\n",
    "msoa_sample = np.concatenate([msoa_zero_sample, msoa_nonzero_evcount])"
   ]
  },
  {
   "cell_type": "code",
   "execution_count": 21,
   "metadata": {},
   "outputs": [
    {
     "data": {
      "text/plain": [
       "(505120, 20)"
      ]
     },
     "execution_count": 21,
     "metadata": {},
     "output_type": "execute_result"
    }
   ],
   "source": [
    "df_zero_sample = df.loc[idx[msoa_sample,:],:]\n",
    "df_zero_sample.shape"
   ]
  },
  {
   "cell_type": "code",
   "execution_count": 22,
   "metadata": {},
   "outputs": [],
   "source": [
    "y_zero_sample = df_zero_sample [['ev_count']]\n",
    "X_zero_sample = df_zero_sample.drop(columns=['ev_count'])\n",
    "\n",
    "X_train_zero_sample, y_train_zero_sample , X_test_zero_sample , y_test_zero_sample  = func_test_train_split_time(X_zero_sample,y_zero_sample,0.8,42)"
   ]
  },
  {
   "cell_type": "code",
   "execution_count": 23,
   "metadata": {},
   "outputs": [],
   "source": [
    "xgb.fit(X_train_zero_sample, y_train_zero_sample.values.ravel())\n",
    "y_pred_xgb_zero = xgb.predict(X_test_zero_sample)"
   ]
  },
  {
   "cell_type": "code",
   "execution_count": 24,
   "metadata": {},
   "outputs": [
    {
     "name": "stdout",
     "output_type": "stream",
     "text": [
      "Mean Absolute Error: 10.73\n",
      "Mean Squared Error: 512.78\n",
      "XGB R2 train accuracy: 0.077\n",
      "XGB R2 test accuracy: -0.515\n"
     ]
    }
   ],
   "source": [
    "print('Mean Absolute Error:', round(mean_absolute_error(y_test_zero_sample, y_pred_xgb_zero), 2))\n",
    "print('Mean Squared Error:', round(mean_squared_error(y_test_zero_sample, y_pred_xgb_zero), 2))\n",
    "print(\"XGB R2 train accuracy: %0.3f\" % xgb.score(X_train_zero_sample, y_train_zero_sample))\n",
    "print(\"XGB R2 test accuracy: %0.3f\" % xgb.score(X_test_zero_sample, y_test_zero_sample))"
   ]
  },
  {
   "cell_type": "code",
   "execution_count": 25,
   "metadata": {},
   "outputs": [
    {
     "data": {
      "image/png": "[encoded data removed]",
      "text/plain": [
       "<Figure size 720x360 with 1 Axes>"
      ]
     },
     "metadata": {
      "needs_background": "light"
     },
     "output_type": "display_data"
    }
   ],
   "source": [
    "ax = plot_single_msoa(y_train_zero_sample, y_test_zero_sample, y_pred_xgb_zero, np.random.choice(msoa_nonzero_evcount))"
   ]
  },
  {
   "cell_type": "code",
   "execution_count": 26,
   "metadata": {},
   "outputs": [
    {
     "name": "stderr",
     "output_type": "stream",
     "text": [
      "/opt/anaconda/envs/Python3/lib/python3.8/site-packages/seaborn/distributions.py:2557: FutureWarning: `distplot` is a deprecated function and will be removed in a future version. Please adapt your code to use either `displot` (a figure-level function with similar flexibility) or `histplot` (an axes-level function for histograms).\n",
      "  warnings.warn(msg, FutureWarning)\n",
      "/opt/anaconda/envs/Python3/lib/python3.8/site-packages/seaborn/distributions.py:2557: FutureWarning: `distplot` is a deprecated function and will be removed in a future version. Please adapt your code to use either `displot` (a figure-level function with similar flexibility) or `histplot` (an axes-level function for histograms).\n",
      "  warnings.warn(msg, FutureWarning)\n"
     ]
    },
    {
     "data": {
      "image/png": "[encoded data removed]",
      "text/plain": [
       "<Figure size 432x288 with 1 Axes>"
      ]
     },
     "metadata": {
      "needs_background": "light"
     },
     "output_type": "display_data"
    }
   ],
   "source": [
    "ax = plot_dated_evdist(y_test_zero_sample, y_pred_xgb_zero, msoa_nonzero_evcount, '2021-04-01')"
   ]
  },
  {
   "cell_type": "code",
   "execution_count": 53,
   "metadata": {},
   "outputs": [
    {
     "data": {
      "image/png": "[encoded data removed]",
      "text/plain": [
       "<Figure size 864x432 with 1 Axes>"
      ]
     },
     "metadata": {
      "needs_background": "light"
     },
     "output_type": "display_data"
    }
   ],
   "source": [
    "feature_importance = xgb.feature_importances_\n",
    "sorted_idx = np.argsort(feature_importance)\n",
    "pos = np.arange(sorted_idx.shape[0]) + .5\n",
    "fig = plt.figure(figsize=(12, 6))\n",
    "plt.subplot(1, 2, 1)\n",
    "plt.barh(pos, feature_importance[sorted_idx], align='center')\n",
    "plt.yticks(pos, np.array(X_test.columns)[sorted_idx])\n",
    "plt.title('Feature Importance (MDI)')\n",
    "\n",
    "# result = permutation_importance(xgb, X_test, y_test, n_repeats=10,\n",
    "#                                 random_state=42, n_jobs=2)\n",
    "# sorted_idx = result.importances_mean.argsort()\n",
    "# plt.subplot(1, 2, 2)\n",
    "# plt.boxplot(result.importances[sorted_idx].T,\n",
    "#             vert=False, labels=np.array(X_test.columns)[sorted_idx])\n",
    "# plt.title(\"Permutation Importance (test set)\")\n",
    "# fig.tight_layout()\n",
    "# plt.show()\n",
    "\n",
    "plt.savefig('feature_importance_forcast.png', bbox_inches=\"tight\")"
   ]
  },
  {
   "cell_type": "markdown",
   "metadata": {},
   "source": [
    "## Early stopping\n"
   ]
  },
  {
   "cell_type": "code",
   "execution_count": 28,
   "metadata": {},
   "outputs": [],
   "source": [
    "xgb_early_stop = XGBRegressor(n_estimators=500, max_depth=6, learning_rate=0.1)"
   ]
  },
  {
   "cell_type": "code",
   "execution_count": 29,
   "metadata": {},
   "outputs": [
    {
     "name": "stdout",
     "output_type": "stream",
     "text": [
      "[0]\tvalidation_0-rmse:13.43824\tvalidation_1-rmse:19.37225\n",
      "[1]\tvalidation_0-rmse:13.22862\tvalidation_1-rmse:20.39255\n",
      "[2]\tvalidation_0-rmse:13.05520\tvalidation_1-rmse:22.04600\n",
      "[3]\tvalidation_0-rmse:12.85172\tvalidation_1-rmse:21.91787\n",
      "[4]\tvalidation_0-rmse:12.70225\tvalidation_1-rmse:21.84164\n",
      "[5]\tvalidation_0-rmse:12.56001\tvalidation_1-rmse:23.94206\n",
      "[6]\tvalidation_0-rmse:12.44231\tvalidation_1-rmse:25.79886\n",
      "[7]\tvalidation_0-rmse:12.30043\tvalidation_1-rmse:25.98376\n",
      "[8]\tvalidation_0-rmse:12.14048\tvalidation_1-rmse:26.29447\n",
      "[9]\tvalidation_0-rmse:11.95644\tvalidation_1-rmse:27.28182\n",
      "[10]\tvalidation_0-rmse:11.85722\tvalidation_1-rmse:27.31176\n",
      "[11]\tvalidation_0-rmse:11.67463\tvalidation_1-rmse:28.30299\n",
      "[12]\tvalidation_0-rmse:11.63481\tvalidation_1-rmse:28.34058\n",
      "[13]\tvalidation_0-rmse:11.53163\tvalidation_1-rmse:28.40599\n",
      "[14]\tvalidation_0-rmse:11.41966\tvalidation_1-rmse:28.34367\n",
      "[15]\tvalidation_0-rmse:11.30380\tvalidation_1-rmse:28.47181\n",
      "[16]\tvalidation_0-rmse:11.24696\tvalidation_1-rmse:29.39597\n",
      "[17]\tvalidation_0-rmse:11.14435\tvalidation_1-rmse:29.35776\n",
      "[18]\tvalidation_0-rmse:11.06938\tvalidation_1-rmse:29.44033\n",
      "[19]\tvalidation_0-rmse:11.02457\tvalidation_1-rmse:29.43373\n"
     ]
    },
    {
     "data": {
      "text/plain": [
       "XGBRegressor(base_score=0.5, booster='gbtree', colsample_bylevel=1,\n",
       "             colsample_bynode=1, colsample_bytree=1, gamma=0, gpu_id=-1,\n",
       "             importance_type='gain', interaction_constraints='',\n",
       "             learning_rate=0.1, max_delta_step=0, max_depth=6,\n",
       "             min_child_weight=1, missing=nan, monotone_constraints='()',\n",
       "             n_estimators=500, n_jobs=16, num_parallel_tree=1, random_state=0,\n",
       "             reg_alpha=0, reg_lambda=1, scale_pos_weight=1, subsample=1,\n",
       "             tree_method='exact', validate_parameters=1, verbosity=None)"
      ]
     },
     "execution_count": 29,
     "metadata": {},
     "output_type": "execute_result"
    }
   ],
   "source": [
    "xgb_early_stop.fit(X_train, y_train, \n",
    "            eval_set=[(X_train, y_train), (X_test, y_test)], \n",
    "            early_stopping_rounds=20)"
   ]
  },
  {
   "cell_type": "code",
   "execution_count": 30,
   "metadata": {},
   "outputs": [
    {
     "data": {
      "text/plain": [
       "<matplotlib.legend.Legend at 0x7f5c37a8aaf0>"
      ]
     },
     "execution_count": 30,
     "metadata": {},
     "output_type": "execute_result"
    },
    {
     "data": {
      "image/png": "[encoded data removed]",
      "text/plain": [
       "<Figure size 720x504 with 1 Axes>"
      ]
     },
     "metadata": {
      "needs_background": "light"
     },
     "output_type": "display_data"
    }
   ],
   "source": [
    "early_stop_results = xgb_early_stop.evals_result()\n",
    "\n",
    "plt.figure(figsize=(10,7))\n",
    "plt.plot(early_stop_results[\"validation_0\"][\"rmse\"], label=\"Training loss\")\n",
    "plt.plot(early_stop_results[\"validation_1\"][\"rmse\"], label=\"Test loss\")\n",
    "plt.xlabel(\"Number of trees\")\n",
    "plt.ylabel(\"Loss\")\n",
    "plt.legend()"
   ]
  },
  {
   "cell_type": "code",
   "execution_count": 31,
   "metadata": {},
   "outputs": [],
   "source": [
    "y_pred_early_stop = xgb_early_stop.predict(X_test)"
   ]
  },
  {
   "cell_type": "code",
   "execution_count": 32,
   "metadata": {},
   "outputs": [
    {
     "name": "stdout",
     "output_type": "stream",
     "text": [
      "Mean Absolute Error: 6.69\n",
      "Mean Squared Error: 375.29\n",
      "XGB R2 train accuracy: -0.040\n",
      "XGB R2 test accuracy: -0.109\n"
     ]
    }
   ],
   "source": [
    "print('Mean Absolute Error:', round(mean_absolute_error(y_test, y_pred_early_stop), 2))\n",
    "print('Mean Squared Error:', round(mean_squared_error(y_test, y_pred_early_stop), 2))\n",
    "print(\"XGB R2 train accuracy: %0.3f\" % xgb_early_stop.score(X_train, y_train))\n",
    "print(\"XGB R2 test accuracy: %0.3f\" % xgb_early_stop.score(X_test, y_test))"
   ]
  },
  {
   "cell_type": "markdown",
   "metadata": {},
   "source": [
    "## Predict only nonzero MSOAs"
   ]
  },
  {
   "cell_type": "code",
   "execution_count": 33,
   "metadata": {},
   "outputs": [],
   "source": [
    "df_nonzero = df.loc[idx[msoa_nonzero_evcount,:],:]\n",
    "\n",
    "y_nonzero = df_nonzero[['ev_count']]\n",
    "X_nonzero = df_nonzero.drop(columns=['ev_count'])\n",
    "\n",
    "X_train_nonzero, y_train_nonzero, X_test_nonzero, y_test_nonzero = func_test_train_split_time(X_nonzero,\n",
    "                                                                                              y_nonzero,0.8,42)"
   ]
  },
  {
   "cell_type": "code",
   "execution_count": 34,
   "metadata": {},
   "outputs": [
    {
     "name": "stdout",
     "output_type": "stream",
     "text": [
      "Mean Absolute Error: 10.61\n",
      "Mean Squared Error: 489.17\n",
      "XGB R2 train accuracy: 0.077\n",
      "XGB R2 test accuracy: -0.152\n"
     ]
    }
   ],
   "source": [
    "xgb.fit(X_train_nonzero, y_train_nonzero.values.ravel())\n",
    "y_pred_nonzero = xgb.predict(X_test_nonzero)\n",
    "print('Mean Absolute Error:', round(mean_absolute_error(y_test_nonzero, y_pred_nonzero), 2))\n",
    "print('Mean Squared Error:', round(mean_squared_error(y_test_nonzero, y_pred_nonzero), 2))\n",
    "print(\"XGB R2 train accuracy: %0.3f\" % xgb.score(X_train_nonzero, y_train_nonzero))\n",
    "print(\"XGB R2 test accuracy: %0.3f\" % xgb.score(X_test_nonzero, y_test_nonzero))"
   ]
  },
  {
   "cell_type": "code",
   "execution_count": 42,
   "metadata": {},
   "outputs": [
    {
     "data": {
      "image/png": "[encoded data removed]",
      "text/plain": [
       "<Figure size 720x360 with 1 Axes>"
      ]
     },
     "metadata": {
      "needs_background": "light"
     },
     "output_type": "display_data"
    }
   ],
   "source": [
    "ax = plot_single_msoa(y_train_nonzero, y_test_nonzero,\n",
    "                      y_pred_nonzero, np.random.choice(msoa_nonzero_evcount))"
   ]
  },
  {
   "cell_type": "code",
   "execution_count": 36,
   "metadata": {},
   "outputs": [
    {
     "name": "stderr",
     "output_type": "stream",
     "text": [
      "/opt/anaconda/envs/Python3/lib/python3.8/site-packages/seaborn/distributions.py:2557: FutureWarning: `distplot` is a deprecated function and will be removed in a future version. Please adapt your code to use either `displot` (a figure-level function with similar flexibility) or `histplot` (an axes-level function for histograms).\n",
      "  warnings.warn(msg, FutureWarning)\n",
      "/opt/anaconda/envs/Python3/lib/python3.8/site-packages/seaborn/distributions.py:2557: FutureWarning: `distplot` is a deprecated function and will be removed in a future version. Please adapt your code to use either `displot` (a figure-level function with similar flexibility) or `histplot` (an axes-level function for histograms).\n",
      "  warnings.warn(msg, FutureWarning)\n"
     ]
    },
    {
     "data": {
      "image/png": "[encoded data removed]",
      "text/plain": [
       "<Figure size 432x288 with 1 Axes>"
      ]
     },
     "metadata": {
      "needs_background": "light"
     },
     "output_type": "display_data"
    }
   ],
   "source": [
    "ax = plot_dated_evdist(y_test_nonzero, y_pred_nonzero, msoa_nonzero_evcount, '2021-04-01')"
   ]
  },
  {
   "cell_type": "markdown",
   "metadata": {},
   "source": [
    "## Add some information about early year EV count\n",
    "\n",
    "Add a column ev_avg_2015 such that for each MSOA ev_avg_2015 = avg(ev_count in 2015) for that MSOA."
   ]
  },
  {
   "cell_type": "code",
   "execution_count": 37,
   "metadata": {},
   "outputs": [
    {
     "name": "stdout",
     "output_type": "stream",
     "text": [
      "E02000002\n"
     ]
    },
    {
     "data": {
      "text/plain": [
       "2.0"
      ]
     },
     "execution_count": 37,
     "metadata": {},
     "output_type": "execute_result"
    }
   ],
   "source": [
    "sample_msoa = msoa_nonzero_evcount[0]\n",
    "print(sample_msoa)\n",
    "\n",
    "dates = np.sort(np.array(df.index.droplevel(0)[:76]))\n",
    "dates_14 = dates[:12]\n",
    "df.loc[idx[sample_msoa, dates_14],:].ev_count.mean()"
   ]
  },
  {
   "cell_type": "code",
   "execution_count": 38,
   "metadata": {},
   "outputs": [
    {
     "data": {
      "text/plain": [
       "array(['2014-01-01', '2014-02-01', '2014-03-01', '2014-04-01',\n",
       "       '2014-05-01', '2014-06-01', '2014-07-01', '2014-08-01',\n",
       "       '2014-09-01', '2014-10-01', '2014-11-01', '2014-12-01'],\n",
       "      dtype=object)"
      ]
     },
     "execution_count": 38,
     "metadata": {},
     "output_type": "execute_result"
    }
   ],
   "source": [
    "dates_14"
   ]
  },
  {
   "cell_type": "code",
   "execution_count": 39,
   "metadata": {},
   "outputs": [],
   "source": [
    "df['ev_avg_2014'] = 0"
   ]
  },
  {
   "cell_type": "code",
   "execution_count": 40,
   "metadata": {},
   "outputs": [],
   "source": [
    "for msoa in msoa_nonzero_evcount:\n",
    "    df.loc[idx[msoa, :],'ev_avg_2014'] = df.loc[idx[msoa, dates_14],:].ev_count.mean()"
   ]
  },
  {
   "cell_type": "code",
   "execution_count": 44,
   "metadata": {},
   "outputs": [
    {
     "data": {
      "text/html": [
       "<div>\n",
       "<style scoped>\n",
       "    .dataframe tbody tr th:only-of-type {\n",
       "        vertical-align: middle;\n",
       "    }\n",
       "\n",
       "    .dataframe tbody tr th {\n",
       "        vertical-align: top;\n",
       "    }\n",
       "\n",
       "    .dataframe thead th {\n",
       "        text-align: right;\n",
       "    }\n",
       "</style>\n",
       "<table border=\"1\" class=\"dataframe\">\n",
       "  <thead>\n",
       "    <tr style=\"text-align: right;\">\n",
       "      <th></th>\n",
       "      <th>ev_count</th>\n",
       "      <th>index</th>\n",
       "      <th>total_annual_income_2019</th>\n",
       "      <th>houseprice_avg_2019</th>\n",
       "      <th>IMDRank</th>\n",
       "      <th>IMDDecil</th>\n",
       "      <th>pv_count</th>\n",
       "      <th>public_charger_count</th>\n",
       "      <th>private_charger_count</th>\n",
       "      <th>n_months</th>\n",
       "      <th>ev_price</th>\n",
       "      <th>Rural town and fringe</th>\n",
       "      <th>Rural town and fringe in a sparse setting</th>\n",
       "      <th>Rural village and dispersed</th>\n",
       "      <th>Rural village and dispersed in a sparse setting</th>\n",
       "      <th>Urban city and town</th>\n",
       "      <th>Urban city and town in a sparse setting</th>\n",
       "      <th>Urban major conurbation</th>\n",
       "      <th>Urban minor conurbation</th>\n",
       "      <th>ev_avg_2014</th>\n",
       "    </tr>\n",
       "  </thead>\n",
       "  <tbody>\n",
       "    <tr>\n",
       "      <th>count</th>\n",
       "      <td>505120.000000</td>\n",
       "      <td>505120.000000</td>\n",
       "      <td>505120.000000</td>\n",
       "      <td>5.051200e+05</td>\n",
       "      <td>505120.000000</td>\n",
       "      <td>505120.000000</td>\n",
       "      <td>505120.000000</td>\n",
       "      <td>505120.000000</td>\n",
       "      <td>505120.000000</td>\n",
       "      <td>505120.000000</td>\n",
       "      <td>505120.000000</td>\n",
       "      <td>505120.000000</td>\n",
       "      <td>505120.000000</td>\n",
       "      <td>505120.000000</td>\n",
       "      <td>505120.000000</td>\n",
       "      <td>505120.000000</td>\n",
       "      <td>505120.000000</td>\n",
       "      <td>505120.000000</td>\n",
       "      <td>505120.000000</td>\n",
       "      <td>505120.000000</td>\n",
       "    </tr>\n",
       "    <tr>\n",
       "      <th>mean</th>\n",
       "      <td>4.758830</td>\n",
       "      <td>2869.500000</td>\n",
       "      <td>44016.229094</td>\n",
       "      <td>2.700825e+05</td>\n",
       "      <td>15417.094434</td>\n",
       "      <td>5.181010</td>\n",
       "      <td>37.093679</td>\n",
       "      <td>2.913150</td>\n",
       "      <td>8.459820</td>\n",
       "      <td>43.500000</td>\n",
       "      <td>29947.946477</td>\n",
       "      <td>0.099129</td>\n",
       "      <td>0.005749</td>\n",
       "      <td>0.107491</td>\n",
       "      <td>0.014983</td>\n",
       "      <td>0.446864</td>\n",
       "      <td>0.002962</td>\n",
       "      <td>0.289547</td>\n",
       "      <td>0.033275</td>\n",
       "      <td>1.379312</td>\n",
       "    </tr>\n",
       "    <tr>\n",
       "      <th>std</th>\n",
       "      <td>14.427722</td>\n",
       "      <td>1656.996888</td>\n",
       "      <td>9665.670730</td>\n",
       "      <td>1.527868e+05</td>\n",
       "      <td>8710.966409</td>\n",
       "      <td>2.882877</td>\n",
       "      <td>41.927560</td>\n",
       "      <td>5.120361</td>\n",
       "      <td>7.900627</td>\n",
       "      <td>25.401797</td>\n",
       "      <td>5060.589732</td>\n",
       "      <td>0.298835</td>\n",
       "      <td>0.075605</td>\n",
       "      <td>0.309737</td>\n",
       "      <td>0.121483</td>\n",
       "      <td>0.497169</td>\n",
       "      <td>0.054341</td>\n",
       "      <td>0.453553</td>\n",
       "      <td>0.179355</td>\n",
       "      <td>4.249918</td>\n",
       "    </tr>\n",
       "    <tr>\n",
       "      <th>min</th>\n",
       "      <td>0.000000</td>\n",
       "      <td>0.000000</td>\n",
       "      <td>19510.000000</td>\n",
       "      <td>4.862500e+04</td>\n",
       "      <td>0.000000</td>\n",
       "      <td>0.000000</td>\n",
       "      <td>0.000000</td>\n",
       "      <td>0.000000</td>\n",
       "      <td>0.000000</td>\n",
       "      <td>0.000000</td>\n",
       "      <td>24005.530000</td>\n",
       "      <td>0.000000</td>\n",
       "      <td>0.000000</td>\n",
       "      <td>0.000000</td>\n",
       "      <td>0.000000</td>\n",
       "      <td>0.000000</td>\n",
       "      <td>0.000000</td>\n",
       "      <td>0.000000</td>\n",
       "      <td>0.000000</td>\n",
       "      <td>0.000000</td>\n",
       "    </tr>\n",
       "    <tr>\n",
       "      <th>25%</th>\n",
       "      <td>0.000000</td>\n",
       "      <td>1434.750000</td>\n",
       "      <td>37068.750000</td>\n",
       "      <td>1.619984e+05</td>\n",
       "      <td>8412.416667</td>\n",
       "      <td>3.000000</td>\n",
       "      <td>11.000000</td>\n",
       "      <td>0.755556</td>\n",
       "      <td>2.673077</td>\n",
       "      <td>21.750000</td>\n",
       "      <td>25278.290000</td>\n",
       "      <td>0.000000</td>\n",
       "      <td>0.000000</td>\n",
       "      <td>0.000000</td>\n",
       "      <td>0.000000</td>\n",
       "      <td>0.000000</td>\n",
       "      <td>0.000000</td>\n",
       "      <td>0.000000</td>\n",
       "      <td>0.000000</td>\n",
       "      <td>0.000000</td>\n",
       "    </tr>\n",
       "    <tr>\n",
       "      <th>50%</th>\n",
       "      <td>1.000000</td>\n",
       "      <td>2869.500000</td>\n",
       "      <td>43157.500000</td>\n",
       "      <td>2.360250e+05</td>\n",
       "      <td>15940.700000</td>\n",
       "      <td>5.000000</td>\n",
       "      <td>26.000000</td>\n",
       "      <td>1.472222</td>\n",
       "      <td>6.008772</td>\n",
       "      <td>43.500000</td>\n",
       "      <td>30212.103333</td>\n",
       "      <td>0.000000</td>\n",
       "      <td>0.000000</td>\n",
       "      <td>0.000000</td>\n",
       "      <td>0.000000</td>\n",
       "      <td>0.000000</td>\n",
       "      <td>0.000000</td>\n",
       "      <td>0.000000</td>\n",
       "      <td>0.000000</td>\n",
       "      <td>0.250000</td>\n",
       "    </tr>\n",
       "    <tr>\n",
       "      <th>75%</th>\n",
       "      <td>4.000000</td>\n",
       "      <td>4304.250000</td>\n",
       "      <td>49961.250000</td>\n",
       "      <td>3.368107e+05</td>\n",
       "      <td>22581.812500</td>\n",
       "      <td>7.500000</td>\n",
       "      <td>49.000000</td>\n",
       "      <td>2.833333</td>\n",
       "      <td>11.922619</td>\n",
       "      <td>65.250000</td>\n",
       "      <td>33085.255000</td>\n",
       "      <td>0.000000</td>\n",
       "      <td>0.000000</td>\n",
       "      <td>0.000000</td>\n",
       "      <td>0.000000</td>\n",
       "      <td>1.000000</td>\n",
       "      <td>0.000000</td>\n",
       "      <td>1.000000</td>\n",
       "      <td>0.000000</td>\n",
       "      <td>1.333333</td>\n",
       "    </tr>\n",
       "    <tr>\n",
       "      <th>max</th>\n",
       "      <td>402.000000</td>\n",
       "      <td>5739.000000</td>\n",
       "      <td>89815.000000</td>\n",
       "      <td>2.789167e+06</td>\n",
       "      <td>32479.800000</td>\n",
       "      <td>10.000000</td>\n",
       "      <td>798.000000</td>\n",
       "      <td>182.500000</td>\n",
       "      <td>49.666667</td>\n",
       "      <td>87.000000</td>\n",
       "      <td>45427.670000</td>\n",
       "      <td>1.000000</td>\n",
       "      <td>1.000000</td>\n",
       "      <td>1.000000</td>\n",
       "      <td>1.000000</td>\n",
       "      <td>1.000000</td>\n",
       "      <td>1.000000</td>\n",
       "      <td>1.000000</td>\n",
       "      <td>1.000000</td>\n",
       "      <td>201.500000</td>\n",
       "    </tr>\n",
       "  </tbody>\n",
       "</table>\n",
       "</div>"
      ],
      "text/plain": [
       "            ev_count          index  total_annual_income_2019  \\\n",
       "count  505120.000000  505120.000000             505120.000000   \n",
       "mean        4.758830    2869.500000              44016.229094   \n",
       "std        14.427722    1656.996888               9665.670730   \n",
       "min         0.000000       0.000000              19510.000000   \n",
       "25%         0.000000    1434.750000              37068.750000   \n",
       "50%         1.000000    2869.500000              43157.500000   \n",
       "75%         4.000000    4304.250000              49961.250000   \n",
       "max       402.000000    5739.000000              89815.000000   \n",
       "\n",
       "       houseprice_avg_2019        IMDRank       IMDDecil       pv_count  \\\n",
       "count         5.051200e+05  505120.000000  505120.000000  505120.000000   \n",
       "mean          2.700825e+05   15417.094434       5.181010      37.093679   \n",
       "std           1.527868e+05    8710.966409       2.882877      41.927560   \n",
       "min           4.862500e+04       0.000000       0.000000       0.000000   \n",
       "25%           1.619984e+05    8412.416667       3.000000      11.000000   \n",
       "50%           2.360250e+05   15940.700000       5.000000      26.000000   \n",
       "75%           3.368107e+05   22581.812500       7.500000      49.000000   \n",
       "max           2.789167e+06   32479.800000      10.000000     798.000000   \n",
       "\n",
       "       public_charger_count  private_charger_count       n_months  \\\n",
       "count         505120.000000          505120.000000  505120.000000   \n",
       "mean               2.913150               8.459820      43.500000   \n",
       "std                5.120361               7.900627      25.401797   \n",
       "min                0.000000               0.000000       0.000000   \n",
       "25%                0.755556               2.673077      21.750000   \n",
       "50%                1.472222               6.008772      43.500000   \n",
       "75%                2.833333              11.922619      65.250000   \n",
       "max              182.500000              49.666667      87.000000   \n",
       "\n",
       "            ev_price  Rural town and fringe  \\\n",
       "count  505120.000000          505120.000000   \n",
       "mean    29947.946477               0.099129   \n",
       "std      5060.589732               0.298835   \n",
       "min     24005.530000               0.000000   \n",
       "25%     25278.290000               0.000000   \n",
       "50%     30212.103333               0.000000   \n",
       "75%     33085.255000               0.000000   \n",
       "max     45427.670000               1.000000   \n",
       "\n",
       "       Rural town and fringe in a sparse setting  Rural village and dispersed  \\\n",
       "count                              505120.000000                505120.000000   \n",
       "mean                                    0.005749                     0.107491   \n",
       "std                                     0.075605                     0.309737   \n",
       "min                                     0.000000                     0.000000   \n",
       "25%                                     0.000000                     0.000000   \n",
       "50%                                     0.000000                     0.000000   \n",
       "75%                                     0.000000                     0.000000   \n",
       "max                                     1.000000                     1.000000   \n",
       "\n",
       "       Rural village and dispersed in a sparse setting  Urban city and town  \\\n",
       "count                                    505120.000000        505120.000000   \n",
       "mean                                          0.014983             0.446864   \n",
       "std                                           0.121483             0.497169   \n",
       "min                                           0.000000             0.000000   \n",
       "25%                                           0.000000             0.000000   \n",
       "50%                                           0.000000             0.000000   \n",
       "75%                                           0.000000             1.000000   \n",
       "max                                           1.000000             1.000000   \n",
       "\n",
       "       Urban city and town in a sparse setting  Urban major conurbation  \\\n",
       "count                            505120.000000            505120.000000   \n",
       "mean                                  0.002962                 0.289547   \n",
       "std                                   0.054341                 0.453553   \n",
       "min                                   0.000000                 0.000000   \n",
       "25%                                   0.000000                 0.000000   \n",
       "50%                                   0.000000                 0.000000   \n",
       "75%                                   0.000000                 1.000000   \n",
       "max                                   1.000000                 1.000000   \n",
       "\n",
       "       Urban minor conurbation    ev_avg_2014  \n",
       "count            505120.000000  505120.000000  \n",
       "mean                  0.033275       1.379312  \n",
       "std                   0.179355       4.249918  \n",
       "min                   0.000000       0.000000  \n",
       "25%                   0.000000       0.000000  \n",
       "50%                   0.000000       0.250000  \n",
       "75%                   0.000000       1.333333  \n",
       "max                   1.000000     201.500000  "
      ]
     },
     "execution_count": 44,
     "metadata": {},
     "output_type": "execute_result"
    }
   ],
   "source": [
    "df.drop(columns=['elec_consumption_2019'],inplace=True)\n",
    "df.describe()"
   ]
  },
  {
   "cell_type": "code",
   "execution_count": 45,
   "metadata": {},
   "outputs": [],
   "source": [
    "y = df[['ev_count']]\n",
    "X = df.drop(columns=['ev_count'])\n",
    "\n",
    "X_ex_train, y_ex_train, X_ex_test, y_ex_test = func_test_train_split_time(X,y,0.7,1)"
   ]
  },
  {
   "cell_type": "code",
   "execution_count": 46,
   "metadata": {},
   "outputs": [
    {
     "name": "stdout",
     "output_type": "stream",
     "text": [
      "[0]\tvalidation_0-rmse:11.55673\tvalidation_1-rmse:17.62559\n",
      "[1]\tvalidation_0-rmse:10.49869\tvalidation_1-rmse:16.16046\n",
      "[2]\tvalidation_0-rmse:9.56112\tvalidation_1-rmse:14.81009\n",
      "[3]\tvalidation_0-rmse:8.70657\tvalidation_1-rmse:13.60189\n",
      "[4]\tvalidation_0-rmse:7.94137\tvalidation_1-rmse:12.54664\n",
      "[5]\tvalidation_0-rmse:7.25593\tvalidation_1-rmse:11.61792\n",
      "[6]\tvalidation_0-rmse:6.63426\tvalidation_1-rmse:10.80887\n",
      "[7]\tvalidation_0-rmse:6.08122\tvalidation_1-rmse:10.09264\n",
      "[8]\tvalidation_0-rmse:5.57402\tvalidation_1-rmse:9.44825\n",
      "[9]\tvalidation_0-rmse:5.12181\tvalidation_1-rmse:8.87847\n",
      "[10]\tvalidation_0-rmse:4.71406\tvalidation_1-rmse:8.40193\n",
      "[11]\tvalidation_0-rmse:4.34908\tvalidation_1-rmse:7.95260\n",
      "[12]\tvalidation_0-rmse:4.02860\tvalidation_1-rmse:7.61606\n",
      "[13]\tvalidation_0-rmse:3.73254\tvalidation_1-rmse:7.26658\n",
      "[14]\tvalidation_0-rmse:3.46532\tvalidation_1-rmse:6.98770\n",
      "[15]\tvalidation_0-rmse:3.23653\tvalidation_1-rmse:6.75257\n",
      "[16]\tvalidation_0-rmse:3.02911\tvalidation_1-rmse:6.56945\n",
      "[17]\tvalidation_0-rmse:2.84295\tvalidation_1-rmse:6.42819\n",
      "[18]\tvalidation_0-rmse:2.67892\tvalidation_1-rmse:6.27402\n",
      "[19]\tvalidation_0-rmse:2.53763\tvalidation_1-rmse:6.16511\n",
      "[20]\tvalidation_0-rmse:2.41026\tvalidation_1-rmse:6.07616\n",
      "[21]\tvalidation_0-rmse:2.29293\tvalidation_1-rmse:5.99659\n",
      "[22]\tvalidation_0-rmse:2.19588\tvalidation_1-rmse:5.93722\n",
      "[23]\tvalidation_0-rmse:2.11023\tvalidation_1-rmse:5.88170\n",
      "[24]\tvalidation_0-rmse:2.02874\tvalidation_1-rmse:5.84494\n",
      "[25]\tvalidation_0-rmse:1.95477\tvalidation_1-rmse:5.80987\n",
      "[26]\tvalidation_0-rmse:1.89017\tvalidation_1-rmse:5.78573\n",
      "[27]\tvalidation_0-rmse:1.82961\tvalidation_1-rmse:5.75981\n",
      "[28]\tvalidation_0-rmse:1.77780\tvalidation_1-rmse:5.74376\n",
      "[29]\tvalidation_0-rmse:1.73260\tvalidation_1-rmse:5.72580\n",
      "[30]\tvalidation_0-rmse:1.69263\tvalidation_1-rmse:5.70444\n",
      "[31]\tvalidation_0-rmse:1.65622\tvalidation_1-rmse:5.67859\n",
      "[32]\tvalidation_0-rmse:1.62141\tvalidation_1-rmse:5.67069\n",
      "[33]\tvalidation_0-rmse:1.58753\tvalidation_1-rmse:5.66067\n",
      "[34]\tvalidation_0-rmse:1.56074\tvalidation_1-rmse:5.65516\n",
      "[35]\tvalidation_0-rmse:1.53896\tvalidation_1-rmse:5.64615\n",
      "[36]\tvalidation_0-rmse:1.51316\tvalidation_1-rmse:5.63936\n",
      "[37]\tvalidation_0-rmse:1.49367\tvalidation_1-rmse:5.62475\n",
      "[38]\tvalidation_0-rmse:1.46693\tvalidation_1-rmse:5.60988\n",
      "[39]\tvalidation_0-rmse:1.44899\tvalidation_1-rmse:5.59340\n",
      "[40]\tvalidation_0-rmse:1.43254\tvalidation_1-rmse:5.59434\n",
      "[41]\tvalidation_0-rmse:1.41643\tvalidation_1-rmse:5.58696\n",
      "[42]\tvalidation_0-rmse:1.40568\tvalidation_1-rmse:5.58018\n",
      "[43]\tvalidation_0-rmse:1.38864\tvalidation_1-rmse:5.58400\n",
      "[44]\tvalidation_0-rmse:1.38006\tvalidation_1-rmse:5.57899\n",
      "[45]\tvalidation_0-rmse:1.36813\tvalidation_1-rmse:5.57798\n",
      "[46]\tvalidation_0-rmse:1.35782\tvalidation_1-rmse:5.57443\n",
      "[47]\tvalidation_0-rmse:1.34609\tvalidation_1-rmse:5.56851\n",
      "[48]\tvalidation_0-rmse:1.33813\tvalidation_1-rmse:5.56812\n",
      "[49]\tvalidation_0-rmse:1.33289\tvalidation_1-rmse:5.56675\n",
      "[50]\tvalidation_0-rmse:1.32801\tvalidation_1-rmse:5.56261\n",
      "[51]\tvalidation_0-rmse:1.32184\tvalidation_1-rmse:5.55996\n",
      "[52]\tvalidation_0-rmse:1.31355\tvalidation_1-rmse:5.55474\n",
      "[53]\tvalidation_0-rmse:1.30747\tvalidation_1-rmse:5.55032\n",
      "[54]\tvalidation_0-rmse:1.29785\tvalidation_1-rmse:5.54155\n",
      "[55]\tvalidation_0-rmse:1.29199\tvalidation_1-rmse:5.53849\n",
      "[56]\tvalidation_0-rmse:1.28692\tvalidation_1-rmse:5.53563\n",
      "[57]\tvalidation_0-rmse:1.27971\tvalidation_1-rmse:5.53327\n",
      "[58]\tvalidation_0-rmse:1.27231\tvalidation_1-rmse:5.52916\n",
      "[59]\tvalidation_0-rmse:1.26914\tvalidation_1-rmse:5.52837\n",
      "[60]\tvalidation_0-rmse:1.26352\tvalidation_1-rmse:5.51878\n",
      "[61]\tvalidation_0-rmse:1.25915\tvalidation_1-rmse:5.51537\n",
      "[62]\tvalidation_0-rmse:1.24543\tvalidation_1-rmse:5.50908\n",
      "[63]\tvalidation_0-rmse:1.24236\tvalidation_1-rmse:5.50568\n",
      "[64]\tvalidation_0-rmse:1.23373\tvalidation_1-rmse:5.50124\n",
      "[65]\tvalidation_0-rmse:1.22472\tvalidation_1-rmse:5.49618\n",
      "[66]\tvalidation_0-rmse:1.20962\tvalidation_1-rmse:5.49160\n",
      "[67]\tvalidation_0-rmse:1.20696\tvalidation_1-rmse:5.49071\n",
      "[68]\tvalidation_0-rmse:1.20539\tvalidation_1-rmse:5.49050\n",
      "[69]\tvalidation_0-rmse:1.18990\tvalidation_1-rmse:5.48505\n",
      "[70]\tvalidation_0-rmse:1.18800\tvalidation_1-rmse:5.48417\n",
      "[71]\tvalidation_0-rmse:1.18617\tvalidation_1-rmse:5.47938\n",
      "[72]\tvalidation_0-rmse:1.18233\tvalidation_1-rmse:5.47679\n",
      "[73]\tvalidation_0-rmse:1.17424\tvalidation_1-rmse:5.47400\n",
      "[74]\tvalidation_0-rmse:1.15829\tvalidation_1-rmse:5.46764\n",
      "[75]\tvalidation_0-rmse:1.15348\tvalidation_1-rmse:5.46394\n",
      "[76]\tvalidation_0-rmse:1.13847\tvalidation_1-rmse:5.45796\n",
      "[77]\tvalidation_0-rmse:1.12510\tvalidation_1-rmse:5.45395\n",
      "[78]\tvalidation_0-rmse:1.11698\tvalidation_1-rmse:5.44941\n",
      "[79]\tvalidation_0-rmse:1.11430\tvalidation_1-rmse:5.44766\n",
      "[80]\tvalidation_0-rmse:1.11205\tvalidation_1-rmse:5.44647\n",
      "[81]\tvalidation_0-rmse:1.10056\tvalidation_1-rmse:5.44183\n",
      "[82]\tvalidation_0-rmse:1.09783\tvalidation_1-rmse:5.44153\n",
      "[83]\tvalidation_0-rmse:1.08729\tvalidation_1-rmse:5.43668\n",
      "[84]\tvalidation_0-rmse:1.07317\tvalidation_1-rmse:5.43774\n",
      "[85]\tvalidation_0-rmse:1.07007\tvalidation_1-rmse:5.43621\n",
      "[86]\tvalidation_0-rmse:1.05823\tvalidation_1-rmse:5.44268\n",
      "[87]\tvalidation_0-rmse:1.05309\tvalidation_1-rmse:5.44034\n",
      "[88]\tvalidation_0-rmse:1.04819\tvalidation_1-rmse:5.43736\n",
      "[89]\tvalidation_0-rmse:1.04307\tvalidation_1-rmse:5.43462\n",
      "[90]\tvalidation_0-rmse:1.04018\tvalidation_1-rmse:5.43305\n",
      "[91]\tvalidation_0-rmse:1.03803\tvalidation_1-rmse:5.43180\n",
      "[92]\tvalidation_0-rmse:1.03172\tvalidation_1-rmse:5.42703\n",
      "[93]\tvalidation_0-rmse:1.02571\tvalidation_1-rmse:5.42467\n",
      "[94]\tvalidation_0-rmse:1.01907\tvalidation_1-rmse:5.42124\n",
      "[95]\tvalidation_0-rmse:1.01328\tvalidation_1-rmse:5.41980\n",
      "[96]\tvalidation_0-rmse:1.00396\tvalidation_1-rmse:5.41434\n",
      "[97]\tvalidation_0-rmse:0.99411\tvalidation_1-rmse:5.41082\n",
      "[98]\tvalidation_0-rmse:0.99262\tvalidation_1-rmse:5.41011\n",
      "[99]\tvalidation_0-rmse:0.98518\tvalidation_1-rmse:5.40687\n"
     ]
    },
    {
     "data": {
      "text/plain": [
       "XGBRegressor(base_score=0.5, booster='gbtree', colsample_bylevel=1,\n",
       "             colsample_bynode=1, colsample_bytree=1, gamma=0, gpu_id=-1,\n",
       "             importance_type='gain', interaction_constraints='',\n",
       "             learning_rate=0.1, max_delta_step=0, max_depth=10,\n",
       "             min_child_weight=1, missing=nan, monotone_constraints='()',\n",
       "             n_estimators=100, n_jobs=16, num_parallel_tree=1, random_state=0,\n",
       "             reg_alpha=0, reg_lambda=1, scale_pos_weight=1, subsample=1,\n",
       "             tree_method='exact', validate_parameters=1, verbosity=None)"
      ]
     },
     "execution_count": 46,
     "metadata": {},
     "output_type": "execute_result"
    }
   ],
   "source": [
    "xgb_early_stop = XGBRegressor(n_estimators=100, max_depth=10, learning_rate=0.1)\n",
    "xgb_early_stop.fit(X_ex_train, y_ex_train, \n",
    "            eval_set=[(X_ex_train, y_ex_train), (X_ex_test, y_ex_test)], \n",
    "            early_stopping_rounds=20)"
   ]
  },
  {
   "cell_type": "code",
   "execution_count": 47,
   "metadata": {},
   "outputs": [
    {
     "name": "stdout",
     "output_type": "stream",
     "text": [
      "Mean Absolute Error: 2.04\n",
      "Mean Squared Error: 29.23\n",
      "XGB R2 train accuracy: 0.994\n",
      "XGB R2 test accuracy: 0.913\n"
     ]
    }
   ],
   "source": [
    "y_ex_pred = xgb_early_stop.predict(X_ex_test)\n",
    "print('Mean Absolute Error:', round(mean_absolute_error(y_ex_test, y_ex_pred), 2))\n",
    "print('Mean Squared Error:', round(mean_squared_error(y_ex_test, y_ex_pred), 2))\n",
    "print(\"XGB R2 train accuracy: %0.3f\" % xgb_early_stop.score(X_ex_train, y_ex_train))\n",
    "print(\"XGB R2 test accuracy: %0.3f\" % xgb_early_stop.score(X_ex_test, y_ex_test))"
   ]
  },
  {
   "cell_type": "code",
   "execution_count": 52,
   "metadata": {},
   "outputs": [
    {
     "data": {
      "image/png": "[encoded data removed]",
      "text/plain": [
       "<Figure size 720x360 with 1 Axes>"
      ]
     },
     "metadata": {
      "needs_background": "light"
     },
     "output_type": "display_data"
    }
   ],
   "source": [
    "ax = plot_single_msoa(y_ex_train, y_ex_test,\n",
    "                      y_ex_pred, np.random.choice(msoa_nonzero_evcount))\n",
    "plt.savefig('forecast1.png', bbox_inches=\"tight\")"
   ]
  },
  {
   "cell_type": "code",
   "execution_count": 49,
   "metadata": {},
   "outputs": [
    {
     "name": "stderr",
     "output_type": "stream",
     "text": [
      "/opt/anaconda/envs/Python3/lib/python3.8/site-packages/seaborn/distributions.py:2557: FutureWarning: `distplot` is a deprecated function and will be removed in a future version. Please adapt your code to use either `displot` (a figure-level function with similar flexibility) or `histplot` (an axes-level function for histograms).\n",
      "  warnings.warn(msg, FutureWarning)\n",
      "/opt/anaconda/envs/Python3/lib/python3.8/site-packages/seaborn/distributions.py:2557: FutureWarning: `distplot` is a deprecated function and will be removed in a future version. Please adapt your code to use either `displot` (a figure-level function with similar flexibility) or `histplot` (an axes-level function for histograms).\n",
      "  warnings.warn(msg, FutureWarning)\n"
     ]
    },
    {
     "data": {
      "image/png": "[encoded data removed]",
      "text/plain": [
       "<Figure size 432x288 with 1 Axes>"
      ]
     },
     "metadata": {
      "needs_background": "light"
     },
     "output_type": "display_data"
    }
   ],
   "source": [
    "ax = plot_dated_evdist(y_ex_test, y_ex_pred, msoa_nonzero_evcount, '2021-04-01')"
   ]
  },
  {
   "cell_type": "code",
   "execution_count": 50,
   "metadata": {},
   "outputs": [],
   "source": [
    "# To do: plot feature importances\n",
    "# also: count number of times the model overpredicts vs underpredicts"
   ]
  },
  {
   "cell_type": "code",
   "execution_count": 51,
   "metadata": {},
   "outputs": [
    {
     "data": {
      "image/png": "[encoded data removed]",
      "text/plain": [
       "<Figure size 864x432 with 2 Axes>"
      ]
     },
     "metadata": {
      "needs_background": "light"
     },
     "output_type": "display_data"
    }
   ],
   "source": [
    "feature_importance = xgb_early_stop.feature_importances_\n",
    "sorted_idx = np.argsort(feature_importance)\n",
    "\n",
    "pos = np.arange(sorted_idx.shape[0]) + .5\n",
    "fig = plt.figure(figsize=(12, 6))\n",
    "plt.subplot(1, 2, 1)\n",
    "\n",
    "plt.barh(pos, feature_importance[sorted_idx], align='center')\n",
    "plt.yticks(pos, np.array(X_ex_test.columns)[sorted_idx])\n",
    "plt.title('Feature Importance (MDI)')\n",
    "\n",
    "result = permutation_importance(xgb_early_stop, X_ex_test, y_ex_test, n_repeats=10,\n",
    "                                random_state=42, n_jobs=2)\n",
    "sorted_idx = result.importances_mean.argsort()\n",
    "plt.subplot(1, 2, 2)\n",
    "plt.boxplot(result.importances[sorted_idx].T,\n",
    "            vert=False, labels=np.array(X_ex_test.columns)[sorted_idx])\n",
    "plt.title(\"Permutation Importance (test set)\")\n",
    "fig.tight_layout()\n",
    "plt.show()"
   ]
  },
  {
   "cell_type": "code",
   "execution_count": null,
   "metadata": {},
   "outputs": [],
   "source": []
  },
  {
   "cell_type": "code",
   "execution_count": null,
   "metadata": {},
   "outputs": [],
   "source": []
  },
  {
   "cell_type": "code",
   "execution_count": null,
   "metadata": {},
   "outputs": [],
   "source": []
  }
 ],
 "metadata": {
  "kernelspec": {
   "display_name": "Python [conda env:Python3] *",
   "language": "python",
   "name": "conda-env-Python3-py"
  },
  "language_info": {
   "codemirror_mode": {
    "name": "ipython",
    "version": 3
   },
   "file_extension": ".py",
   "mimetype": "text/x-python",
   "name": "python",
   "nbconvert_exporter": "python",
   "pygments_lexer": "ipython3",
   "version": "3.8.2"
  }
 },
 "nbformat": 4,
 "nbformat_minor": 2
}
