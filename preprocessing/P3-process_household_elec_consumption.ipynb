{
 "cells": [
  {
   "cell_type": "code",
   "execution_count": 1,
   "metadata": {},
   "outputs": [],
   "source": [
    "import pandas as pd\n",
    "import matplotlib.pyplot as plt"
   ]
  },
  {
   "cell_type": "code",
   "execution_count": 2,
   "metadata": {},
   "outputs": [],
   "source": [
    "elec_2010 = pd.read_csv('raw_data_to_edit/LSOA_ELEC_2010.csv')"
   ]
  },
  {
   "cell_type": "code",
   "execution_count": 3,
   "metadata": {},
   "outputs": [
    {
     "data": {
      "text/html": [
       "<div>\n",
       "<style scoped>\n",
       "    .dataframe tbody tr th:only-of-type {\n",
       "        vertical-align: middle;\n",
       "    }\n",
       "\n",
       "    .dataframe tbody tr th {\n",
       "        vertical-align: top;\n",
       "    }\n",
       "\n",
       "    .dataframe thead th {\n",
       "        text-align: right;\n",
       "    }\n",
       "</style>\n",
       "<table border=\"1\" class=\"dataframe\">\n",
       "  <thead>\n",
       "    <tr style=\"text-align: right;\">\n",
       "      <th></th>\n",
       "      <th>Local Authority Name</th>\n",
       "      <th>Local Authority Code</th>\n",
       "      <th>Middle Layer Super Output Area (MSOA) Name</th>\n",
       "      <th>Middle Layer Super Output Area (MSOA) Code</th>\n",
       "      <th>Lower Layer Super Output Area (LSOA) Name</th>\n",
       "      <th>Lower Layer Super Output Area (LSOA) Code</th>\n",
       "      <th>Total number of domestic electricity meters</th>\n",
       "      <th>Total domestic electricity consumption (kWh)</th>\n",
       "      <th>Mean domestic electricity consumption \\n(kWh per meter)</th>\n",
       "      <th>Median domestic electricity consumption \\n(kWh per meter)</th>\n",
       "    </tr>\n",
       "  </thead>\n",
       "  <tbody>\n",
       "    <tr>\n",
       "      <th>0</th>\n",
       "      <td>Hartlepool</td>\n",
       "      <td>E06000001</td>\n",
       "      <td>Hartlepool 001</td>\n",
       "      <td>E02002483</td>\n",
       "      <td>Hartlepool 001A</td>\n",
       "      <td>E01011954</td>\n",
       "      <td>962</td>\n",
       "      <td>3061223.7</td>\n",
       "      <td>3182.145218</td>\n",
       "      <td>2812.65</td>\n",
       "    </tr>\n",
       "    <tr>\n",
       "      <th>1</th>\n",
       "      <td>Hartlepool</td>\n",
       "      <td>E06000001</td>\n",
       "      <td>Hartlepool 001</td>\n",
       "      <td>E02002483</td>\n",
       "      <td>Hartlepool 001B</td>\n",
       "      <td>E01011969</td>\n",
       "      <td>638</td>\n",
       "      <td>2184541.4</td>\n",
       "      <td>3424.046082</td>\n",
       "      <td>3050.75</td>\n",
       "    </tr>\n",
       "    <tr>\n",
       "      <th>2</th>\n",
       "      <td>Hartlepool</td>\n",
       "      <td>E06000001</td>\n",
       "      <td>Hartlepool 001</td>\n",
       "      <td>E02002483</td>\n",
       "      <td>Hartlepool 001C</td>\n",
       "      <td>E01011970</td>\n",
       "      <td>452</td>\n",
       "      <td>1813380.3</td>\n",
       "      <td>4011.903319</td>\n",
       "      <td>3479.90</td>\n",
       "    </tr>\n",
       "    <tr>\n",
       "      <th>3</th>\n",
       "      <td>Hartlepool</td>\n",
       "      <td>E06000001</td>\n",
       "      <td>Hartlepool 001</td>\n",
       "      <td>E02002483</td>\n",
       "      <td>Hartlepool 001D</td>\n",
       "      <td>E01011971</td>\n",
       "      <td>530</td>\n",
       "      <td>2076311.2</td>\n",
       "      <td>3917.568302</td>\n",
       "      <td>3672.20</td>\n",
       "    </tr>\n",
       "    <tr>\n",
       "      <th>4</th>\n",
       "      <td>Hartlepool</td>\n",
       "      <td>E06000001</td>\n",
       "      <td>Hartlepool 001</td>\n",
       "      <td>E02002483</td>\n",
       "      <td>Hartlepool 001F</td>\n",
       "      <td>E01033465</td>\n",
       "      <td>746</td>\n",
       "      <td>2620861.5</td>\n",
       "      <td>3513.219169</td>\n",
       "      <td>3077.10</td>\n",
       "    </tr>\n",
       "  </tbody>\n",
       "</table>\n",
       "</div>"
      ],
      "text/plain": [
       "  Local Authority Name Local Authority Code  \\\n",
       "0           Hartlepool            E06000001   \n",
       "1           Hartlepool            E06000001   \n",
       "2           Hartlepool            E06000001   \n",
       "3           Hartlepool            E06000001   \n",
       "4           Hartlepool            E06000001   \n",
       "\n",
       "  Middle Layer Super Output Area (MSOA) Name  \\\n",
       "0                             Hartlepool 001   \n",
       "1                             Hartlepool 001   \n",
       "2                             Hartlepool 001   \n",
       "3                             Hartlepool 001   \n",
       "4                             Hartlepool 001   \n",
       "\n",
       "  Middle Layer Super Output Area (MSOA) Code  \\\n",
       "0                                  E02002483   \n",
       "1                                  E02002483   \n",
       "2                                  E02002483   \n",
       "3                                  E02002483   \n",
       "4                                  E02002483   \n",
       "\n",
       "  Lower Layer Super Output Area (LSOA) Name  \\\n",
       "0                           Hartlepool 001A   \n",
       "1                           Hartlepool 001B   \n",
       "2                           Hartlepool 001C   \n",
       "3                           Hartlepool 001D   \n",
       "4                           Hartlepool 001F   \n",
       "\n",
       "  Lower Layer Super Output Area (LSOA) Code  \\\n",
       "0                                 E01011954   \n",
       "1                                 E01011969   \n",
       "2                                 E01011970   \n",
       "3                                 E01011971   \n",
       "4                                 E01033465   \n",
       "\n",
       "   Total number of domestic electricity meters  \\\n",
       "0                                          962   \n",
       "1                                          638   \n",
       "2                                          452   \n",
       "3                                          530   \n",
       "4                                          746   \n",
       "\n",
       "   Total domestic electricity consumption (kWh)  \\\n",
       "0                                     3061223.7   \n",
       "1                                     2184541.4   \n",
       "2                                     1813380.3   \n",
       "3                                     2076311.2   \n",
       "4                                     2620861.5   \n",
       "\n",
       "   Mean domestic electricity consumption \\n(kWh per meter)  \\\n",
       "0                                        3182.145218         \n",
       "1                                        3424.046082         \n",
       "2                                        4011.903319         \n",
       "3                                        3917.568302         \n",
       "4                                        3513.219169         \n",
       "\n",
       "   Median domestic electricity consumption \\n(kWh per meter)  \n",
       "0                                            2812.65          \n",
       "1                                            3050.75          \n",
       "2                                            3479.90          \n",
       "3                                            3672.20          \n",
       "4                                            3077.10          "
      ]
     },
     "execution_count": 3,
     "metadata": {},
     "output_type": "execute_result"
    }
   ],
   "source": [
    "elec_2010.head()"
   ]
  },
  {
   "cell_type": "code",
   "execution_count": 4,
   "metadata": {},
   "outputs": [
    {
     "data": {
      "text/plain": [
       "(41730, 10)"
      ]
     },
     "execution_count": 4,
     "metadata": {},
     "output_type": "execute_result"
    }
   ],
   "source": [
    "elec_2010.shape"
   ]
  },
  {
   "cell_type": "code",
   "execution_count": 5,
   "metadata": {},
   "outputs": [
    {
     "data": {
      "text/plain": [
       "Index(['Local Authority Name', 'Local Authority Code',\n",
       "       'Middle Layer Super Output Area (MSOA) Name',\n",
       "       'Middle Layer Super Output Area (MSOA) Code',\n",
       "       'Lower Layer Super Output Area (LSOA) Name',\n",
       "       'Lower Layer Super Output Area (LSOA) Code',\n",
       "       'Total number of domestic electricity meters',\n",
       "       'Total domestic electricity consumption (kWh)',\n",
       "       'Mean domestic electricity consumption \\n(kWh per meter)',\n",
       "       'Median domestic electricity consumption \\n(kWh per meter)'],\n",
       "      dtype='object')"
      ]
     },
     "execution_count": 5,
     "metadata": {},
     "output_type": "execute_result"
    }
   ],
   "source": [
    "elec_2010.columns"
   ]
  },
  {
   "cell_type": "code",
   "execution_count": 6,
   "metadata": {},
   "outputs": [
    {
     "data": {
      "text/plain": [
       "41730"
      ]
     },
     "execution_count": 6,
     "metadata": {},
     "output_type": "execute_result"
    }
   ],
   "source": [
    "elec_2010['Lower Layer Super Output Area (LSOA) Code'].nunique()"
   ]
  },
  {
   "cell_type": "code",
   "execution_count": 7,
   "metadata": {},
   "outputs": [],
   "source": [
    "lsoa_codes_to_keep = pd.read_csv('data/lsoa_codes_reduced.csv', index_col=False)"
   ]
  },
  {
   "cell_type": "code",
   "execution_count": 8,
   "metadata": {},
   "outputs": [
    {
     "data": {
      "text/html": [
       "<div>\n",
       "<style scoped>\n",
       "    .dataframe tbody tr th:only-of-type {\n",
       "        vertical-align: middle;\n",
       "    }\n",
       "\n",
       "    .dataframe tbody tr th {\n",
       "        vertical-align: top;\n",
       "    }\n",
       "\n",
       "    .dataframe thead th {\n",
       "        text-align: right;\n",
       "    }\n",
       "</style>\n",
       "<table border=\"1\" class=\"dataframe\">\n",
       "  <thead>\n",
       "    <tr style=\"text-align: right;\">\n",
       "      <th></th>\n",
       "      <th>LSOA11CD</th>\n",
       "      <th>LSOA11NM</th>\n",
       "    </tr>\n",
       "  </thead>\n",
       "  <tbody>\n",
       "    <tr>\n",
       "      <th>0</th>\n",
       "      <td>E01000001</td>\n",
       "      <td>City of London 001A</td>\n",
       "    </tr>\n",
       "    <tr>\n",
       "      <th>1</th>\n",
       "      <td>E01000002</td>\n",
       "      <td>City of London 001B</td>\n",
       "    </tr>\n",
       "    <tr>\n",
       "      <th>2</th>\n",
       "      <td>E01000003</td>\n",
       "      <td>City of London 001C</td>\n",
       "    </tr>\n",
       "    <tr>\n",
       "      <th>3</th>\n",
       "      <td>E01000005</td>\n",
       "      <td>City of London 001E</td>\n",
       "    </tr>\n",
       "    <tr>\n",
       "      <th>4</th>\n",
       "      <td>E01000006</td>\n",
       "      <td>Barking and Dagenham 016A</td>\n",
       "    </tr>\n",
       "  </tbody>\n",
       "</table>\n",
       "</div>"
      ],
      "text/plain": [
       "    LSOA11CD                   LSOA11NM\n",
       "0  E01000001        City of London 001A\n",
       "1  E01000002        City of London 001B\n",
       "2  E01000003        City of London 001C\n",
       "3  E01000005        City of London 001E\n",
       "4  E01000006  Barking and Dagenham 016A"
      ]
     },
     "execution_count": 8,
     "metadata": {},
     "output_type": "execute_result"
    }
   ],
   "source": [
    "lsoa_codes_to_keep.head()"
   ]
  },
  {
   "cell_type": "code",
   "execution_count": 9,
   "metadata": {},
   "outputs": [],
   "source": [
    "df_to_reduce = elec_2010"
   ]
  },
  {
   "cell_type": "code",
   "execution_count": 10,
   "metadata": {},
   "outputs": [
    {
     "data": {
      "text/plain": [
       "Index(['Local Authority Name', 'Local Authority Code',\n",
       "       'Middle Layer Super Output Area (MSOA) Name',\n",
       "       'Middle Layer Super Output Area (MSOA) Code',\n",
       "       'Lower Layer Super Output Area (LSOA) Name',\n",
       "       'Lower Layer Super Output Area (LSOA) Code',\n",
       "       'Total number of domestic electricity meters',\n",
       "       'Total domestic electricity consumption (kWh)',\n",
       "       'Mean domestic electricity consumption \\n(kWh per meter)',\n",
       "       'Median domestic electricity consumption \\n(kWh per meter)'],\n",
       "      dtype='object')"
      ]
     },
     "execution_count": 10,
     "metadata": {},
     "output_type": "execute_result"
    }
   ],
   "source": [
    "df_to_reduce.columns"
   ]
  },
  {
   "cell_type": "markdown",
   "metadata": {},
   "source": [
    "## Reduce data to LSOA codes in England and Wales"
   ]
  },
  {
   "cell_type": "code",
   "execution_count": null,
   "metadata": {},
   "outputs": [],
   "source": [
    "def func_to_reduce_LSOA_codes(df_to_reduce, lsoa_codes_to_keep, col_to_reduce, col_lsoa):\n",
    "    \"\"\" Extract the rows of df_to_reduce that correspond to LSOA regions\n",
    "    whose code are contained in lsoa_codes.\"\"\"\n",
    "    \n",
    "    codes_to_keep = sorted(pd.Series(lsoa_codes_to_keep[col_lsoa]).astype('str'))\n",
    "    codes_all = sorted(pd.Series(df_to_reduce[col_to_reduce]).astype('str'))\n",
    "    codes_to_remove = list(set(codes_all) - set(codes_to_keep))\n",
    "    return df_to_reduce[~df_to_reduce[col_to_reduce].isin(codes_to_remove)]"
   ]
  },
  {
   "cell_type": "code",
   "execution_count": 10,
   "metadata": {},
   "outputs": [],
   "source": [
    "years = [2010,2011,2012,2013,2014,2015,2016,2017,2018,2019]"
   ]
  },
  {
   "cell_type": "code",
   "execution_count": 11,
   "metadata": {},
   "outputs": [
    {
     "name": "stdout",
     "output_type": "stream",
     "text": [
      "(41730, 10)\n",
      "Index(['Local Authority Name', 'Local Authority Code',\n",
      "       'Middle Layer Super Output Area (MSOA) Name',\n",
      "       'Middle Layer Super Output Area (MSOA) Code',\n",
      "       'Lower Layer Super Output Area (LSOA) Name',\n",
      "       'Lower Layer Super Output Area (LSOA) Code',\n",
      "       'Total number of domestic electricity meters',\n",
      "       'Total domestic electricity consumption (kWh)',\n",
      "       'Mean domestic electricity consumption \\n(kWh per meter)',\n",
      "       'Median domestic electricity consumption \\n(kWh per meter)'],\n",
      "      dtype='object')\n",
      "(41730, 10)\n",
      "Index(['Local Authority Name', 'Local Authority Code',\n",
      "       'Middle Layer Super Output Area (MSOA) Name',\n",
      "       'Middle Layer Super Output Area (MSOA) Code',\n",
      "       'Lower Layer Super Output Area (LSOA) Name',\n",
      "       'Lower Layer Super Output Area (LSOA) Code',\n",
      "       'Total number of domestic electricity meters',\n",
      "       'Total domestic electricity consumption (kWh)',\n",
      "       'Mean domestic electricity consumption \\n(kWh per meter)',\n",
      "       'Median domestic electricity consumption \\n(kWh per meter)'],\n",
      "      dtype='object')\n",
      "(41730, 10)\n",
      "Index(['Local Authority Name', 'Local Authority Code',\n",
      "       'Middle Layer Super Output Area (MSOA) Name',\n",
      "       'Middle Layer Super Output Area (MSOA) Code',\n",
      "       'Lower Layer Super Output Area (LSOA) Name',\n",
      "       'Lower Layer Super Output Area (LSOA) Code',\n",
      "       'Total number of domestic electricity meters',\n",
      "       'Total domestic electricity consumption (kWh)',\n",
      "       'Mean domestic electricity consumption \\n(kWh per meter)',\n",
      "       'Median domestic electricity consumption \\n(kWh per meter)'],\n",
      "      dtype='object')\n",
      "(41729, 10)\n",
      "Index(['Local Authority Name', 'Local Authority Code',\n",
      "       'Middle Layer Super Output Area (MSOA) Name',\n",
      "       'Middle Layer Super Output Area (MSOA) Code',\n",
      "       'Lower Layer Super Output Area (LSOA) Name',\n",
      "       'Lower Layer Super Output Area (LSOA) Code',\n",
      "       'Total number of domestic electricity meters',\n",
      "       'Total domestic electricity consumption (kWh)',\n",
      "       'Mean domestic electricity consumption \\n(kWh per meter)',\n",
      "       'Median domestic electricity consumption \\n(kWh per meter)'],\n",
      "      dtype='object')\n",
      "(41728, 10)\n",
      "Index(['Local Authority Name', 'Local Authority Code',\n",
      "       'Middle Layer Super Output Area (MSOA) Name',\n",
      "       'Middle Layer Super Output Area (MSOA) Code',\n",
      "       'Lower Layer Super Output Area (LSOA) Name',\n",
      "       'Lower Layer Super Output Area (LSOA) Code',\n",
      "       'Total number of domestic electricity meters',\n",
      "       'Total domestic electricity consumption (kWh)',\n",
      "       'Mean domestic electricity consumption \\n(kWh per meter)',\n",
      "       'Median domestic electricity consumption \\n(kWh per meter)'],\n",
      "      dtype='object')\n",
      "(41728, 10)\n",
      "Index(['Local Authority Name', 'Local Authority Code',\n",
      "       'Middle Layer Super Output Area (MSOA) Name',\n",
      "       'Middle Layer Super Output Area (MSOA) Code',\n",
      "       'Lower Layer Super Output Area (LSOA) Name',\n",
      "       'Lower Layer Super Output Area (LSOA) Code',\n",
      "       'Total number of domestic electricity meters',\n",
      "       'Total domestic electricity consumption (kWh)',\n",
      "       'Mean domestic electricity consumption \\n(kWh per meter)',\n",
      "       'Median domestic electricity consumption \\n(kWh per meter)'],\n",
      "      dtype='object')\n",
      "(41727, 10)\n",
      "Index(['Local Authority Name', 'Local Authority Code',\n",
      "       'Middle Layer Super Output Area (MSOA) Name',\n",
      "       'Middle Layer Super Output Area (MSOA) Code',\n",
      "       'Lower Layer Super Output Area (LSOA) Name',\n",
      "       'Lower Layer Super Output Area (LSOA) Code',\n",
      "       'Total number of domestic electricity meters',\n",
      "       'Total domestic electricity consumption (kWh)',\n",
      "       'Mean domestic electricity consumption \\n(kWh per meter)',\n",
      "       'Median domestic electricity consumption \\n(kWh per meter)'],\n",
      "      dtype='object')\n",
      "(41727, 10)\n",
      "Index(['Local Authority Name', 'Local Authority Code',\n",
      "       'Middle Layer Super Output Area (MSOA) Name',\n",
      "       'Middle Layer Super Output Area (MSOA) Code',\n",
      "       'Lower Layer Super Output Area (LSOA) Name',\n",
      "       'Lower Layer Super Output Area (LSOA) Code',\n",
      "       'Total number of domestic electricity meters',\n",
      "       'Total domestic electricity consumption (kWh)',\n",
      "       'Mean domestic electricity consumption \\n(kWh per meter)',\n",
      "       'Median domestic electricity consumption \\n(kWh per meter)'],\n",
      "      dtype='object')\n",
      "(41727, 10)\n",
      "Index(['Local Authority Name', 'Local Authority Code',\n",
      "       'Middle Layer Super Output Area (MSOA) Name',\n",
      "       'Middle Layer Super Output Area (MSOA) Code',\n",
      "       'Lower Layer Super Output Area (LSOA) Name',\n",
      "       'Lower Layer Super Output Area (LSOA) Code',\n",
      "       'Total number of domestic electricity meters',\n",
      "       'Total domestic electricity consumption (kWh)',\n",
      "       'Mean domestic electricity consumption \\n(kWh per meter)',\n",
      "       'Median domestic electricity consumption \\n(kWh per meter)'],\n",
      "      dtype='object')\n",
      "(41727, 10)\n",
      "Index(['Local Authority Name', 'Local Authority Code',\n",
      "       'Middle Layer Super Output Area (MSOA) Name',\n",
      "       'Middle Layer Super Output Area (MSOA) Code',\n",
      "       'Lower Layer Super Output Area (LSOA) Name',\n",
      "       'Lower Layer Super Output Area (LSOA) Code',\n",
      "       'Total number of domestic electricity meters',\n",
      "       'Total domestic electricity consumption (kWh)',\n",
      "       'Mean domestic electricity consumption \\n(kWh per meter)',\n",
      "       'Median domestic electricity consumption \\n(kWh per meter)'],\n",
      "      dtype='object')\n"
     ]
    }
   ],
   "source": [
    "for year in years:\n",
    "    df_to_reduce = pd.read_csv('raw_data_to_edit/LSOA_ELEC_{}.csv'.format(year))\n",
    "    print(df_to_reduce.shape)\n",
    "    print(df_to_reduce.columns)"
   ]
  },
  {
   "cell_type": "code",
   "execution_count": 12,
   "metadata": {},
   "outputs": [],
   "source": [
    "col_to_reduce = 'Lower Layer Super Output Area (LSOA) Code'\n",
    "col_lsoa = 'LSOA11CD'\n",
    "for year in years:\n",
    "    df_to_reduce = pd.read_csv('raw_data_to_edit/LSOA_ELEC_{}.csv'.format(year))\n",
    "    df_reduced = func_to_reduce_LSOA_codes(df_to_reduce, lsoa_codes_to_keep, col_to_reduce, col_lsoa)\n",
    "    df_reduced.to_csv('data/lsoa_elec_{}_reduced.csv'.format(year), index=False)"
   ]
  },
  {
   "cell_type": "code",
   "execution_count": 13,
   "metadata": {},
   "outputs": [
    {
     "name": "stdout",
     "output_type": "stream",
     "text": [
      "(34753, 10)\n",
      "(34753, 10)\n",
      "(34753, 10)\n",
      "(34753, 10)\n",
      "(34753, 10)\n",
      "(34753, 10)\n",
      "(34753, 10)\n",
      "(34753, 10)\n",
      "(34753, 10)\n",
      "(34753, 10)\n"
     ]
    }
   ],
   "source": [
    "for year in years:\n",
    "    test_df = pd.read_csv('data/lsoa_elec_{}_reduced.csv'.format(year))\n",
    "    print(test_df.shape)"
   ]
  },
  {
   "cell_type": "markdown",
   "metadata": {},
   "source": [
    "## MSOA granularity\n",
    "\n",
    "Output dataframe with MSOA codes as rows and years as energy usage. For each year, reduce to MSOA and append to a master dataframe."
   ]
  },
  {
   "cell_type": "code",
   "execution_count": 21,
   "metadata": {},
   "outputs": [],
   "source": [
    "# Choose column to keep\n",
    "col_name = 'Mean domestic electricity consumption \\n(kWh per meter)'"
   ]
  },
  {
   "cell_type": "code",
   "execution_count": 22,
   "metadata": {},
   "outputs": [],
   "source": [
    "year=2010\n",
    "df = pd.read_csv('raw_data_to_edit/LSOA_ELEC_{}.csv'.format(year))\n",
    "df.rename(columns={'Middle Layer Super Output Area (MSOA) Code':'MSOA11CD',\n",
    "                   col_name:'energy_cons_kWh_{}'.format(year)},inplace=True)\n",
    "\n",
    "df_msoa = pd.DataFrame(index=df.MSOA11CD)\n",
    "for year in years:\n",
    "    df_temp = pd.read_csv('raw_data_to_edit/LSOA_ELEC_{}.csv'.format(year))\n",
    "    df_temp.rename(columns={'Middle Layer Super Output Area (MSOA) Code':'MSOA11CD',\n",
    "                   col_name:'energy_cons_kWh_{}'.format(year)},inplace=True)\n",
    "    df_msoa_year = df_temp[['MSOA11CD','energy_cons_kWh_{}'.format(year)]].groupby('MSOA11CD').sum()\n",
    "    df_msoa = df_msoa.join(df_msoa_year)"
   ]
  },
  {
   "cell_type": "code",
   "execution_count": 23,
   "metadata": {},
   "outputs": [],
   "source": [
    "df_msoa.drop_duplicates(inplace=True)"
   ]
  },
  {
   "cell_type": "code",
   "execution_count": 57,
   "metadata": {},
   "outputs": [],
   "source": [
    "#df_msoa.to_csv('data/msoa_electricity_consumption_timeseries.csv')"
   ]
  },
  {
   "cell_type": "code",
   "execution_count": null,
   "metadata": {},
   "outputs": [],
   "source": []
  },
  {
   "cell_type": "code",
   "execution_count": null,
   "metadata": {},
   "outputs": [],
   "source": []
  }
 ],
 "metadata": {
  "kernelspec": {
   "display_name": "Python [conda env:Python3] *",
   "language": "python",
   "name": "conda-env-Python3-py"
  },
  "language_info": {
   "codemirror_mode": {
    "name": "ipython",
    "version": 3
   },
   "file_extension": ".py",
   "mimetype": "text/x-python",
   "name": "python",
   "nbconvert_exporter": "python",
   "pygments_lexer": "ipython3",
   "version": "3.8.2"
  }
 },
 "nbformat": 4,
 "nbformat_minor": 2
}
