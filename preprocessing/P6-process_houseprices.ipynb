{
 "cells": [
  {
   "cell_type": "markdown",
   "metadata": {},
   "source": [
    "## Processing house price data\n",
    "\n",
    "Imputing missing values."
   ]
  },
  {
   "cell_type": "code",
   "execution_count": 1,
   "metadata": {},
   "outputs": [],
   "source": [
    "import pandas as pd\n",
    "import geopandas as gpd\n",
    "import numpy as np"
   ]
  },
  {
   "cell_type": "code",
   "execution_count": 2,
   "metadata": {},
   "outputs": [],
   "source": [
    "df_houseprice = pd.read_excel('data/houseprices_median_lsoa.xls', sheet_name ='Data', skiprows=5)"
   ]
  },
  {
   "cell_type": "code",
   "execution_count": 3,
   "metadata": {},
   "outputs": [
    {
     "data": {
      "text/html": [
       "<div>\n",
       "<style scoped>\n",
       "    .dataframe tbody tr th:only-of-type {\n",
       "        vertical-align: middle;\n",
       "    }\n",
       "\n",
       "    .dataframe tbody tr th {\n",
       "        vertical-align: top;\n",
       "    }\n",
       "\n",
       "    .dataframe thead th {\n",
       "        text-align: right;\n",
       "    }\n",
       "</style>\n",
       "<table border=\"1\" class=\"dataframe\">\n",
       "  <thead>\n",
       "    <tr style=\"text-align: right;\">\n",
       "      <th></th>\n",
       "      <th>Local authority code</th>\n",
       "      <th>Local authority name</th>\n",
       "      <th>LSOA code</th>\n",
       "      <th>LSOA name</th>\n",
       "      <th>Year ending Dec 1995</th>\n",
       "      <th>Year ending Mar 1996</th>\n",
       "      <th>Year ending Jun 1996</th>\n",
       "      <th>Year ending Sep 1996</th>\n",
       "      <th>Year ending Dec 1996</th>\n",
       "      <th>Year ending Mar 1997</th>\n",
       "      <th>...</th>\n",
       "      <th>Year ending Sep 2018</th>\n",
       "      <th>Year ending Dec 2018</th>\n",
       "      <th>Year ending Mar 2019</th>\n",
       "      <th>Year ending Jun 2019</th>\n",
       "      <th>Year ending Sep 2019</th>\n",
       "      <th>Year ending Dec 2019</th>\n",
       "      <th>Year ending Mar 2020</th>\n",
       "      <th>Year ending Jun 2020</th>\n",
       "      <th>Year ending Sep 2020</th>\n",
       "      <th>Unnamed: 104</th>\n",
       "    </tr>\n",
       "  </thead>\n",
       "  <tbody>\n",
       "    <tr>\n",
       "      <th>0</th>\n",
       "      <td>E06000001</td>\n",
       "      <td>Hartlepool</td>\n",
       "      <td>E01011949</td>\n",
       "      <td>Hartlepool 009A</td>\n",
       "      <td>34750</td>\n",
       "      <td>34500</td>\n",
       "      <td>30500</td>\n",
       "      <td>30000</td>\n",
       "      <td>29950</td>\n",
       "      <td>29000</td>\n",
       "      <td>...</td>\n",
       "      <td>77500</td>\n",
       "      <td>77500</td>\n",
       "      <td>73250</td>\n",
       "      <td>77500</td>\n",
       "      <td>77500</td>\n",
       "      <td>77000</td>\n",
       "      <td>89000</td>\n",
       "      <td>84000</td>\n",
       "      <td>88000</td>\n",
       "      <td>NaN</td>\n",
       "    </tr>\n",
       "    <tr>\n",
       "      <th>1</th>\n",
       "      <td>E06000001</td>\n",
       "      <td>Hartlepool</td>\n",
       "      <td>E01011950</td>\n",
       "      <td>Hartlepool 008A</td>\n",
       "      <td>25000</td>\n",
       "      <td>25000</td>\n",
       "      <td>25300</td>\n",
       "      <td>25625</td>\n",
       "      <td>25000</td>\n",
       "      <td>24800</td>\n",
       "      <td>...</td>\n",
       "      <td>30000</td>\n",
       "      <td>28000</td>\n",
       "      <td>28000</td>\n",
       "      <td>29500</td>\n",
       "      <td>27000</td>\n",
       "      <td>27500</td>\n",
       "      <td>27000</td>\n",
       "      <td>26000</td>\n",
       "      <td>28000</td>\n",
       "      <td>NaN</td>\n",
       "    </tr>\n",
       "    <tr>\n",
       "      <th>2</th>\n",
       "      <td>E06000001</td>\n",
       "      <td>Hartlepool</td>\n",
       "      <td>E01011951</td>\n",
       "      <td>Hartlepool 007A</td>\n",
       "      <td>27000</td>\n",
       "      <td>27000</td>\n",
       "      <td>27250</td>\n",
       "      <td>28950</td>\n",
       "      <td>28500</td>\n",
       "      <td>28950</td>\n",
       "      <td>...</td>\n",
       "      <td>49000</td>\n",
       "      <td>50000</td>\n",
       "      <td>50000</td>\n",
       "      <td>46250</td>\n",
       "      <td>42800</td>\n",
       "      <td>39997.5</td>\n",
       "      <td>40000</td>\n",
       "      <td>29425</td>\n",
       "      <td>30000</td>\n",
       "      <td>NaN</td>\n",
       "    </tr>\n",
       "    <tr>\n",
       "      <th>3</th>\n",
       "      <td>E06000001</td>\n",
       "      <td>Hartlepool</td>\n",
       "      <td>E01011952</td>\n",
       "      <td>Hartlepool 002A</td>\n",
       "      <td>44500</td>\n",
       "      <td>44500</td>\n",
       "      <td>30000</td>\n",
       "      <td>26675</td>\n",
       "      <td>26000</td>\n",
       "      <td>25500</td>\n",
       "      <td>...</td>\n",
       "      <td>57000</td>\n",
       "      <td>58000</td>\n",
       "      <td>70000</td>\n",
       "      <td>70000</td>\n",
       "      <td>70000</td>\n",
       "      <td>66475</td>\n",
       "      <td>70000</td>\n",
       "      <td>66475</td>\n",
       "      <td>85000</td>\n",
       "      <td>NaN</td>\n",
       "    </tr>\n",
       "    <tr>\n",
       "      <th>4</th>\n",
       "      <td>E06000001</td>\n",
       "      <td>Hartlepool</td>\n",
       "      <td>E01011953</td>\n",
       "      <td>Hartlepool 002B</td>\n",
       "      <td>22000</td>\n",
       "      <td>27000</td>\n",
       "      <td>27000</td>\n",
       "      <td>20600</td>\n",
       "      <td>20000</td>\n",
       "      <td>19500</td>\n",
       "      <td>...</td>\n",
       "      <td>50000</td>\n",
       "      <td>68000</td>\n",
       "      <td>66000</td>\n",
       "      <td>59000</td>\n",
       "      <td>62000</td>\n",
       "      <td>58000</td>\n",
       "      <td>58000</td>\n",
       "      <td>60000</td>\n",
       "      <td>:</td>\n",
       "      <td>NaN</td>\n",
       "    </tr>\n",
       "  </tbody>\n",
       "</table>\n",
       "<p>5 rows × 105 columns</p>\n",
       "</div>"
      ],
      "text/plain": [
       "  Local authority code Local authority name  LSOA code        LSOA name  \\\n",
       "0            E06000001           Hartlepool  E01011949  Hartlepool 009A   \n",
       "1            E06000001           Hartlepool  E01011950  Hartlepool 008A   \n",
       "2            E06000001           Hartlepool  E01011951  Hartlepool 007A   \n",
       "3            E06000001           Hartlepool  E01011952  Hartlepool 002A   \n",
       "4            E06000001           Hartlepool  E01011953  Hartlepool 002B   \n",
       "\n",
       "  Year ending Dec 1995 Year ending Mar 1996 Year ending Jun 1996  \\\n",
       "0                34750                34500                30500   \n",
       "1                25000                25000                25300   \n",
       "2                27000                27000                27250   \n",
       "3                44500                44500                30000   \n",
       "4                22000                27000                27000   \n",
       "\n",
       "  Year ending Sep 1996 Year ending Dec 1996 Year ending Mar 1997  ...  \\\n",
       "0                30000                29950                29000  ...   \n",
       "1                25625                25000                24800  ...   \n",
       "2                28950                28500                28950  ...   \n",
       "3                26675                26000                25500  ...   \n",
       "4                20600                20000                19500  ...   \n",
       "\n",
       "  Year ending Sep 2018 Year ending Dec 2018 Year ending Mar 2019  \\\n",
       "0                77500                77500                73250   \n",
       "1                30000                28000                28000   \n",
       "2                49000                50000                50000   \n",
       "3                57000                58000                70000   \n",
       "4                50000                68000                66000   \n",
       "\n",
       "  Year ending Jun 2019 Year ending Sep 2019 Year ending Dec 2019  \\\n",
       "0                77500                77500                77000   \n",
       "1                29500                27000                27500   \n",
       "2                46250                42800              39997.5   \n",
       "3                70000                70000                66475   \n",
       "4                59000                62000                58000   \n",
       "\n",
       "  Year ending Mar 2020 Year ending Jun 2020 Year ending Sep 2020 Unnamed: 104  \n",
       "0                89000                84000                88000          NaN  \n",
       "1                27000                26000                28000          NaN  \n",
       "2                40000                29425                30000          NaN  \n",
       "3                70000                66475                85000          NaN  \n",
       "4                58000                60000                    :          NaN  \n",
       "\n",
       "[5 rows x 105 columns]"
      ]
     },
     "execution_count": 3,
     "metadata": {},
     "output_type": "execute_result"
    }
   ],
   "source": [
    "df_houseprice.head()"
   ]
  },
  {
   "cell_type": "markdown",
   "metadata": {},
   "source": [
    "### Keep most recent data, and assume constant"
   ]
  },
  {
   "cell_type": "code",
   "execution_count": 4,
   "metadata": {},
   "outputs": [],
   "source": [
    "df_houseprice = df_houseprice[['Local authority code', 'LSOA code', 'Year ending Dec 2019']]"
   ]
  },
  {
   "cell_type": "markdown",
   "metadata": {},
   "source": [
    "## Function definition for converting int to float, and imputing srt to mean of float"
   ]
  },
  {
   "cell_type": "code",
   "execution_count": 6,
   "metadata": {},
   "outputs": [],
   "source": [
    "def func_impute_to_float(df, col):\n",
    "    str_mask = [type(x) == str for x in df[col]]\n",
    "    int_mask = [type(x) == int for x in df[col]]\n",
    "    float_mask = [type(x) == float for x in df[col]]\n",
    "    type_mask = [type(x) for x in df[col]]\n",
    "    \n",
    "    if int in set(type_mask):\n",
    "        #set to be float\n",
    "        df[col][int_mask] = df[col][int_mask].astype('float')\n",
    "        float_mask = [type(x) == float for x in df[col]]\n",
    "    \n",
    "    if str in set(type_mask):\n",
    "        #set to be mean of numeric values\n",
    "        df[col][str_mask] = df[col][float_mask].mean()\n",
    "        \n",
    "    df[col] = df[col].astype('float')\n",
    "    \n",
    "    assert df[col].dtypes == 'float64'\n",
    "    \n",
    "    return df"
   ]
  },
  {
   "cell_type": "code",
   "execution_count": 7,
   "metadata": {},
   "outputs": [],
   "source": [
    "df_houseprice = func_impute_to_float(df_houseprice, 'Year ending Dec 2019')"
   ]
  },
  {
   "cell_type": "code",
   "execution_count": 8,
   "metadata": {},
   "outputs": [],
   "source": [
    "# run over every column we want to be numeric\n",
    "for col in df_houseprice.columns[4:]:\n",
    "    df_houseprice = func_impute_to_float(df_houseprice, col)\n"
   ]
  },
  {
   "cell_type": "code",
   "execution_count": 9,
   "metadata": {},
   "outputs": [
    {
     "data": {
      "text/plain": [
       "Local authority code     object\n",
       "LSOA code                object\n",
       "Year ending Dec 2019    float64\n",
       "dtype: object"
      ]
     },
     "execution_count": 9,
     "metadata": {},
     "output_type": "execute_result"
    }
   ],
   "source": [
    "df_houseprice.dtypes"
   ]
  },
  {
   "cell_type": "code",
   "execution_count": 10,
   "metadata": {},
   "outputs": [],
   "source": [
    "# save as csv\n",
    "#df_houseprice.to_csv('data/lsoa_houseprices.csv')"
   ]
  },
  {
   "cell_type": "markdown",
   "metadata": {},
   "source": [
    "### Map to MSOA"
   ]
  },
  {
   "cell_type": "code",
   "execution_count": 12,
   "metadata": {},
   "outputs": [],
   "source": [
    "msoa_to_lsoa = pd.read_csv('data/Output_Area_to_LSOA_to_MSOA_to_Local_Authority_District_(December_2017)_Lookup_with_Area_Classifications_in_Great_Britain.csv')"
   ]
  },
  {
   "cell_type": "code",
   "execution_count": 13,
   "metadata": {},
   "outputs": [],
   "source": [
    "msoa_to_lsoa = msoa_to_lsoa[['LSOA11CD','MSOA11CD']]"
   ]
  },
  {
   "cell_type": "code",
   "execution_count": 14,
   "metadata": {},
   "outputs": [
    {
     "name": "stdout",
     "output_type": "stream",
     "text": [
      "(227759, 2)\n",
      "41729\n",
      "8480\n"
     ]
    }
   ],
   "source": [
    "print(msoa_to_lsoa.shape)\n",
    "print(msoa_to_lsoa.LSOA11CD.nunique())\n",
    "print(msoa_to_lsoa.MSOA11CD.nunique())"
   ]
  },
  {
   "cell_type": "code",
   "execution_count": 15,
   "metadata": {},
   "outputs": [
    {
     "data": {
      "text/plain": [
       "(41729, 2)"
      ]
     },
     "execution_count": 15,
     "metadata": {},
     "output_type": "execute_result"
    }
   ],
   "source": [
    "msoa_to_lsoa.drop_duplicates(inplace=True)\n",
    "msoa_to_lsoa.shape"
   ]
  },
  {
   "cell_type": "code",
   "execution_count": 16,
   "metadata": {},
   "outputs": [
    {
     "data": {
      "text/plain": [
       "41729"
      ]
     },
     "execution_count": 16,
     "metadata": {},
     "output_type": "execute_result"
    }
   ],
   "source": [
    "msoa_to_lsoa.LSOA11CD.nunique()"
   ]
  },
  {
   "cell_type": "code",
   "execution_count": 17,
   "metadata": {},
   "outputs": [
    {
     "data": {
      "text/plain": [
       "34753"
      ]
     },
     "execution_count": 17,
     "metadata": {},
     "output_type": "execute_result"
    }
   ],
   "source": [
    "df_houseprice['LSOA code'].nunique()"
   ]
  },
  {
   "cell_type": "code",
   "execution_count": 18,
   "metadata": {},
   "outputs": [],
   "source": [
    "# drop unnecessary lsoa regions\n",
    "msoa_to_lsoa.drop(msoa_to_lsoa[~msoa_to_lsoa['LSOA11CD'].isin(df_houseprice['LSOA code'])].index,inplace=True)"
   ]
  },
  {
   "cell_type": "code",
   "execution_count": 19,
   "metadata": {},
   "outputs": [
    {
     "data": {
      "text/plain": [
       "34753"
      ]
     },
     "execution_count": 19,
     "metadata": {},
     "output_type": "execute_result"
    }
   ],
   "source": [
    "msoa_to_lsoa.LSOA11CD.nunique()"
   ]
  },
  {
   "cell_type": "code",
   "execution_count": 20,
   "metadata": {},
   "outputs": [],
   "source": [
    "# merge with df\n",
    "msoa_houseprice = df_houseprice.merge(msoa_to_lsoa, left_on='LSOA code', right_on='LSOA11CD', how ='inner')"
   ]
  },
  {
   "cell_type": "code",
   "execution_count": 22,
   "metadata": {},
   "outputs": [
    {
     "data": {
      "text/html": [
       "<div>\n",
       "<style scoped>\n",
       "    .dataframe tbody tr th:only-of-type {\n",
       "        vertical-align: middle;\n",
       "    }\n",
       "\n",
       "    .dataframe tbody tr th {\n",
       "        vertical-align: top;\n",
       "    }\n",
       "\n",
       "    .dataframe thead th {\n",
       "        text-align: right;\n",
       "    }\n",
       "</style>\n",
       "<table border=\"1\" class=\"dataframe\">\n",
       "  <thead>\n",
       "    <tr style=\"text-align: right;\">\n",
       "      <th></th>\n",
       "      <th>Local authority code</th>\n",
       "      <th>LSOA code</th>\n",
       "      <th>Year ending Dec 2019</th>\n",
       "      <th>LSOA11CD</th>\n",
       "      <th>MSOA11CD</th>\n",
       "    </tr>\n",
       "  </thead>\n",
       "  <tbody>\n",
       "    <tr>\n",
       "      <th>0</th>\n",
       "      <td>E06000001</td>\n",
       "      <td>E01011949</td>\n",
       "      <td>77000.0</td>\n",
       "      <td>E01011949</td>\n",
       "      <td>E02002491</td>\n",
       "    </tr>\n",
       "    <tr>\n",
       "      <th>1</th>\n",
       "      <td>E06000001</td>\n",
       "      <td>E01011950</td>\n",
       "      <td>27500.0</td>\n",
       "      <td>E01011950</td>\n",
       "      <td>E02002490</td>\n",
       "    </tr>\n",
       "    <tr>\n",
       "      <th>2</th>\n",
       "      <td>E06000001</td>\n",
       "      <td>E01011951</td>\n",
       "      <td>39997.5</td>\n",
       "      <td>E01011951</td>\n",
       "      <td>E02002489</td>\n",
       "    </tr>\n",
       "    <tr>\n",
       "      <th>3</th>\n",
       "      <td>E06000001</td>\n",
       "      <td>E01011952</td>\n",
       "      <td>66475.0</td>\n",
       "      <td>E01011952</td>\n",
       "      <td>E02002484</td>\n",
       "    </tr>\n",
       "    <tr>\n",
       "      <th>4</th>\n",
       "      <td>E06000001</td>\n",
       "      <td>E01011953</td>\n",
       "      <td>58000.0</td>\n",
       "      <td>E01011953</td>\n",
       "      <td>E02002484</td>\n",
       "    </tr>\n",
       "  </tbody>\n",
       "</table>\n",
       "</div>"
      ],
      "text/plain": [
       "  Local authority code  LSOA code  Year ending Dec 2019   LSOA11CD   MSOA11CD\n",
       "0            E06000001  E01011949               77000.0  E01011949  E02002491\n",
       "1            E06000001  E01011950               27500.0  E01011950  E02002490\n",
       "2            E06000001  E01011951               39997.5  E01011951  E02002489\n",
       "3            E06000001  E01011952               66475.0  E01011952  E02002484\n",
       "4            E06000001  E01011953               58000.0  E01011953  E02002484"
      ]
     },
     "execution_count": 22,
     "metadata": {},
     "output_type": "execute_result"
    }
   ],
   "source": [
    "msoa_houseprice.head()"
   ]
  },
  {
   "cell_type": "code",
   "execution_count": 23,
   "metadata": {},
   "outputs": [
    {
     "data": {
      "text/plain": [
       "7201"
      ]
     },
     "execution_count": 23,
     "metadata": {},
     "output_type": "execute_result"
    }
   ],
   "source": [
    "msoa_houseprice.MSOA11CD.nunique()"
   ]
  },
  {
   "cell_type": "code",
   "execution_count": 24,
   "metadata": {},
   "outputs": [
    {
     "data": {
      "text/plain": [
       "(34753, 5)"
      ]
     },
     "execution_count": 24,
     "metadata": {},
     "output_type": "execute_result"
    }
   ],
   "source": [
    "msoa_houseprice.shape"
   ]
  },
  {
   "cell_type": "code",
   "execution_count": 25,
   "metadata": {},
   "outputs": [],
   "source": [
    "msoa_summed_houseprice = msoa_houseprice[['MSOA11CD', 'Year ending Dec 2019']].groupby(['MSOA11CD']).sum()"
   ]
  },
  {
   "cell_type": "code",
   "execution_count": 26,
   "metadata": {},
   "outputs": [],
   "source": [
    "msoa_lsoa_count = msoa_houseprice[['MSOA11CD', 'LSOA11CD']].groupby(['MSOA11CD']).count()"
   ]
  },
  {
   "cell_type": "code",
   "execution_count": 27,
   "metadata": {},
   "outputs": [
    {
     "data": {
      "text/html": [
       "<div>\n",
       "<style scoped>\n",
       "    .dataframe tbody tr th:only-of-type {\n",
       "        vertical-align: middle;\n",
       "    }\n",
       "\n",
       "    .dataframe tbody tr th {\n",
       "        vertical-align: top;\n",
       "    }\n",
       "\n",
       "    .dataframe thead th {\n",
       "        text-align: right;\n",
       "    }\n",
       "</style>\n",
       "<table border=\"1\" class=\"dataframe\">\n",
       "  <thead>\n",
       "    <tr style=\"text-align: right;\">\n",
       "      <th></th>\n",
       "      <th>Year ending Dec 2019</th>\n",
       "      <th>LSOA11CD</th>\n",
       "      <th>houseprice_avg_2019</th>\n",
       "    </tr>\n",
       "    <tr>\n",
       "      <th>MSOA11CD</th>\n",
       "      <th></th>\n",
       "      <th></th>\n",
       "      <th></th>\n",
       "    </tr>\n",
       "  </thead>\n",
       "  <tbody>\n",
       "    <tr>\n",
       "      <th>E02000001</th>\n",
       "      <td>4.838950e+06</td>\n",
       "      <td>6</td>\n",
       "      <td>806491.623740</td>\n",
       "    </tr>\n",
       "    <tr>\n",
       "      <th>E02000002</th>\n",
       "      <td>1.428824e+06</td>\n",
       "      <td>4</td>\n",
       "      <td>357206.000000</td>\n",
       "    </tr>\n",
       "    <tr>\n",
       "      <th>E02000003</th>\n",
       "      <td>2.138500e+06</td>\n",
       "      <td>6</td>\n",
       "      <td>356416.666667</td>\n",
       "    </tr>\n",
       "    <tr>\n",
       "      <th>E02000004</th>\n",
       "      <td>1.369000e+06</td>\n",
       "      <td>4</td>\n",
       "      <td>342250.000000</td>\n",
       "    </tr>\n",
       "    <tr>\n",
       "      <th>E02000005</th>\n",
       "      <td>1.632500e+06</td>\n",
       "      <td>5</td>\n",
       "      <td>326500.000000</td>\n",
       "    </tr>\n",
       "  </tbody>\n",
       "</table>\n",
       "</div>"
      ],
      "text/plain": [
       "           Year ending Dec 2019  LSOA11CD  houseprice_avg_2019\n",
       "MSOA11CD                                                      \n",
       "E02000001          4.838950e+06         6        806491.623740\n",
       "E02000002          1.428824e+06         4        357206.000000\n",
       "E02000003          2.138500e+06         6        356416.666667\n",
       "E02000004          1.369000e+06         4        342250.000000\n",
       "E02000005          1.632500e+06         5        326500.000000"
      ]
     },
     "execution_count": 27,
     "metadata": {},
     "output_type": "execute_result"
    }
   ],
   "source": [
    "msoa_avg_houseprice = msoa_summed_houseprice.merge(msoa_lsoa_count, on='MSOA11CD')\n",
    "msoa_avg_houseprice['houseprice_avg_2019'] = msoa_avg_houseprice['Year ending Dec 2019'] / msoa_avg_houseprice['LSOA11CD']\n",
    "msoa_avg_houseprice.head()"
   ]
  },
  {
   "cell_type": "code",
   "execution_count": 28,
   "metadata": {},
   "outputs": [
    {
     "data": {
      "text/html": [
       "<div>\n",
       "<style scoped>\n",
       "    .dataframe tbody tr th:only-of-type {\n",
       "        vertical-align: middle;\n",
       "    }\n",
       "\n",
       "    .dataframe tbody tr th {\n",
       "        vertical-align: top;\n",
       "    }\n",
       "\n",
       "    .dataframe thead th {\n",
       "        text-align: right;\n",
       "    }\n",
       "</style>\n",
       "<table border=\"1\" class=\"dataframe\">\n",
       "  <thead>\n",
       "    <tr style=\"text-align: right;\">\n",
       "      <th></th>\n",
       "      <th>MSOA11CD</th>\n",
       "      <th>houseprice_avg_2019</th>\n",
       "    </tr>\n",
       "  </thead>\n",
       "  <tbody>\n",
       "    <tr>\n",
       "      <th>0</th>\n",
       "      <td>E02000001</td>\n",
       "      <td>806491.623740</td>\n",
       "    </tr>\n",
       "    <tr>\n",
       "      <th>1</th>\n",
       "      <td>E02000002</td>\n",
       "      <td>357206.000000</td>\n",
       "    </tr>\n",
       "    <tr>\n",
       "      <th>2</th>\n",
       "      <td>E02000003</td>\n",
       "      <td>356416.666667</td>\n",
       "    </tr>\n",
       "    <tr>\n",
       "      <th>3</th>\n",
       "      <td>E02000004</td>\n",
       "      <td>342250.000000</td>\n",
       "    </tr>\n",
       "    <tr>\n",
       "      <th>4</th>\n",
       "      <td>E02000005</td>\n",
       "      <td>326500.000000</td>\n",
       "    </tr>\n",
       "  </tbody>\n",
       "</table>\n",
       "</div>"
      ],
      "text/plain": [
       "    MSOA11CD  houseprice_avg_2019\n",
       "0  E02000001        806491.623740\n",
       "1  E02000002        357206.000000\n",
       "2  E02000003        356416.666667\n",
       "3  E02000004        342250.000000\n",
       "4  E02000005        326500.000000"
      ]
     },
     "execution_count": 28,
     "metadata": {},
     "output_type": "execute_result"
    }
   ],
   "source": [
    "msoa_avg_houseprice.reset_index(inplace=True)\n",
    "msoa_avg_houseprice = msoa_avg_houseprice[['MSOA11CD', 'houseprice_avg_2019']]\n",
    "msoa_avg_houseprice.head()"
   ]
  },
  {
   "cell_type": "code",
   "execution_count": 56,
   "metadata": {},
   "outputs": [],
   "source": [
    "#msoa_avg_houseprice.to_csv('data/msoa_houseprice.csv')"
   ]
  },
  {
   "cell_type": "code",
   "execution_count": null,
   "metadata": {},
   "outputs": [],
   "source": []
  }
 ],
 "metadata": {
  "kernelspec": {
   "display_name": "Python [conda env:Python3] *",
   "language": "python",
   "name": "conda-env-Python3-py"
  },
  "language_info": {
   "codemirror_mode": {
    "name": "ipython",
    "version": 3
   },
   "file_extension": ".py",
   "mimetype": "text/x-python",
   "name": "python",
   "nbconvert_exporter": "python",
   "pygments_lexer": "ipython3",
   "version": "3.8.2"
  }
 },
 "nbformat": 4,
 "nbformat_minor": 2
}
