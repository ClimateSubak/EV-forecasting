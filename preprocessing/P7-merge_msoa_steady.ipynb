{
 "cells": [
  {
   "cell_type": "code",
   "execution_count": 1,
   "metadata": {},
   "outputs": [],
   "source": [
    "import pandas as pd\n",
    "import seaborn as sns\n",
    "import matplotlib.pyplot as plt"
   ]
  },
  {
   "cell_type": "markdown",
   "metadata": {},
   "source": [
    "## MSOA data\n",
    "\n",
    "In this notebook, I am reconstructing the MSOA dataset to check for any errors, and any mismatching keys on merging etc.\n",
    "\n",
    "This notebook is the corrected version. Previous versions will be removed.\n",
    "\n",
    "\n",
    "Features:\n",
    "1. Income\n",
    "2. Houseprice\n",
    "3. Electricity consumption\n",
    "4. Index of multiple deprivation decile\n",
    "5. Rural-urban classification (cat)\n",
    "6. Solar panel count (transient)\n",
    "7. Public EV charger count (transient)\n",
    "8. Private EV charger count (transient)\n",
    "9. Average EV price (transient)\n",
    "10. EV count (transient) <- variable to predict\n",
    "\n",
    "\n",
    "\n",
    "### 1. Income"
   ]
  },
  {
   "cell_type": "code",
   "execution_count": 2,
   "metadata": {},
   "outputs": [],
   "source": [
    "# load income and just keep most recent\n",
    "df = pd.read_csv('msoa_annual_income.csv',index_col=0)\n",
    "df = df[['MSOA_code','total_annual_income_2019']]"
   ]
  },
  {
   "cell_type": "code",
   "execution_count": 3,
   "metadata": {},
   "outputs": [
    {
     "data": {
      "text/plain": [
       "(7201, 2)"
      ]
     },
     "execution_count": 3,
     "metadata": {},
     "output_type": "execute_result"
    }
   ],
   "source": [
    "df.shape"
   ]
  },
  {
   "cell_type": "markdown",
   "metadata": {},
   "source": [
    "### 2. Houseprice"
   ]
  },
  {
   "cell_type": "code",
   "execution_count": 4,
   "metadata": {},
   "outputs": [
    {
     "data": {
      "text/html": [
       "<div>\n",
       "<style scoped>\n",
       "    .dataframe tbody tr th:only-of-type {\n",
       "        vertical-align: middle;\n",
       "    }\n",
       "\n",
       "    .dataframe tbody tr th {\n",
       "        vertical-align: top;\n",
       "    }\n",
       "\n",
       "    .dataframe thead th {\n",
       "        text-align: right;\n",
       "    }\n",
       "</style>\n",
       "<table border=\"1\" class=\"dataframe\">\n",
       "  <thead>\n",
       "    <tr style=\"text-align: right;\">\n",
       "      <th></th>\n",
       "      <th>MSOA11CD</th>\n",
       "      <th>houseprice_avg_2019</th>\n",
       "    </tr>\n",
       "  </thead>\n",
       "  <tbody>\n",
       "    <tr>\n",
       "      <th>0</th>\n",
       "      <td>E02000001</td>\n",
       "      <td>806491.623740</td>\n",
       "    </tr>\n",
       "    <tr>\n",
       "      <th>1</th>\n",
       "      <td>E02000002</td>\n",
       "      <td>357206.000000</td>\n",
       "    </tr>\n",
       "    <tr>\n",
       "      <th>2</th>\n",
       "      <td>E02000003</td>\n",
       "      <td>356416.666667</td>\n",
       "    </tr>\n",
       "    <tr>\n",
       "      <th>3</th>\n",
       "      <td>E02000004</td>\n",
       "      <td>342250.000000</td>\n",
       "    </tr>\n",
       "    <tr>\n",
       "      <th>4</th>\n",
       "      <td>E02000005</td>\n",
       "      <td>326500.000000</td>\n",
       "    </tr>\n",
       "  </tbody>\n",
       "</table>\n",
       "</div>"
      ],
      "text/plain": [
       "    MSOA11CD  houseprice_avg_2019\n",
       "0  E02000001        806491.623740\n",
       "1  E02000002        357206.000000\n",
       "2  E02000003        356416.666667\n",
       "3  E02000004        342250.000000\n",
       "4  E02000005        326500.000000"
      ]
     },
     "execution_count": 4,
     "metadata": {},
     "output_type": "execute_result"
    }
   ],
   "source": [
    "df1 = pd.read_csv('data/msoa_houseprice.csv',index_col=0)\n",
    "df1.head()"
   ]
  },
  {
   "cell_type": "code",
   "execution_count": 5,
   "metadata": {},
   "outputs": [
    {
     "data": {
      "text/html": [
       "<div>\n",
       "<style scoped>\n",
       "    .dataframe tbody tr th:only-of-type {\n",
       "        vertical-align: middle;\n",
       "    }\n",
       "\n",
       "    .dataframe tbody tr th {\n",
       "        vertical-align: top;\n",
       "    }\n",
       "\n",
       "    .dataframe thead th {\n",
       "        text-align: right;\n",
       "    }\n",
       "</style>\n",
       "<table border=\"1\" class=\"dataframe\">\n",
       "  <thead>\n",
       "    <tr style=\"text-align: right;\">\n",
       "      <th></th>\n",
       "      <th>MSOA_code</th>\n",
       "      <th>total_annual_income_2019</th>\n",
       "    </tr>\n",
       "  </thead>\n",
       "  <tbody>\n",
       "    <tr>\n",
       "      <th>0</th>\n",
       "      <td>E02004297</td>\n",
       "      <td>40650.0</td>\n",
       "    </tr>\n",
       "    <tr>\n",
       "      <th>1</th>\n",
       "      <td>E02004290</td>\n",
       "      <td>43260.0</td>\n",
       "    </tr>\n",
       "    <tr>\n",
       "      <th>2</th>\n",
       "      <td>E02004298</td>\n",
       "      <td>40635.0</td>\n",
       "    </tr>\n",
       "    <tr>\n",
       "      <th>3</th>\n",
       "      <td>E02004299</td>\n",
       "      <td>34450.0</td>\n",
       "    </tr>\n",
       "    <tr>\n",
       "      <th>4</th>\n",
       "      <td>E02004291</td>\n",
       "      <td>34730.0</td>\n",
       "    </tr>\n",
       "  </tbody>\n",
       "</table>\n",
       "</div>"
      ],
      "text/plain": [
       "   MSOA_code  total_annual_income_2019\n",
       "0  E02004297                   40650.0\n",
       "1  E02004290                   43260.0\n",
       "2  E02004298                   40635.0\n",
       "3  E02004299                   34450.0\n",
       "4  E02004291                   34730.0"
      ]
     },
     "execution_count": 5,
     "metadata": {},
     "output_type": "execute_result"
    }
   ],
   "source": [
    "df.head()"
   ]
  },
  {
   "cell_type": "code",
   "execution_count": 6,
   "metadata": {},
   "outputs": [
    {
     "data": {
      "text/html": [
       "<div>\n",
       "<style scoped>\n",
       "    .dataframe tbody tr th:only-of-type {\n",
       "        vertical-align: middle;\n",
       "    }\n",
       "\n",
       "    .dataframe tbody tr th {\n",
       "        vertical-align: top;\n",
       "    }\n",
       "\n",
       "    .dataframe thead th {\n",
       "        text-align: right;\n",
       "    }\n",
       "</style>\n",
       "<table border=\"1\" class=\"dataframe\">\n",
       "  <thead>\n",
       "    <tr style=\"text-align: right;\">\n",
       "      <th></th>\n",
       "      <th>MSOA11CD</th>\n",
       "      <th>total_annual_income_2019</th>\n",
       "      <th>houseprice_avg_2019</th>\n",
       "    </tr>\n",
       "  </thead>\n",
       "  <tbody>\n",
       "    <tr>\n",
       "      <th>0</th>\n",
       "      <td>E02004297</td>\n",
       "      <td>40650.0</td>\n",
       "      <td>129990.000000</td>\n",
       "    </tr>\n",
       "    <tr>\n",
       "      <th>1</th>\n",
       "      <td>E02004290</td>\n",
       "      <td>43260.0</td>\n",
       "      <td>135343.750000</td>\n",
       "    </tr>\n",
       "    <tr>\n",
       "      <th>2</th>\n",
       "      <td>E02004298</td>\n",
       "      <td>40635.0</td>\n",
       "      <td>136866.666667</td>\n",
       "    </tr>\n",
       "    <tr>\n",
       "      <th>3</th>\n",
       "      <td>E02004299</td>\n",
       "      <td>34450.0</td>\n",
       "      <td>109200.000000</td>\n",
       "    </tr>\n",
       "    <tr>\n",
       "      <th>4</th>\n",
       "      <td>E02004291</td>\n",
       "      <td>34730.0</td>\n",
       "      <td>95375.000000</td>\n",
       "    </tr>\n",
       "  </tbody>\n",
       "</table>\n",
       "</div>"
      ],
      "text/plain": [
       "    MSOA11CD  total_annual_income_2019  houseprice_avg_2019\n",
       "0  E02004297                   40650.0        129990.000000\n",
       "1  E02004290                   43260.0        135343.750000\n",
       "2  E02004298                   40635.0        136866.666667\n",
       "3  E02004299                   34450.0        109200.000000\n",
       "4  E02004291                   34730.0         95375.000000"
      ]
     },
     "execution_count": 6,
     "metadata": {},
     "output_type": "execute_result"
    }
   ],
   "source": [
    "df = df.merge(df1, left_on ='MSOA_code', right_on='MSOA11CD')\n",
    "df = df[['MSOA11CD', 'total_annual_income_2019','houseprice_avg_2019']]\n",
    "df.head()"
   ]
  },
  {
   "cell_type": "markdown",
   "metadata": {},
   "source": [
    "### 3. Index of Multiple Deprivation"
   ]
  },
  {
   "cell_type": "code",
   "execution_count": 7,
   "metadata": {},
   "outputs": [],
   "source": [
    "df1 = pd.read_csv('data/msoa_imd.csv')"
   ]
  },
  {
   "cell_type": "code",
   "execution_count": 8,
   "metadata": {},
   "outputs": [
    {
     "data": {
      "text/html": [
       "<div>\n",
       "<style scoped>\n",
       "    .dataframe tbody tr th:only-of-type {\n",
       "        vertical-align: middle;\n",
       "    }\n",
       "\n",
       "    .dataframe tbody tr th {\n",
       "        vertical-align: top;\n",
       "    }\n",
       "\n",
       "    .dataframe thead th {\n",
       "        text-align: right;\n",
       "    }\n",
       "</style>\n",
       "<table border=\"1\" class=\"dataframe\">\n",
       "  <thead>\n",
       "    <tr style=\"text-align: right;\">\n",
       "      <th></th>\n",
       "      <th>MSOA11CD</th>\n",
       "      <th>total_annual_income_2019</th>\n",
       "      <th>houseprice_avg_2019</th>\n",
       "      <th>IMDRank</th>\n",
       "      <th>IMDDecil</th>\n",
       "    </tr>\n",
       "  </thead>\n",
       "  <tbody>\n",
       "    <tr>\n",
       "      <th>0</th>\n",
       "      <td>E02004297</td>\n",
       "      <td>40650.0</td>\n",
       "      <td>129990.000000</td>\n",
       "      <td>20450.20</td>\n",
       "      <td>6.0</td>\n",
       "    </tr>\n",
       "    <tr>\n",
       "      <th>1</th>\n",
       "      <td>E02004290</td>\n",
       "      <td>43260.0</td>\n",
       "      <td>135343.750000</td>\n",
       "      <td>21972.50</td>\n",
       "      <td>8.0</td>\n",
       "    </tr>\n",
       "    <tr>\n",
       "      <th>2</th>\n",
       "      <td>E02004298</td>\n",
       "      <td>40635.0</td>\n",
       "      <td>136866.666667</td>\n",
       "      <td>18949.50</td>\n",
       "      <td>6.5</td>\n",
       "    </tr>\n",
       "    <tr>\n",
       "      <th>3</th>\n",
       "      <td>E02004299</td>\n",
       "      <td>34450.0</td>\n",
       "      <td>109200.000000</td>\n",
       "      <td>10635.60</td>\n",
       "      <td>4.0</td>\n",
       "    </tr>\n",
       "    <tr>\n",
       "      <th>4</th>\n",
       "      <td>E02004291</td>\n",
       "      <td>34730.0</td>\n",
       "      <td>95375.000000</td>\n",
       "      <td>7844.25</td>\n",
       "      <td>2.5</td>\n",
       "    </tr>\n",
       "  </tbody>\n",
       "</table>\n",
       "</div>"
      ],
      "text/plain": [
       "    MSOA11CD  total_annual_income_2019  houseprice_avg_2019   IMDRank  \\\n",
       "0  E02004297                   40650.0        129990.000000  20450.20   \n",
       "1  E02004290                   43260.0        135343.750000  21972.50   \n",
       "2  E02004298                   40635.0        136866.666667  18949.50   \n",
       "3  E02004299                   34450.0        109200.000000  10635.60   \n",
       "4  E02004291                   34730.0         95375.000000   7844.25   \n",
       "\n",
       "   IMDDecil  \n",
       "0       6.0  \n",
       "1       8.0  \n",
       "2       6.5  \n",
       "3       4.0  \n",
       "4       2.5  "
      ]
     },
     "execution_count": 8,
     "metadata": {},
     "output_type": "execute_result"
    }
   ],
   "source": [
    "df = df.merge(df1, on='MSOA11CD')\n",
    "df.head()"
   ]
  },
  {
   "cell_type": "markdown",
   "metadata": {},
   "source": [
    "### 4. RUC"
   ]
  },
  {
   "cell_type": "code",
   "execution_count": 9,
   "metadata": {},
   "outputs": [],
   "source": [
    "df1 = pd.read_csv('data/msoa_ruc.csv')"
   ]
  },
  {
   "cell_type": "code",
   "execution_count": 10,
   "metadata": {},
   "outputs": [
    {
     "data": {
      "text/html": [
       "<div>\n",
       "<style scoped>\n",
       "    .dataframe tbody tr th:only-of-type {\n",
       "        vertical-align: middle;\n",
       "    }\n",
       "\n",
       "    .dataframe tbody tr th {\n",
       "        vertical-align: top;\n",
       "    }\n",
       "\n",
       "    .dataframe thead th {\n",
       "        text-align: right;\n",
       "    }\n",
       "</style>\n",
       "<table border=\"1\" class=\"dataframe\">\n",
       "  <thead>\n",
       "    <tr style=\"text-align: right;\">\n",
       "      <th></th>\n",
       "      <th>MSOA11CD</th>\n",
       "      <th>total_annual_income_2019</th>\n",
       "      <th>houseprice_avg_2019</th>\n",
       "      <th>IMDRank</th>\n",
       "      <th>IMDDecil</th>\n",
       "      <th>RUC11</th>\n",
       "    </tr>\n",
       "  </thead>\n",
       "  <tbody>\n",
       "    <tr>\n",
       "      <th>0</th>\n",
       "      <td>E02004297</td>\n",
       "      <td>40650.0</td>\n",
       "      <td>129990.000000</td>\n",
       "      <td>20450.20</td>\n",
       "      <td>6.0</td>\n",
       "      <td>Rural town and fringe</td>\n",
       "    </tr>\n",
       "    <tr>\n",
       "      <th>1</th>\n",
       "      <td>E02004290</td>\n",
       "      <td>43260.0</td>\n",
       "      <td>135343.750000</td>\n",
       "      <td>21972.50</td>\n",
       "      <td>8.0</td>\n",
       "      <td>Urban major conurbation</td>\n",
       "    </tr>\n",
       "    <tr>\n",
       "      <th>2</th>\n",
       "      <td>E02004298</td>\n",
       "      <td>40635.0</td>\n",
       "      <td>136866.666667</td>\n",
       "      <td>18949.50</td>\n",
       "      <td>6.5</td>\n",
       "      <td>Urban city and town</td>\n",
       "    </tr>\n",
       "    <tr>\n",
       "      <th>3</th>\n",
       "      <td>E02004299</td>\n",
       "      <td>34450.0</td>\n",
       "      <td>109200.000000</td>\n",
       "      <td>10635.60</td>\n",
       "      <td>4.0</td>\n",
       "      <td>Urban city and town</td>\n",
       "    </tr>\n",
       "    <tr>\n",
       "      <th>4</th>\n",
       "      <td>E02004291</td>\n",
       "      <td>34730.0</td>\n",
       "      <td>95375.000000</td>\n",
       "      <td>7844.25</td>\n",
       "      <td>2.5</td>\n",
       "      <td>Urban major conurbation</td>\n",
       "    </tr>\n",
       "  </tbody>\n",
       "</table>\n",
       "</div>"
      ],
      "text/plain": [
       "    MSOA11CD  total_annual_income_2019  houseprice_avg_2019   IMDRank  \\\n",
       "0  E02004297                   40650.0        129990.000000  20450.20   \n",
       "1  E02004290                   43260.0        135343.750000  21972.50   \n",
       "2  E02004298                   40635.0        136866.666667  18949.50   \n",
       "3  E02004299                   34450.0        109200.000000  10635.60   \n",
       "4  E02004291                   34730.0         95375.000000   7844.25   \n",
       "\n",
       "   IMDDecil                    RUC11  \n",
       "0       6.0    Rural town and fringe  \n",
       "1       8.0  Urban major conurbation  \n",
       "2       6.5      Urban city and town  \n",
       "3       4.0      Urban city and town  \n",
       "4       2.5  Urban major conurbation  "
      ]
     },
     "execution_count": 10,
     "metadata": {},
     "output_type": "execute_result"
    }
   ],
   "source": [
    "df = df.merge(df1, on='MSOA11CD')\n",
    "df.head()"
   ]
  },
  {
   "cell_type": "markdown",
   "metadata": {},
   "source": [
    "### 5. (T) EV count (target variable)\n",
    "\n",
    "(T) for transient variables.\n",
    "\n",
    "MOT data. So select only MSOA with MOT centres."
   ]
  },
  {
   "cell_type": "code",
   "execution_count": 11,
   "metadata": {},
   "outputs": [],
   "source": [
    "df1 = pd.read_csv('data/msoa_ev_count_dated.csv')\n",
    "df1.set_index('msoa11cd', inplace=True)\n",
    "for col in df1.columns:\n",
    "    df1.rename(columns={col:col[:7]},inplace=True)\n",
    "#df1 = df1[['index','2021-04']]\n",
    "#df1.rename(columns={'index':'MSOA11CD', '2021-04':'ev_count_2021'}, inplace=True)\n",
    "df1 = df1[df1.columns.sort_values()]\n",
    "df1 = df1[df1.columns[-88:]]"
   ]
  },
  {
   "cell_type": "code",
   "execution_count": 12,
   "metadata": {},
   "outputs": [],
   "source": [
    "df_mot = pd.read_csv('data/mot_locations_lsoa_msoa_pcd.csv')\n",
    "msoa_to_keep = df_mot.msoa11cd.unique()"
   ]
  },
  {
   "cell_type": "code",
   "execution_count": 13,
   "metadata": {},
   "outputs": [],
   "source": [
    "df1.reset_index(inplace=True)\n",
    "df1 = df1[df1['msoa11cd'].isin(msoa_to_keep)]"
   ]
  },
  {
   "cell_type": "code",
   "execution_count": 14,
   "metadata": {},
   "outputs": [
    {
     "name": "stdout",
     "output_type": "stream",
     "text": [
      "5740\n",
      "4392\n",
      "(5740, 89)\n",
      "5740\n"
     ]
    }
   ],
   "source": [
    "# pad missing msoas with zeros\n",
    "\n",
    "print(len(msoa_to_keep))\n",
    "print(df1.msoa11cd.nunique())\n",
    "\n",
    "missing_msoa = list(set(msoa_to_keep) - set(df1.msoa11cd.unique()))\n",
    "\n",
    "#df1.set_index(['msoa11cd'],inplace=True)\n",
    "# store the dates\n",
    "columns_names = df1.columns.values\n",
    "\n",
    "# for each msoa add a row of zeros\n",
    "df_missing_msoa = pd.DataFrame(columns=columns_names)\n",
    "for i in range(len(missing_msoa)):\n",
    "    df_missing_msoa = df_missing_msoa.append(pd.Series({\"msoa11cd\": missing_msoa[i],\n",
    "                         columns_names[2]: 0}),ignore_index=True)\n",
    "df_missing_msoa.fillna(0,inplace=True)\n",
    "\n",
    "df1= df1.append(df_missing_msoa)\n",
    "df1.reset_index(drop=True)\n",
    "print(df1.shape)\n",
    "print(df1.msoa11cd.nunique())"
   ]
  },
  {
   "cell_type": "code",
   "execution_count": 15,
   "metadata": {},
   "outputs": [],
   "source": [
    "df = df.merge(df1[['msoa11cd','2021-04']], left_on='MSOA11CD', right_on='msoa11cd')"
   ]
  },
  {
   "cell_type": "code",
   "execution_count": 16,
   "metadata": {},
   "outputs": [
    {
     "name": "stdout",
     "output_type": "stream",
     "text": [
      "(5740, 8)\n"
     ]
    },
    {
     "data": {
      "text/html": [
       "<div>\n",
       "<style scoped>\n",
       "    .dataframe tbody tr th:only-of-type {\n",
       "        vertical-align: middle;\n",
       "    }\n",
       "\n",
       "    .dataframe tbody tr th {\n",
       "        vertical-align: top;\n",
       "    }\n",
       "\n",
       "    .dataframe thead th {\n",
       "        text-align: right;\n",
       "    }\n",
       "</style>\n",
       "<table border=\"1\" class=\"dataframe\">\n",
       "  <thead>\n",
       "    <tr style=\"text-align: right;\">\n",
       "      <th></th>\n",
       "      <th>MSOA11CD</th>\n",
       "      <th>total_annual_income_2019</th>\n",
       "      <th>houseprice_avg_2019</th>\n",
       "      <th>IMDRank</th>\n",
       "      <th>IMDDecil</th>\n",
       "      <th>RUC11</th>\n",
       "      <th>msoa11cd</th>\n",
       "      <th>ev_count</th>\n",
       "    </tr>\n",
       "  </thead>\n",
       "  <tbody>\n",
       "    <tr>\n",
       "      <th>0</th>\n",
       "      <td>E02004297</td>\n",
       "      <td>40650.0</td>\n",
       "      <td>129990.000000</td>\n",
       "      <td>20450.20</td>\n",
       "      <td>6.0</td>\n",
       "      <td>Rural town and fringe</td>\n",
       "      <td>E02004297</td>\n",
       "      <td>2</td>\n",
       "    </tr>\n",
       "    <tr>\n",
       "      <th>1</th>\n",
       "      <td>E02004290</td>\n",
       "      <td>43260.0</td>\n",
       "      <td>135343.750000</td>\n",
       "      <td>21972.50</td>\n",
       "      <td>8.0</td>\n",
       "      <td>Urban major conurbation</td>\n",
       "      <td>E02004290</td>\n",
       "      <td>1</td>\n",
       "    </tr>\n",
       "    <tr>\n",
       "      <th>2</th>\n",
       "      <td>E02004298</td>\n",
       "      <td>40635.0</td>\n",
       "      <td>136866.666667</td>\n",
       "      <td>18949.50</td>\n",
       "      <td>6.5</td>\n",
       "      <td>Urban city and town</td>\n",
       "      <td>E02004298</td>\n",
       "      <td>4</td>\n",
       "    </tr>\n",
       "    <tr>\n",
       "      <th>3</th>\n",
       "      <td>E02004299</td>\n",
       "      <td>34450.0</td>\n",
       "      <td>109200.000000</td>\n",
       "      <td>10635.60</td>\n",
       "      <td>4.0</td>\n",
       "      <td>Urban city and town</td>\n",
       "      <td>E02004299</td>\n",
       "      <td>1</td>\n",
       "    </tr>\n",
       "    <tr>\n",
       "      <th>4</th>\n",
       "      <td>E02004291</td>\n",
       "      <td>34730.0</td>\n",
       "      <td>95375.000000</td>\n",
       "      <td>7844.25</td>\n",
       "      <td>2.5</td>\n",
       "      <td>Urban major conurbation</td>\n",
       "      <td>E02004291</td>\n",
       "      <td>0</td>\n",
       "    </tr>\n",
       "  </tbody>\n",
       "</table>\n",
       "</div>"
      ],
      "text/plain": [
       "    MSOA11CD  total_annual_income_2019  houseprice_avg_2019   IMDRank  \\\n",
       "0  E02004297                   40650.0        129990.000000  20450.20   \n",
       "1  E02004290                   43260.0        135343.750000  21972.50   \n",
       "2  E02004298                   40635.0        136866.666667  18949.50   \n",
       "3  E02004299                   34450.0        109200.000000  10635.60   \n",
       "4  E02004291                   34730.0         95375.000000   7844.25   \n",
       "\n",
       "   IMDDecil                    RUC11   msoa11cd  ev_count  \n",
       "0       6.0    Rural town and fringe  E02004297         2  \n",
       "1       8.0  Urban major conurbation  E02004290         1  \n",
       "2       6.5      Urban city and town  E02004298         4  \n",
       "3       4.0      Urban city and town  E02004299         1  \n",
       "4       2.5  Urban major conurbation  E02004291         0  "
      ]
     },
     "execution_count": 16,
     "metadata": {},
     "output_type": "execute_result"
    }
   ],
   "source": [
    "df.rename(columns={'2021-04':'ev_count'},inplace=True)\n",
    "print(df.shape)\n",
    "df.head()"
   ]
  },
  {
   "cell_type": "markdown",
   "metadata": {},
   "source": [
    "### 6. (T) PV count"
   ]
  },
  {
   "cell_type": "code",
   "execution_count": 17,
   "metadata": {},
   "outputs": [
    {
     "name": "stdout",
     "output_type": "stream",
     "text": [
      "(5740, 8)\n"
     ]
    },
    {
     "data": {
      "text/html": [
       "<div>\n",
       "<style scoped>\n",
       "    .dataframe tbody tr th:only-of-type {\n",
       "        vertical-align: middle;\n",
       "    }\n",
       "\n",
       "    .dataframe tbody tr th {\n",
       "        vertical-align: top;\n",
       "    }\n",
       "\n",
       "    .dataframe thead th {\n",
       "        text-align: right;\n",
       "    }\n",
       "</style>\n",
       "<table border=\"1\" class=\"dataframe\">\n",
       "  <thead>\n",
       "    <tr style=\"text-align: right;\">\n",
       "      <th></th>\n",
       "      <th>MSOA11CD</th>\n",
       "      <th>pv_count_2020</th>\n",
       "    </tr>\n",
       "  </thead>\n",
       "  <tbody>\n",
       "    <tr>\n",
       "      <th>0</th>\n",
       "      <td>E02000001</td>\n",
       "      <td>1</td>\n",
       "    </tr>\n",
       "    <tr>\n",
       "      <th>1</th>\n",
       "      <td>E02000002</td>\n",
       "      <td>17</td>\n",
       "    </tr>\n",
       "    <tr>\n",
       "      <th>2</th>\n",
       "      <td>E02000003</td>\n",
       "      <td>10</td>\n",
       "    </tr>\n",
       "    <tr>\n",
       "      <th>3</th>\n",
       "      <td>E02000004</td>\n",
       "      <td>6</td>\n",
       "    </tr>\n",
       "    <tr>\n",
       "      <th>4</th>\n",
       "      <td>E02000005</td>\n",
       "      <td>73</td>\n",
       "    </tr>\n",
       "  </tbody>\n",
       "</table>\n",
       "</div>"
      ],
      "text/plain": [
       "    MSOA11CD  pv_count_2020\n",
       "0  E02000001              1\n",
       "1  E02000002             17\n",
       "2  E02000003             10\n",
       "3  E02000004              6\n",
       "4  E02000005             73"
      ]
     },
     "execution_count": 17,
     "metadata": {},
     "output_type": "execute_result"
    }
   ],
   "source": [
    "df1 = pd.read_csv('data/pv_msoa_fit_timeseries.csv',index_col=0)\n",
    "df1.reset_index(level=0, inplace=True)\n",
    "df1.rename(columns={'MLSOA Code':'MSOA11CD','2020-03':'pv_count_2020'},inplace=True)\n",
    "df1 = df1[['MSOA11CD','pv_count_2020']]\n",
    "print(df.shape)\n",
    "df1.head()"
   ]
  },
  {
   "cell_type": "code",
   "execution_count": 18,
   "metadata": {},
   "outputs": [
    {
     "name": "stdout",
     "output_type": "stream",
     "text": [
      "(5740, 2)\n",
      "5740\n"
     ]
    }
   ],
   "source": [
    "# Need to pad pv data\n",
    "list(set(msoa_to_keep) - set(df1.MSOA11CD.unique()))\n",
    "\n",
    "missing_msoa = list(set(msoa_to_keep) - set(df1.MSOA11CD.unique()))\n",
    "\n",
    "#df1.set_index(['msoa11cd'],inplace=True)\n",
    "# store the dates\n",
    "columns_names = df1.columns.values\n",
    "\n",
    "# for each msoa add a row of zeros\n",
    "df_missing_msoa = pd.DataFrame(columns=columns_names)\n",
    "for i in range(len(missing_msoa)):\n",
    "    df_missing_msoa = df_missing_msoa.append(pd.Series({\"MSOA11CD\": missing_msoa[i],\n",
    "                         columns_names[1]: 0}),ignore_index=True)\n",
    "df_missing_msoa.fillna(0,inplace=True)\n",
    "\n",
    "df1= df1.append(df_missing_msoa)\n",
    "df1.reset_index(drop=True)\n",
    "\n",
    "df1 = df1[df1['MSOA11CD'].isin(msoa_to_keep)]\n",
    "\n",
    "print(df1.shape)\n",
    "print(df1.MSOA11CD.nunique())\n"
   ]
  },
  {
   "cell_type": "code",
   "execution_count": 19,
   "metadata": {},
   "outputs": [
    {
     "name": "stdout",
     "output_type": "stream",
     "text": [
      "(5740, 9)\n"
     ]
    },
    {
     "data": {
      "text/html": [
       "<div>\n",
       "<style scoped>\n",
       "    .dataframe tbody tr th:only-of-type {\n",
       "        vertical-align: middle;\n",
       "    }\n",
       "\n",
       "    .dataframe tbody tr th {\n",
       "        vertical-align: top;\n",
       "    }\n",
       "\n",
       "    .dataframe thead th {\n",
       "        text-align: right;\n",
       "    }\n",
       "</style>\n",
       "<table border=\"1\" class=\"dataframe\">\n",
       "  <thead>\n",
       "    <tr style=\"text-align: right;\">\n",
       "      <th></th>\n",
       "      <th>MSOA11CD</th>\n",
       "      <th>total_annual_income_2019</th>\n",
       "      <th>houseprice_avg_2019</th>\n",
       "      <th>IMDRank</th>\n",
       "      <th>IMDDecil</th>\n",
       "      <th>RUC11</th>\n",
       "      <th>msoa11cd</th>\n",
       "      <th>ev_count</th>\n",
       "      <th>pv_count_2020</th>\n",
       "    </tr>\n",
       "  </thead>\n",
       "  <tbody>\n",
       "    <tr>\n",
       "      <th>0</th>\n",
       "      <td>E02004297</td>\n",
       "      <td>40650.0</td>\n",
       "      <td>129990.000000</td>\n",
       "      <td>20450.20</td>\n",
       "      <td>6.0</td>\n",
       "      <td>Rural town and fringe</td>\n",
       "      <td>E02004297</td>\n",
       "      <td>2</td>\n",
       "      <td>41</td>\n",
       "    </tr>\n",
       "    <tr>\n",
       "      <th>1</th>\n",
       "      <td>E02004290</td>\n",
       "      <td>43260.0</td>\n",
       "      <td>135343.750000</td>\n",
       "      <td>21972.50</td>\n",
       "      <td>8.0</td>\n",
       "      <td>Urban major conurbation</td>\n",
       "      <td>E02004290</td>\n",
       "      <td>1</td>\n",
       "      <td>70</td>\n",
       "    </tr>\n",
       "    <tr>\n",
       "      <th>2</th>\n",
       "      <td>E02004298</td>\n",
       "      <td>40635.0</td>\n",
       "      <td>136866.666667</td>\n",
       "      <td>18949.50</td>\n",
       "      <td>6.5</td>\n",
       "      <td>Urban city and town</td>\n",
       "      <td>E02004298</td>\n",
       "      <td>4</td>\n",
       "      <td>111</td>\n",
       "    </tr>\n",
       "    <tr>\n",
       "      <th>3</th>\n",
       "      <td>E02004299</td>\n",
       "      <td>34450.0</td>\n",
       "      <td>109200.000000</td>\n",
       "      <td>10635.60</td>\n",
       "      <td>4.0</td>\n",
       "      <td>Urban city and town</td>\n",
       "      <td>E02004299</td>\n",
       "      <td>1</td>\n",
       "      <td>50</td>\n",
       "    </tr>\n",
       "    <tr>\n",
       "      <th>4</th>\n",
       "      <td>E02004291</td>\n",
       "      <td>34730.0</td>\n",
       "      <td>95375.000000</td>\n",
       "      <td>7844.25</td>\n",
       "      <td>2.5</td>\n",
       "      <td>Urban major conurbation</td>\n",
       "      <td>E02004291</td>\n",
       "      <td>0</td>\n",
       "      <td>35</td>\n",
       "    </tr>\n",
       "  </tbody>\n",
       "</table>\n",
       "</div>"
      ],
      "text/plain": [
       "    MSOA11CD  total_annual_income_2019  houseprice_avg_2019   IMDRank  \\\n",
       "0  E02004297                   40650.0        129990.000000  20450.20   \n",
       "1  E02004290                   43260.0        135343.750000  21972.50   \n",
       "2  E02004298                   40635.0        136866.666667  18949.50   \n",
       "3  E02004299                   34450.0        109200.000000  10635.60   \n",
       "4  E02004291                   34730.0         95375.000000   7844.25   \n",
       "\n",
       "   IMDDecil                    RUC11   msoa11cd  ev_count  pv_count_2020  \n",
       "0       6.0    Rural town and fringe  E02004297         2             41  \n",
       "1       8.0  Urban major conurbation  E02004290         1             70  \n",
       "2       6.5      Urban city and town  E02004298         4            111  \n",
       "3       4.0      Urban city and town  E02004299         1             50  \n",
       "4       2.5  Urban major conurbation  E02004291         0             35  "
      ]
     },
     "execution_count": 19,
     "metadata": {},
     "output_type": "execute_result"
    }
   ],
   "source": [
    "df = df.merge(df1, on='MSOA11CD')\n",
    "print(df.shape)\n",
    "df.head()"
   ]
  },
  {
   "cell_type": "markdown",
   "metadata": {},
   "source": [
    "### 7. (T) Public EV chargers\n"
   ]
  },
  {
   "cell_type": "code",
   "execution_count": 20,
   "metadata": {},
   "outputs": [
    {
     "name": "stdout",
     "output_type": "stream",
     "text": [
      "(8480, 2)\n"
     ]
    },
    {
     "data": {
      "text/html": [
       "<div>\n",
       "<style scoped>\n",
       "    .dataframe tbody tr th:only-of-type {\n",
       "        vertical-align: middle;\n",
       "    }\n",
       "\n",
       "    .dataframe tbody tr th {\n",
       "        vertical-align: top;\n",
       "    }\n",
       "\n",
       "    .dataframe thead th {\n",
       "        text-align: right;\n",
       "    }\n",
       "</style>\n",
       "<table border=\"1\" class=\"dataframe\">\n",
       "  <thead>\n",
       "    <tr style=\"text-align: right;\">\n",
       "      <th></th>\n",
       "      <th>MSOA11CD</th>\n",
       "      <th>public_chargers_2021</th>\n",
       "    </tr>\n",
       "  </thead>\n",
       "  <tbody>\n",
       "    <tr>\n",
       "      <th>0</th>\n",
       "      <td>E02004296</td>\n",
       "      <td>11.090909</td>\n",
       "    </tr>\n",
       "    <tr>\n",
       "      <th>1</th>\n",
       "      <td>E02004302</td>\n",
       "      <td>11.090909</td>\n",
       "    </tr>\n",
       "    <tr>\n",
       "      <th>2</th>\n",
       "      <td>E02004305</td>\n",
       "      <td>11.090909</td>\n",
       "    </tr>\n",
       "    <tr>\n",
       "      <th>3</th>\n",
       "      <td>E02004303</td>\n",
       "      <td>11.090909</td>\n",
       "    </tr>\n",
       "    <tr>\n",
       "      <th>4</th>\n",
       "      <td>E02004301</td>\n",
       "      <td>11.090909</td>\n",
       "    </tr>\n",
       "  </tbody>\n",
       "</table>\n",
       "</div>"
      ],
      "text/plain": [
       "    MSOA11CD  public_chargers_2021\n",
       "0  E02004296             11.090909\n",
       "1  E02004302             11.090909\n",
       "2  E02004305             11.090909\n",
       "3  E02004303             11.090909\n",
       "4  E02004301             11.090909"
      ]
     },
     "execution_count": 20,
     "metadata": {},
     "output_type": "execute_result"
    }
   ],
   "source": [
    "df1 = pd.read_csv('data/public_chargers_msoa_timeseries.csv')\n",
    "df1 = df1[['MSOA11CD','04-2021_msoa']]\n",
    "df1.rename(columns={'04-2021_msoa':'public_chargers_2021'}, inplace=True)\n",
    "print(df1.shape)\n",
    "df1.head()"
   ]
  },
  {
   "cell_type": "code",
   "execution_count": 21,
   "metadata": {},
   "outputs": [
    {
     "name": "stdout",
     "output_type": "stream",
     "text": [
      "(5740, 10)\n"
     ]
    }
   ],
   "source": [
    "df = df.merge(df1, on='MSOA11CD', how='inner')\n",
    "print(df.shape)"
   ]
  },
  {
   "cell_type": "code",
   "execution_count": 22,
   "metadata": {},
   "outputs": [
    {
     "data": {
      "text/html": [
       "<div>\n",
       "<style scoped>\n",
       "    .dataframe tbody tr th:only-of-type {\n",
       "        vertical-align: middle;\n",
       "    }\n",
       "\n",
       "    .dataframe tbody tr th {\n",
       "        vertical-align: top;\n",
       "    }\n",
       "\n",
       "    .dataframe thead th {\n",
       "        text-align: right;\n",
       "    }\n",
       "</style>\n",
       "<table border=\"1\" class=\"dataframe\">\n",
       "  <thead>\n",
       "    <tr style=\"text-align: right;\">\n",
       "      <th></th>\n",
       "      <th>MSOA11CD</th>\n",
       "      <th>total_annual_income_2019</th>\n",
       "      <th>houseprice_avg_2019</th>\n",
       "      <th>IMDRank</th>\n",
       "      <th>IMDDecil</th>\n",
       "      <th>RUC11</th>\n",
       "      <th>msoa11cd</th>\n",
       "      <th>ev_count</th>\n",
       "      <th>pv_count_2020</th>\n",
       "      <th>public_chargers_2021</th>\n",
       "    </tr>\n",
       "  </thead>\n",
       "  <tbody>\n",
       "    <tr>\n",
       "      <th>0</th>\n",
       "      <td>E02004297</td>\n",
       "      <td>40650.0</td>\n",
       "      <td>129990.000000</td>\n",
       "      <td>20450.20</td>\n",
       "      <td>6.0</td>\n",
       "      <td>Rural town and fringe</td>\n",
       "      <td>E02004297</td>\n",
       "      <td>2</td>\n",
       "      <td>41</td>\n",
       "      <td>11.090909</td>\n",
       "    </tr>\n",
       "    <tr>\n",
       "      <th>1</th>\n",
       "      <td>E02004290</td>\n",
       "      <td>43260.0</td>\n",
       "      <td>135343.750000</td>\n",
       "      <td>21972.50</td>\n",
       "      <td>8.0</td>\n",
       "      <td>Urban major conurbation</td>\n",
       "      <td>E02004290</td>\n",
       "      <td>1</td>\n",
       "      <td>70</td>\n",
       "      <td>11.090909</td>\n",
       "    </tr>\n",
       "    <tr>\n",
       "      <th>2</th>\n",
       "      <td>E02004298</td>\n",
       "      <td>40635.0</td>\n",
       "      <td>136866.666667</td>\n",
       "      <td>18949.50</td>\n",
       "      <td>6.5</td>\n",
       "      <td>Urban city and town</td>\n",
       "      <td>E02004298</td>\n",
       "      <td>4</td>\n",
       "      <td>111</td>\n",
       "      <td>11.090909</td>\n",
       "    </tr>\n",
       "    <tr>\n",
       "      <th>3</th>\n",
       "      <td>E02004299</td>\n",
       "      <td>34450.0</td>\n",
       "      <td>109200.000000</td>\n",
       "      <td>10635.60</td>\n",
       "      <td>4.0</td>\n",
       "      <td>Urban city and town</td>\n",
       "      <td>E02004299</td>\n",
       "      <td>1</td>\n",
       "      <td>50</td>\n",
       "      <td>11.090909</td>\n",
       "    </tr>\n",
       "    <tr>\n",
       "      <th>4</th>\n",
       "      <td>E02004291</td>\n",
       "      <td>34730.0</td>\n",
       "      <td>95375.000000</td>\n",
       "      <td>7844.25</td>\n",
       "      <td>2.5</td>\n",
       "      <td>Urban major conurbation</td>\n",
       "      <td>E02004291</td>\n",
       "      <td>0</td>\n",
       "      <td>35</td>\n",
       "      <td>11.090909</td>\n",
       "    </tr>\n",
       "  </tbody>\n",
       "</table>\n",
       "</div>"
      ],
      "text/plain": [
       "    MSOA11CD  total_annual_income_2019  houseprice_avg_2019   IMDRank  \\\n",
       "0  E02004297                   40650.0        129990.000000  20450.20   \n",
       "1  E02004290                   43260.0        135343.750000  21972.50   \n",
       "2  E02004298                   40635.0        136866.666667  18949.50   \n",
       "3  E02004299                   34450.0        109200.000000  10635.60   \n",
       "4  E02004291                   34730.0         95375.000000   7844.25   \n",
       "\n",
       "   IMDDecil                    RUC11   msoa11cd  ev_count  pv_count_2020  \\\n",
       "0       6.0    Rural town and fringe  E02004297         2             41   \n",
       "1       8.0  Urban major conurbation  E02004290         1             70   \n",
       "2       6.5      Urban city and town  E02004298         4            111   \n",
       "3       4.0      Urban city and town  E02004299         1             50   \n",
       "4       2.5  Urban major conurbation  E02004291         0             35   \n",
       "\n",
       "   public_chargers_2021  \n",
       "0             11.090909  \n",
       "1             11.090909  \n",
       "2             11.090909  \n",
       "3             11.090909  \n",
       "4             11.090909  "
      ]
     },
     "execution_count": 22,
     "metadata": {},
     "output_type": "execute_result"
    }
   ],
   "source": [
    "df.head()"
   ]
  },
  {
   "cell_type": "markdown",
   "metadata": {},
   "source": [
    "### 8. (T) Private EV chargers\n"
   ]
  },
  {
   "cell_type": "code",
   "execution_count": 23,
   "metadata": {},
   "outputs": [
    {
     "data": {
      "text/plain": [
       "(8480, 2)"
      ]
     },
     "execution_count": 23,
     "metadata": {},
     "output_type": "execute_result"
    }
   ],
   "source": [
    "df1 = pd.read_csv('data/private_chargers_msoa_timeseries.csv')\n",
    "df1 = df1[['MSOA11CD','2021_msoa']]\n",
    "df1.rename(columns={'2021_msoa':'private_chargers_2021'},inplace=True)\n",
    "df1.shape"
   ]
  },
  {
   "cell_type": "code",
   "execution_count": 24,
   "metadata": {},
   "outputs": [
    {
     "data": {
      "text/plain": [
       "(5740, 11)"
      ]
     },
     "execution_count": 24,
     "metadata": {},
     "output_type": "execute_result"
    }
   ],
   "source": [
    "df = df.merge(df1, on='MSOA11CD', how='inner')\n",
    "df.shape"
   ]
  },
  {
   "cell_type": "markdown",
   "metadata": {},
   "source": [
    "### 9. (T) Energy consumption"
   ]
  },
  {
   "cell_type": "code",
   "execution_count": 25,
   "metadata": {},
   "outputs": [
    {
     "name": "stdout",
     "output_type": "stream",
     "text": [
      "(5740, 11)\n"
     ]
    },
    {
     "data": {
      "text/html": [
       "<div>\n",
       "<style scoped>\n",
       "    .dataframe tbody tr th:only-of-type {\n",
       "        vertical-align: middle;\n",
       "    }\n",
       "\n",
       "    .dataframe tbody tr th {\n",
       "        vertical-align: top;\n",
       "    }\n",
       "\n",
       "    .dataframe thead th {\n",
       "        text-align: right;\n",
       "    }\n",
       "</style>\n",
       "<table border=\"1\" class=\"dataframe\">\n",
       "  <thead>\n",
       "    <tr style=\"text-align: right;\">\n",
       "      <th></th>\n",
       "      <th>MSOA11CD</th>\n",
       "      <th>elec_consumption_2010</th>\n",
       "      <th>elec_consumption_2011</th>\n",
       "      <th>elec_consumption_2012</th>\n",
       "      <th>elec_consumption_2013</th>\n",
       "      <th>elec_consumption_2014</th>\n",
       "      <th>elec_consumption_2015</th>\n",
       "      <th>elec_consumption_2016</th>\n",
       "      <th>elec_consumption_2017</th>\n",
       "      <th>elec_consumption_2018</th>\n",
       "      <th>elec_consumption_2019</th>\n",
       "    </tr>\n",
       "  </thead>\n",
       "  <tbody>\n",
       "    <tr>\n",
       "      <th>0</th>\n",
       "      <td>E02000001</td>\n",
       "      <td>26458.293591</td>\n",
       "      <td>25895.167020</td>\n",
       "      <td>26093.384011</td>\n",
       "      <td>24627.950252</td>\n",
       "      <td>25039.841127</td>\n",
       "      <td>24638.174609</td>\n",
       "      <td>23537.531635</td>\n",
       "      <td>24252.918174</td>\n",
       "      <td>23452.901927</td>\n",
       "      <td>22663.177680</td>\n",
       "    </tr>\n",
       "    <tr>\n",
       "      <th>6</th>\n",
       "      <td>E02000002</td>\n",
       "      <td>14296.151606</td>\n",
       "      <td>14204.053407</td>\n",
       "      <td>13942.902984</td>\n",
       "      <td>13895.918558</td>\n",
       "      <td>13793.610177</td>\n",
       "      <td>13494.474645</td>\n",
       "      <td>13236.229927</td>\n",
       "      <td>13010.165579</td>\n",
       "      <td>12729.403475</td>\n",
       "      <td>12874.224118</td>\n",
       "    </tr>\n",
       "    <tr>\n",
       "      <th>10</th>\n",
       "      <td>E02000003</td>\n",
       "      <td>25539.505938</td>\n",
       "      <td>24467.566581</td>\n",
       "      <td>24300.180044</td>\n",
       "      <td>23637.697618</td>\n",
       "      <td>23761.015832</td>\n",
       "      <td>22992.266592</td>\n",
       "      <td>22709.373297</td>\n",
       "      <td>22052.283045</td>\n",
       "      <td>21534.673770</td>\n",
       "      <td>21263.312685</td>\n",
       "    </tr>\n",
       "    <tr>\n",
       "      <th>16</th>\n",
       "      <td>E02000004</td>\n",
       "      <td>16138.634054</td>\n",
       "      <td>16315.131633</td>\n",
       "      <td>15903.536809</td>\n",
       "      <td>15656.571828</td>\n",
       "      <td>15584.837347</td>\n",
       "      <td>15394.535534</td>\n",
       "      <td>15107.126299</td>\n",
       "      <td>14613.766531</td>\n",
       "      <td>14215.805846</td>\n",
       "      <td>14137.843118</td>\n",
       "    </tr>\n",
       "    <tr>\n",
       "      <th>20</th>\n",
       "      <td>E02000005</td>\n",
       "      <td>18817.163145</td>\n",
       "      <td>18777.858282</td>\n",
       "      <td>18691.488157</td>\n",
       "      <td>18417.020594</td>\n",
       "      <td>18215.420095</td>\n",
       "      <td>17859.547178</td>\n",
       "      <td>17284.724543</td>\n",
       "      <td>16718.143903</td>\n",
       "      <td>15930.663440</td>\n",
       "      <td>15896.856920</td>\n",
       "    </tr>\n",
       "  </tbody>\n",
       "</table>\n",
       "</div>"
      ],
      "text/plain": [
       "     MSOA11CD  elec_consumption_2010  elec_consumption_2011  \\\n",
       "0   E02000001           26458.293591           25895.167020   \n",
       "6   E02000002           14296.151606           14204.053407   \n",
       "10  E02000003           25539.505938           24467.566581   \n",
       "16  E02000004           16138.634054           16315.131633   \n",
       "20  E02000005           18817.163145           18777.858282   \n",
       "\n",
       "    elec_consumption_2012  elec_consumption_2013  elec_consumption_2014  \\\n",
       "0            26093.384011           24627.950252           25039.841127   \n",
       "6            13942.902984           13895.918558           13793.610177   \n",
       "10           24300.180044           23637.697618           23761.015832   \n",
       "16           15903.536809           15656.571828           15584.837347   \n",
       "20           18691.488157           18417.020594           18215.420095   \n",
       "\n",
       "    elec_consumption_2015  elec_consumption_2016  elec_consumption_2017  \\\n",
       "0            24638.174609           23537.531635           24252.918174   \n",
       "6            13494.474645           13236.229927           13010.165579   \n",
       "10           22992.266592           22709.373297           22052.283045   \n",
       "16           15394.535534           15107.126299           14613.766531   \n",
       "20           17859.547178           17284.724543           16718.143903   \n",
       "\n",
       "    elec_consumption_2018  elec_consumption_2019  \n",
       "0            23452.901927           22663.177680  \n",
       "6            12729.403475           12874.224118  \n",
       "10           21534.673770           21263.312685  \n",
       "16           14215.805846           14137.843118  \n",
       "20           15930.663440           15896.856920  "
      ]
     },
     "execution_count": 25,
     "metadata": {},
     "output_type": "execute_result"
    }
   ],
   "source": [
    "df1 = pd.read_csv('data/msoa_mean_electricity_consumption_timeseries.csv')\n",
    "df1.drop_duplicates(inplace=True)\n",
    "print(df1[df1['MSOA11CD'].isin(msoa_to_keep)].shape)\n",
    "df1.head()"
   ]
  },
  {
   "cell_type": "code",
   "execution_count": 26,
   "metadata": {},
   "outputs": [
    {
     "data": {
      "text/plain": [
       "(5740, 12)"
      ]
     },
     "execution_count": 26,
     "metadata": {},
     "output_type": "execute_result"
    }
   ],
   "source": [
    "df = df.merge(df1[['MSOA11CD','elec_consumption_2019']], on='MSOA11CD')\n",
    "df.shape"
   ]
  },
  {
   "cell_type": "markdown",
   "metadata": {},
   "source": [
    "### 10. (T) EV Price"
   ]
  },
  {
   "cell_type": "markdown",
   "metadata": {},
   "source": [
    "## Check for correlations"
   ]
  },
  {
   "cell_type": "code",
   "execution_count": 27,
   "metadata": {},
   "outputs": [],
   "source": [
    "df.set_index('MSOA11CD', inplace=True)"
   ]
  },
  {
   "cell_type": "code",
   "execution_count": 28,
   "metadata": {},
   "outputs": [
    {
     "data": {
      "text/plain": [
       "Index(['total_annual_income_2019', 'houseprice_avg_2019', 'IMDRank',\n",
       "       'IMDDecil', 'RUC11', 'msoa11cd', 'ev_count', 'pv_count_2020',\n",
       "       'public_chargers_2021', 'private_chargers_2021',\n",
       "       'elec_consumption_2019'],\n",
       "      dtype='object')"
      ]
     },
     "execution_count": 28,
     "metadata": {},
     "output_type": "execute_result"
    }
   ],
   "source": [
    "df.columns"
   ]
  },
  {
   "cell_type": "code",
   "execution_count": 29,
   "metadata": {},
   "outputs": [],
   "source": [
    "numeric_features = ['total_annual_income_2019', 'houseprice_avg_2019', 'IMDRank',\n",
    "       'IMDDecil','ev_count', 'pv_count_2020',\n",
    "       'public_chargers_2021', 'private_chargers_2021']"
   ]
  },
  {
   "cell_type": "code",
   "execution_count": 31,
   "metadata": {},
   "outputs": [
    {
     "data": {
      "text/plain": [
       "<AxesSubplot:>"
      ]
     },
     "execution_count": 31,
     "metadata": {},
     "output_type": "execute_result"
    },
    {
     "data": {
      "image/png": "[encoded data removed]",
      "text/plain": [
       "<Figure size 432x288 with 2 Axes>"
      ]
     },
     "metadata": {
      "needs_background": "light"
     },
     "output_type": "display_data"
    }
   ],
   "source": [
    "sns.heatmap(df[numeric_features].corr(), vmin=-1, vmax=1, cmap=sns.diverging_palette(20,220,n=200))"
   ]
  },
  {
   "cell_type": "markdown",
   "metadata": {},
   "source": [
    "Select MSOAs for which there are MOT centres present.\n",
    "\n",
    "Save the file as MSOA info today"
   ]
  },
  {
   "cell_type": "code",
   "execution_count": null,
   "metadata": {},
   "outputs": [],
   "source": [
    "df1 = pd.read_csv('data/mot_locations_lsoa_msoa_pcd.csv')\n",
    "print(df1.shape)\n",
    "df1.head()"
   ]
  },
  {
   "cell_type": "code",
   "execution_count": null,
   "metadata": {},
   "outputs": [],
   "source": [
    "msoa_to_keep = df1.msoa11cd.unique()"
   ]
  },
  {
   "cell_type": "code",
   "execution_count": null,
   "metadata": {},
   "outputs": [],
   "source": [
    "df.reset_index(inplace=True)"
   ]
  },
  {
   "cell_type": "code",
   "execution_count": null,
   "metadata": {},
   "outputs": [],
   "source": [
    "df = df[df['MSOA11CD'].isin(msoa_to_keep)]"
   ]
  },
  {
   "cell_type": "code",
   "execution_count": null,
   "metadata": {},
   "outputs": [],
   "source": [
    "df.head()"
   ]
  },
  {
   "cell_type": "code",
   "execution_count": 32,
   "metadata": {},
   "outputs": [],
   "source": [
    "#df.to_csv('data/msoa_today_steady.csv')"
   ]
  },
  {
   "cell_type": "code",
   "execution_count": 33,
   "metadata": {},
   "outputs": [
    {
     "data": {
      "text/plain": [
       "(5740, 11)"
      ]
     },
     "execution_count": 33,
     "metadata": {},
     "output_type": "execute_result"
    }
   ],
   "source": [
    "#df.shape"
   ]
  },
  {
   "cell_type": "code",
   "execution_count": 34,
   "metadata": {},
   "outputs": [
    {
     "data": {
      "text/plain": [
       "(4392, 11)"
      ]
     },
     "execution_count": 34,
     "metadata": {},
     "output_type": "execute_result"
    }
   ],
   "source": [
    "df[df['ev_count']>0].shape"
   ]
  },
  {
   "cell_type": "code",
   "execution_count": null,
   "metadata": {},
   "outputs": [],
   "source": []
  }
 ],
 "metadata": {
  "kernelspec": {
   "display_name": "Python [conda env:Python3] *",
   "language": "python",
   "name": "conda-env-Python3-py"
  },
  "language_info": {
   "codemirror_mode": {
    "name": "ipython",
    "version": 3
   },
   "file_extension": ".py",
   "mimetype": "text/x-python",
   "name": "python",
   "nbconvert_exporter": "python",
   "pygments_lexer": "ipython3",
   "version": "3.8.2"
  }
 },
 "nbformat": 4,
 "nbformat_minor": 2
}
