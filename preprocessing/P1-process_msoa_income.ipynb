{
 "cells": [
  {
   "cell_type": "code",
   "execution_count": 1,
   "metadata": {},
   "outputs": [],
   "source": [
    "import pandas as pd\n",
    "import matplotlib.pyplot as plt"
   ]
  },
  {
   "cell_type": "markdown",
   "metadata": {},
   "source": [
    "## Import data for 2014\n",
    "\n",
    "The 2014 data is given as weekly income values for MSOA regions, need to scale down to monthly and scale up to LSOA regions.\n",
    "\n",
    "Assumptions: constant income such that we can take monthly = weekly * 4.345\n",
    "\n"
   ]
  },
  {
   "cell_type": "code",
   "execution_count": 2,
   "metadata": {},
   "outputs": [
    {
     "data": {
      "text/html": [
       "<div>\n",
       "<style scoped>\n",
       "    .dataframe tbody tr th:only-of-type {\n",
       "        vertical-align: middle;\n",
       "    }\n",
       "\n",
       "    .dataframe tbody tr th {\n",
       "        vertical-align: top;\n",
       "    }\n",
       "\n",
       "    .dataframe thead th {\n",
       "        text-align: right;\n",
       "    }\n",
       "</style>\n",
       "<table border=\"1\" class=\"dataframe\">\n",
       "  <thead>\n",
       "    <tr style=\"text-align: right;\">\n",
       "      <th></th>\n",
       "      <th>MSOA_code</th>\n",
       "      <th>MSOA_name</th>\n",
       "      <th>local_authority_code</th>\n",
       "      <th>local_authority_name</th>\n",
       "      <th>region_code</th>\n",
       "      <th>region_name</th>\n",
       "      <th>total_weekly_income</th>\n",
       "      <th>upper_confidence_limit</th>\n",
       "      <th>lower_confidence_limit</th>\n",
       "      <th>confidence_interval</th>\n",
       "    </tr>\n",
       "  </thead>\n",
       "  <tbody>\n",
       "    <tr>\n",
       "      <th>0</th>\n",
       "      <td>E02004297</td>\n",
       "      <td>County Durham 001</td>\n",
       "      <td>E06000047</td>\n",
       "      <td>County Durham</td>\n",
       "      <td>E12000001</td>\n",
       "      <td>North East</td>\n",
       "      <td>700.0</td>\n",
       "      <td>790.0</td>\n",
       "      <td>610.0</td>\n",
       "      <td>180.0</td>\n",
       "    </tr>\n",
       "    <tr>\n",
       "      <th>1</th>\n",
       "      <td>E02004290</td>\n",
       "      <td>County Durham 002</td>\n",
       "      <td>E06000047</td>\n",
       "      <td>County Durham</td>\n",
       "      <td>E12000001</td>\n",
       "      <td>North East</td>\n",
       "      <td>730.0</td>\n",
       "      <td>830.0</td>\n",
       "      <td>640.0</td>\n",
       "      <td>190.0</td>\n",
       "    </tr>\n",
       "    <tr>\n",
       "      <th>2</th>\n",
       "      <td>E02004298</td>\n",
       "      <td>County Durham 003</td>\n",
       "      <td>E06000047</td>\n",
       "      <td>County Durham</td>\n",
       "      <td>E12000001</td>\n",
       "      <td>North East</td>\n",
       "      <td>730.0</td>\n",
       "      <td>830.0</td>\n",
       "      <td>640.0</td>\n",
       "      <td>190.0</td>\n",
       "    </tr>\n",
       "    <tr>\n",
       "      <th>3</th>\n",
       "      <td>E02004299</td>\n",
       "      <td>County Durham 004</td>\n",
       "      <td>E06000047</td>\n",
       "      <td>County Durham</td>\n",
       "      <td>E12000001</td>\n",
       "      <td>North East</td>\n",
       "      <td>600.0</td>\n",
       "      <td>690.0</td>\n",
       "      <td>530.0</td>\n",
       "      <td>160.0</td>\n",
       "    </tr>\n",
       "    <tr>\n",
       "      <th>4</th>\n",
       "      <td>E02004291</td>\n",
       "      <td>County Durham 005</td>\n",
       "      <td>E06000047</td>\n",
       "      <td>County Durham</td>\n",
       "      <td>E12000001</td>\n",
       "      <td>North East</td>\n",
       "      <td>540.0</td>\n",
       "      <td>620.0</td>\n",
       "      <td>470.0</td>\n",
       "      <td>140.0</td>\n",
       "    </tr>\n",
       "  </tbody>\n",
       "</table>\n",
       "</div>"
      ],
      "text/plain": [
       "   MSOA_code          MSOA_name local_authority_code local_authority_name  \\\n",
       "0  E02004297  County Durham 001            E06000047        County Durham   \n",
       "1  E02004290  County Durham 002            E06000047        County Durham   \n",
       "2  E02004298  County Durham 003            E06000047        County Durham   \n",
       "3  E02004299  County Durham 004            E06000047        County Durham   \n",
       "4  E02004291  County Durham 005            E06000047        County Durham   \n",
       "\n",
       "  region_code region_name  total_weekly_income  upper_confidence_limit  \\\n",
       "0   E12000001  North East                700.0                   790.0   \n",
       "1   E12000001  North East                730.0                   830.0   \n",
       "2   E12000001  North East                730.0                   830.0   \n",
       "3   E12000001  North East                600.0                   690.0   \n",
       "4   E12000001  North East                540.0                   620.0   \n",
       "\n",
       "   lower_confidence_limit  confidence_interval  \n",
       "0                   610.0                180.0  \n",
       "1                   640.0                190.0  \n",
       "2                   640.0                190.0  \n",
       "3                   530.0                160.0  \n",
       "4                   470.0                140.0  "
      ]
     },
     "execution_count": 2,
     "metadata": {},
     "output_type": "execute_result"
    }
   ],
   "source": [
    "colnames = ['MSOA_code','MSOA_name','local_authority_code','local_authority_name',\n",
    "            'region_code','region_name','total_weekly_income','upper_confidence_limit',\n",
    "            'lower_confidence_limit','confidence_interval']\n",
    "\n",
    "df_income_2014 = pd.read_csv('raw_data_to_edit/totalannualincome2014.csv', skiprows=5, names=colnames, header=None)\n",
    "df_income_2014.head()"
   ]
  },
  {
   "cell_type": "markdown",
   "metadata": {},
   "source": [
    "Add monthly income column "
   ]
  },
  {
   "cell_type": "code",
   "execution_count": 3,
   "metadata": {},
   "outputs": [],
   "source": [
    "df_income_2014['total_monthly_income'] = df_income_2014['total_weekly_income'] * 4.345\n",
    "df_income_2014['total_annual_income'] = df_income_2014['total_weekly_income'] * 52"
   ]
  },
  {
   "cell_type": "code",
   "execution_count": 4,
   "metadata": {},
   "outputs": [
    {
     "name": "stdout",
     "output_type": "stream",
     "text": [
      "<class 'pandas.core.frame.DataFrame'>\n",
      "RangeIndex: 7202 entries, 0 to 7201\n",
      "Data columns (total 12 columns):\n",
      " #   Column                  Non-Null Count  Dtype  \n",
      "---  ------                  --------------  -----  \n",
      " 0   MSOA_code               7202 non-null   object \n",
      " 1   MSOA_name               7201 non-null   object \n",
      " 2   local_authority_code    7201 non-null   object \n",
      " 3   local_authority_name    7201 non-null   object \n",
      " 4   region_code             7201 non-null   object \n",
      " 5   region_name             7201 non-null   object \n",
      " 6   total_weekly_income     7201 non-null   float64\n",
      " 7   upper_confidence_limit  7201 non-null   float64\n",
      " 8   lower_confidence_limit  7201 non-null   float64\n",
      " 9   confidence_interval     7201 non-null   float64\n",
      " 10  total_monthly_income    7201 non-null   float64\n",
      " 11  total_annual_income     7201 non-null   float64\n",
      "dtypes: float64(6), object(6)\n",
      "memory usage: 675.3+ KB\n"
     ]
    }
   ],
   "source": [
    "df_income_2014.info()"
   ]
  },
  {
   "cell_type": "markdown",
   "metadata": {},
   "source": [
    "## Import data for 2016 and 2018\n",
    "\n",
    "The 2016 and 2018 data are given as annual income values for MSOA regions, need to scale up to monthly and scale up to LSOA regions.\n",
    "\n",
    "Assumptions: constant income over the year, so monthly salary = annual/12 for all regions"
   ]
  },
  {
   "cell_type": "code",
   "execution_count": 5,
   "metadata": {},
   "outputs": [
    {
     "name": "stdout",
     "output_type": "stream",
     "text": [
      "<class 'pandas.core.frame.DataFrame'>\n",
      "RangeIndex: 7202 entries, 0 to 7201\n",
      "Data columns (total 10 columns):\n",
      " #   Column                  Non-Null Count  Dtype \n",
      "---  ------                  --------------  ----- \n",
      " 0   MSOA_code               7202 non-null   object\n",
      " 1   MSOA_name               7201 non-null   object\n",
      " 2   local_authority_code    7201 non-null   object\n",
      " 3   local_authority_name    7201 non-null   object\n",
      " 4   region_code             7201 non-null   object\n",
      " 5   region_name             7201 non-null   object\n",
      " 6   total_annual_income     7201 non-null   object\n",
      " 7   upper_confidence_limit  7201 non-null   object\n",
      " 8   lower_confidence_limit  7201 non-null   object\n",
      " 9   confidence_interval     7201 non-null   object\n",
      "dtypes: object(10)\n",
      "memory usage: 562.8+ KB\n"
     ]
    }
   ],
   "source": [
    "colnames = ['MSOA_code','MSOA_name','local_authority_code','local_authority_name',\n",
    "            'region_code','region_name','total_annual_income','upper_confidence_limit',\n",
    "            'lower_confidence_limit','confidence_interval']\n",
    "\n",
    "df_income_2016 = pd.read_csv('raw_data_to_edit/totalannualincome2016.csv', skiprows=3, names=colnames, usecols=[0,1,2,3,4,5,6,7,8,9],header=None)\n",
    "df_income_2016.info()"
   ]
  },
  {
   "cell_type": "code",
   "execution_count": 6,
   "metadata": {},
   "outputs": [
    {
     "data": {
      "text/html": [
       "<div>\n",
       "<style scoped>\n",
       "    .dataframe tbody tr th:only-of-type {\n",
       "        vertical-align: middle;\n",
       "    }\n",
       "\n",
       "    .dataframe tbody tr th {\n",
       "        vertical-align: top;\n",
       "    }\n",
       "\n",
       "    .dataframe thead th {\n",
       "        text-align: right;\n",
       "    }\n",
       "</style>\n",
       "<table border=\"1\" class=\"dataframe\">\n",
       "  <thead>\n",
       "    <tr style=\"text-align: right;\">\n",
       "      <th></th>\n",
       "      <th>MSOA_code</th>\n",
       "      <th>MSOA_name</th>\n",
       "      <th>local_authority_code</th>\n",
       "      <th>local_authority_name</th>\n",
       "      <th>region_code</th>\n",
       "      <th>region_name</th>\n",
       "      <th>total_annual_income</th>\n",
       "      <th>upper_confidence_limit</th>\n",
       "      <th>lower_confidence_limit</th>\n",
       "      <th>confidence_interval</th>\n",
       "    </tr>\n",
       "  </thead>\n",
       "  <tbody>\n",
       "    <tr>\n",
       "      <th>0</th>\n",
       "      <td>E02004297</td>\n",
       "      <td>County Durham 001</td>\n",
       "      <td>E06000047</td>\n",
       "      <td>County Durham</td>\n",
       "      <td>E12000001</td>\n",
       "      <td>North East</td>\n",
       "      <td>35,900</td>\n",
       "      <td>45,200</td>\n",
       "      <td>28,500</td>\n",
       "      <td>16,700</td>\n",
       "    </tr>\n",
       "    <tr>\n",
       "      <th>1</th>\n",
       "      <td>E02004290</td>\n",
       "      <td>County Durham 002</td>\n",
       "      <td>E06000047</td>\n",
       "      <td>County Durham</td>\n",
       "      <td>E12000001</td>\n",
       "      <td>North East</td>\n",
       "      <td>42,500</td>\n",
       "      <td>53,600</td>\n",
       "      <td>33,700</td>\n",
       "      <td>19,900</td>\n",
       "    </tr>\n",
       "    <tr>\n",
       "      <th>2</th>\n",
       "      <td>E02004298</td>\n",
       "      <td>County Durham 003</td>\n",
       "      <td>E06000047</td>\n",
       "      <td>County Durham</td>\n",
       "      <td>E12000001</td>\n",
       "      <td>North East</td>\n",
       "      <td>38,000</td>\n",
       "      <td>47,700</td>\n",
       "      <td>30,200</td>\n",
       "      <td>17,600</td>\n",
       "    </tr>\n",
       "    <tr>\n",
       "      <th>3</th>\n",
       "      <td>E02004299</td>\n",
       "      <td>County Durham 004</td>\n",
       "      <td>E06000047</td>\n",
       "      <td>County Durham</td>\n",
       "      <td>E12000001</td>\n",
       "      <td>North East</td>\n",
       "      <td>33,500</td>\n",
       "      <td>42,200</td>\n",
       "      <td>26,700</td>\n",
       "      <td>15,500</td>\n",
       "    </tr>\n",
       "    <tr>\n",
       "      <th>4</th>\n",
       "      <td>E02004291</td>\n",
       "      <td>County Durham 005</td>\n",
       "      <td>E06000047</td>\n",
       "      <td>County Durham</td>\n",
       "      <td>E12000001</td>\n",
       "      <td>North East</td>\n",
       "      <td>31,700</td>\n",
       "      <td>39,800</td>\n",
       "      <td>25,200</td>\n",
       "      <td>14,600</td>\n",
       "    </tr>\n",
       "  </tbody>\n",
       "</table>\n",
       "</div>"
      ],
      "text/plain": [
       "   MSOA_code          MSOA_name local_authority_code local_authority_name  \\\n",
       "0  E02004297  County Durham 001            E06000047        County Durham   \n",
       "1  E02004290  County Durham 002            E06000047        County Durham   \n",
       "2  E02004298  County Durham 003            E06000047        County Durham   \n",
       "3  E02004299  County Durham 004            E06000047        County Durham   \n",
       "4  E02004291  County Durham 005            E06000047        County Durham   \n",
       "\n",
       "  region_code region_name total_annual_income upper_confidence_limit  \\\n",
       "0   E12000001  North East              35,900                 45,200   \n",
       "1   E12000001  North East              42,500                 53,600   \n",
       "2   E12000001  North East              38,000                 47,700   \n",
       "3   E12000001  North East              33,500                 42,200   \n",
       "4   E12000001  North East              31,700                 39,800   \n",
       "\n",
       "  lower_confidence_limit confidence_interval  \n",
       "0                 28,500              16,700  \n",
       "1                 33,700              19,900  \n",
       "2                 30,200              17,600  \n",
       "3                 26,700              15,500  \n",
       "4                 25,200              14,600  "
      ]
     },
     "execution_count": 6,
     "metadata": {},
     "output_type": "execute_result"
    }
   ],
   "source": [
    "df_income_2016.head()"
   ]
  },
  {
   "cell_type": "code",
   "execution_count": 7,
   "metadata": {},
   "outputs": [
    {
     "data": {
      "text/html": [
       "<div>\n",
       "<style scoped>\n",
       "    .dataframe tbody tr th:only-of-type {\n",
       "        vertical-align: middle;\n",
       "    }\n",
       "\n",
       "    .dataframe tbody tr th {\n",
       "        vertical-align: top;\n",
       "    }\n",
       "\n",
       "    .dataframe thead th {\n",
       "        text-align: right;\n",
       "    }\n",
       "</style>\n",
       "<table border=\"1\" class=\"dataframe\">\n",
       "  <thead>\n",
       "    <tr style=\"text-align: right;\">\n",
       "      <th></th>\n",
       "      <th>MSOA_code</th>\n",
       "      <th>MSOA_name</th>\n",
       "      <th>local_authority_code</th>\n",
       "      <th>local_authority_name</th>\n",
       "      <th>region_code</th>\n",
       "      <th>region_name</th>\n",
       "      <th>total_annual_income</th>\n",
       "      <th>upper_confidence_limit</th>\n",
       "      <th>lower_confidence_limit</th>\n",
       "      <th>confidence_interval</th>\n",
       "    </tr>\n",
       "  </thead>\n",
       "  <tbody>\n",
       "    <tr>\n",
       "      <th>0</th>\n",
       "      <td>E02004297</td>\n",
       "      <td>County Durham 001</td>\n",
       "      <td>E06000047</td>\n",
       "      <td>County Durham</td>\n",
       "      <td>E12000001</td>\n",
       "      <td>North East</td>\n",
       "      <td>39,800</td>\n",
       "      <td>47,800</td>\n",
       "      <td>33,100</td>\n",
       "      <td>14,700</td>\n",
       "    </tr>\n",
       "    <tr>\n",
       "      <th>1</th>\n",
       "      <td>E02004290</td>\n",
       "      <td>County Durham 002</td>\n",
       "      <td>E06000047</td>\n",
       "      <td>County Durham</td>\n",
       "      <td>E12000001</td>\n",
       "      <td>North East</td>\n",
       "      <td>42,200</td>\n",
       "      <td>50,700</td>\n",
       "      <td>35,200</td>\n",
       "      <td>15,500</td>\n",
       "    </tr>\n",
       "    <tr>\n",
       "      <th>2</th>\n",
       "      <td>E02004298</td>\n",
       "      <td>County Durham 003</td>\n",
       "      <td>E06000047</td>\n",
       "      <td>County Durham</td>\n",
       "      <td>E12000001</td>\n",
       "      <td>North East</td>\n",
       "      <td>40,100</td>\n",
       "      <td>48,000</td>\n",
       "      <td>33,400</td>\n",
       "      <td>14,600</td>\n",
       "    </tr>\n",
       "    <tr>\n",
       "      <th>3</th>\n",
       "      <td>E02004299</td>\n",
       "      <td>County Durham 004</td>\n",
       "      <td>E06000047</td>\n",
       "      <td>County Durham</td>\n",
       "      <td>E12000001</td>\n",
       "      <td>North East</td>\n",
       "      <td>33,800</td>\n",
       "      <td>40,500</td>\n",
       "      <td>28,200</td>\n",
       "      <td>12,300</td>\n",
       "    </tr>\n",
       "    <tr>\n",
       "      <th>4</th>\n",
       "      <td>E02004291</td>\n",
       "      <td>County Durham 005</td>\n",
       "      <td>E06000047</td>\n",
       "      <td>County Durham</td>\n",
       "      <td>E12000001</td>\n",
       "      <td>North East</td>\n",
       "      <td>33,400</td>\n",
       "      <td>40,000</td>\n",
       "      <td>27,800</td>\n",
       "      <td>12,200</td>\n",
       "    </tr>\n",
       "  </tbody>\n",
       "</table>\n",
       "</div>"
      ],
      "text/plain": [
       "   MSOA_code          MSOA_name local_authority_code local_authority_name  \\\n",
       "0  E02004297  County Durham 001            E06000047        County Durham   \n",
       "1  E02004290  County Durham 002            E06000047        County Durham   \n",
       "2  E02004298  County Durham 003            E06000047        County Durham   \n",
       "3  E02004299  County Durham 004            E06000047        County Durham   \n",
       "4  E02004291  County Durham 005            E06000047        County Durham   \n",
       "\n",
       "  region_code region_name total_annual_income upper_confidence_limit  \\\n",
       "0   E12000001  North East              39,800                 47,800   \n",
       "1   E12000001  North East              42,200                 50,700   \n",
       "2   E12000001  North East              40,100                 48,000   \n",
       "3   E12000001  North East              33,800                 40,500   \n",
       "4   E12000001  North East              33,400                 40,000   \n",
       "\n",
       "  lower_confidence_limit confidence_interval  \n",
       "0                 33,100              14,700  \n",
       "1                 35,200              15,500  \n",
       "2                 33,400              14,600  \n",
       "3                 28,200              12,300  \n",
       "4                 27,800              12,200  "
      ]
     },
     "execution_count": 7,
     "metadata": {},
     "output_type": "execute_result"
    }
   ],
   "source": [
    "df_income_2018 = pd.read_csv('raw_data_to_edit/totalannualincome2018.csv', skiprows=5, names=colnames,header=None)\n",
    "df_income_2018.head()"
   ]
  },
  {
   "cell_type": "markdown",
   "metadata": {},
   "source": [
    "Convert numeric values from object to floats, and add a monthly income column"
   ]
  },
  {
   "cell_type": "code",
   "execution_count": 8,
   "metadata": {},
   "outputs": [],
   "source": [
    "cols_from_object_to_float = ['total_annual_income', 'upper_confidence_limit',\n",
    "                            'lower_confidence_limit', 'confidence_interval']\n",
    "for col in cols_from_object_to_float:\n",
    "    df_income_2016[col].replace(',','', regex=True, inplace=True)\n",
    "    df_income_2018[col].replace(',','', regex=True, inplace=True)\n",
    "    \n",
    "df_income_2016[cols_from_object_to_float] = df_income_2016[cols_from_object_to_float].astype(float)\n",
    "df_income_2018[cols_from_object_to_float] = df_income_2018[cols_from_object_to_float].astype(float)"
   ]
  },
  {
   "cell_type": "code",
   "execution_count": 9,
   "metadata": {},
   "outputs": [],
   "source": [
    "df_income_2016['total_monthly_income'] = df_income_2016['total_annual_income']/12\n",
    "df_income_2018['total_monthly_income'] = df_income_2018['total_annual_income']/12\n"
   ]
  },
  {
   "cell_type": "code",
   "execution_count": 10,
   "metadata": {},
   "outputs": [
    {
     "data": {
      "text/html": [
       "<div>\n",
       "<style scoped>\n",
       "    .dataframe tbody tr th:only-of-type {\n",
       "        vertical-align: middle;\n",
       "    }\n",
       "\n",
       "    .dataframe tbody tr th {\n",
       "        vertical-align: top;\n",
       "    }\n",
       "\n",
       "    .dataframe thead th {\n",
       "        text-align: right;\n",
       "    }\n",
       "</style>\n",
       "<table border=\"1\" class=\"dataframe\">\n",
       "  <thead>\n",
       "    <tr style=\"text-align: right;\">\n",
       "      <th></th>\n",
       "      <th>MSOA_code</th>\n",
       "      <th>MSOA_name</th>\n",
       "      <th>local_authority_code</th>\n",
       "      <th>local_authority_name</th>\n",
       "      <th>region_code</th>\n",
       "      <th>region_name</th>\n",
       "      <th>total_weekly_income</th>\n",
       "      <th>upper_confidence_limit</th>\n",
       "      <th>lower_confidence_limit</th>\n",
       "      <th>confidence_interval</th>\n",
       "      <th>total_monthly_income</th>\n",
       "      <th>total_annual_income</th>\n",
       "    </tr>\n",
       "  </thead>\n",
       "  <tbody>\n",
       "    <tr>\n",
       "      <th>7197</th>\n",
       "      <td>W02000363</td>\n",
       "      <td>Newport 017</td>\n",
       "      <td>W06000022</td>\n",
       "      <td>Newport</td>\n",
       "      <td>W92000004</td>\n",
       "      <td>Wales</td>\n",
       "      <td>570.0</td>\n",
       "      <td>650.0</td>\n",
       "      <td>500.0</td>\n",
       "      <td>150.0</td>\n",
       "      <td>2476.65</td>\n",
       "      <td>29640.0</td>\n",
       "    </tr>\n",
       "    <tr>\n",
       "      <th>7198</th>\n",
       "      <td>W02000364</td>\n",
       "      <td>Newport 018</td>\n",
       "      <td>W06000022</td>\n",
       "      <td>Newport</td>\n",
       "      <td>W92000004</td>\n",
       "      <td>Wales</td>\n",
       "      <td>460.0</td>\n",
       "      <td>520.0</td>\n",
       "      <td>400.0</td>\n",
       "      <td>130.0</td>\n",
       "      <td>1998.70</td>\n",
       "      <td>23920.0</td>\n",
       "    </tr>\n",
       "    <tr>\n",
       "      <th>7199</th>\n",
       "      <td>W02000365</td>\n",
       "      <td>Newport 019</td>\n",
       "      <td>W06000022</td>\n",
       "      <td>Newport</td>\n",
       "      <td>W92000004</td>\n",
       "      <td>Wales</td>\n",
       "      <td>540.0</td>\n",
       "      <td>610.0</td>\n",
       "      <td>470.0</td>\n",
       "      <td>140.0</td>\n",
       "      <td>2346.30</td>\n",
       "      <td>28080.0</td>\n",
       "    </tr>\n",
       "    <tr>\n",
       "      <th>7200</th>\n",
       "      <td>W02000366</td>\n",
       "      <td>Newport 020</td>\n",
       "      <td>W06000022</td>\n",
       "      <td>Newport</td>\n",
       "      <td>W92000004</td>\n",
       "      <td>Wales</td>\n",
       "      <td>910.0</td>\n",
       "      <td>1030.0</td>\n",
       "      <td>790.0</td>\n",
       "      <td>240.0</td>\n",
       "      <td>3953.95</td>\n",
       "      <td>47320.0</td>\n",
       "    </tr>\n",
       "    <tr>\n",
       "      <th>7201</th>\n",
       "      <td>Source: ONS</td>\n",
       "      <td>NaN</td>\n",
       "      <td>NaN</td>\n",
       "      <td>NaN</td>\n",
       "      <td>NaN</td>\n",
       "      <td>NaN</td>\n",
       "      <td>NaN</td>\n",
       "      <td>NaN</td>\n",
       "      <td>NaN</td>\n",
       "      <td>NaN</td>\n",
       "      <td>NaN</td>\n",
       "      <td>NaN</td>\n",
       "    </tr>\n",
       "  </tbody>\n",
       "</table>\n",
       "</div>"
      ],
      "text/plain": [
       "        MSOA_code    MSOA_name local_authority_code local_authority_name  \\\n",
       "7197    W02000363  Newport 017            W06000022              Newport   \n",
       "7198    W02000364  Newport 018            W06000022              Newport   \n",
       "7199    W02000365  Newport 019            W06000022              Newport   \n",
       "7200    W02000366  Newport 020            W06000022              Newport   \n",
       "7201  Source: ONS          NaN                  NaN                  NaN   \n",
       "\n",
       "     region_code region_name  total_weekly_income  upper_confidence_limit  \\\n",
       "7197   W92000004       Wales                570.0                   650.0   \n",
       "7198   W92000004       Wales                460.0                   520.0   \n",
       "7199   W92000004       Wales                540.0                   610.0   \n",
       "7200   W92000004       Wales                910.0                  1030.0   \n",
       "7201         NaN         NaN                  NaN                     NaN   \n",
       "\n",
       "      lower_confidence_limit  confidence_interval  total_monthly_income  \\\n",
       "7197                   500.0                150.0               2476.65   \n",
       "7198                   400.0                130.0               1998.70   \n",
       "7199                   470.0                140.0               2346.30   \n",
       "7200                   790.0                240.0               3953.95   \n",
       "7201                     NaN                  NaN                   NaN   \n",
       "\n",
       "      total_annual_income  \n",
       "7197              29640.0  \n",
       "7198              23920.0  \n",
       "7199              28080.0  \n",
       "7200              47320.0  \n",
       "7201                  NaN  "
      ]
     },
     "execution_count": 10,
     "metadata": {},
     "output_type": "execute_result"
    }
   ],
   "source": [
    "df_income_2014.tail()"
   ]
  },
  {
   "cell_type": "markdown",
   "metadata": {},
   "source": [
    "### Check same size data frames"
   ]
  },
  {
   "cell_type": "code",
   "execution_count": 11,
   "metadata": {},
   "outputs": [
    {
     "name": "stdout",
     "output_type": "stream",
     "text": [
      "There are 7202 rows and 7202 unique entries for 2014.\n",
      "There are 7202 rows and 7202 unique entries for 2016.\n",
      "There are 7201 rows and 7201 unique entries for 2018.\n"
     ]
    }
   ],
   "source": [
    "print(\"There are {} rows and {} unique entries for 2014.\".format(df_income_2014.shape[0],df_income_2014['MSOA_code'].nunique()))\n",
    "print(\"There are {} rows and {} unique entries for 2016.\".format(df_income_2016.shape[0],df_income_2016['MSOA_code'].nunique()))\n",
    "print(\"There are {} rows and {} unique entries for 2018.\".format(df_income_2018.shape[0],df_income_2018['MSOA_code'].nunique()))"
   ]
  },
  {
   "cell_type": "markdown",
   "metadata": {},
   "source": [
    "Find the MSOA code that is missing from 2018."
   ]
  },
  {
   "cell_type": "code",
   "execution_count": 12,
   "metadata": {},
   "outputs": [],
   "source": [
    "msoa_2014 = sorted(pd.Series(df_income_2014['MSOA_code']).astype('str'))\n",
    "msoa_2016 = sorted(pd.Series(df_income_2016['MSOA_code']).astype('str'))\n",
    "msoa_2018 = sorted(pd.Series(df_income_2018['MSOA_code']).astype('str'))"
   ]
  },
  {
   "cell_type": "code",
   "execution_count": 13,
   "metadata": {},
   "outputs": [
    {
     "name": "stdout",
     "output_type": "stream",
     "text": [
      "['Source: ONS']\n",
      "['Source: ONS']\n"
     ]
    }
   ],
   "source": [
    "print(list(set(msoa_2014) - set(msoa_2018)))\n",
    "print(list(set(msoa_2016) - set(msoa_2018)))"
   ]
  },
  {
   "cell_type": "markdown",
   "metadata": {},
   "source": [
    "We therefore delete the last rows in the 2014 and 2016 data set."
   ]
  },
  {
   "cell_type": "code",
   "execution_count": 14,
   "metadata": {},
   "outputs": [],
   "source": [
    "df_income_2014.drop(df_income_2014.tail(1).index,inplace=True)\n",
    "df_income_2016.drop(df_income_2016.tail(1).index,inplace=True)"
   ]
  },
  {
   "cell_type": "code",
   "execution_count": 22,
   "metadata": {},
   "outputs": [],
   "source": [
    "assert df_income_2014.shape[0] == df_income_2016.shape[0]\n",
    "assert df_income_2018.shape[0] == df_income_2016.shape[0]"
   ]
  },
  {
   "cell_type": "markdown",
   "metadata": {},
   "source": [
    "## Visualisations of the 2018 income data in MSOA discretisation"
   ]
  },
  {
   "cell_type": "code",
   "execution_count": 19,
   "metadata": {},
   "outputs": [],
   "source": [
    "import geopandas as gpd"
   ]
  },
  {
   "cell_type": "code",
   "execution_count": 21,
   "metadata": {},
   "outputs": [],
   "source": [
    "msoa = gpd.read_file('data/Middle_Layer_Super_Output_Areas_(December_2011)_Boundaries.geojson')\n",
    "lsoa = gpd.read_file('data/Lower_Layer_Super_Output_Areas__December_2011__Boundaries_Full_Clipped__BFC__EW_V3.geojson')"
   ]
  },
  {
   "cell_type": "code",
   "execution_count": 22,
   "metadata": {},
   "outputs": [],
   "source": [
    "msoa.to_crs({'init': 'epsg:27700'}, inplace=True)\n",
    "lsoa.to_crs({'init': 'epsg:27700'}, inplace=True)"
   ]
  },
  {
   "cell_type": "code",
   "execution_count": 23,
   "metadata": {},
   "outputs": [],
   "source": [
    "msoa_income_2018 = msoa.merge(df_income_2018, left_on='msoa11cd', right_on='MSOA_code')"
   ]
  },
  {
   "cell_type": "code",
   "execution_count": 24,
   "metadata": {},
   "outputs": [
    {
     "data": {
      "text/plain": [
       "(7201, 18)"
      ]
     },
     "execution_count": 24,
     "metadata": {},
     "output_type": "execute_result"
    }
   ],
   "source": [
    "msoa_income_2018.shape"
   ]
  },
  {
   "cell_type": "code",
   "execution_count": 25,
   "metadata": {},
   "outputs": [
    {
     "data": {
      "text/plain": [
       "<matplotlib.axes._subplots.AxesSubplot at 0x7f19964acd30>"
      ]
     },
     "execution_count": 25,
     "metadata": {},
     "output_type": "execute_result"
    },
    {
     "data": {
      "image/png": "[encoded data removed]",
      "text/plain": [
       "<Figure size 432x288 with 1 Axes>"
      ]
     },
     "metadata": {
      "needs_background": "light"
     },
     "output_type": "display_data"
    }
   ],
   "source": [
    "msoa_income_2018.plot(column='total_annual_income', cmap='OrRd')"
   ]
  },
  {
   "cell_type": "markdown",
   "metadata": {},
   "source": [
    "## Merge the data for 2014, 2016, 2018 and fill the missing years through averaging."
   ]
  },
  {
   "cell_type": "code",
   "execution_count": 23,
   "metadata": {},
   "outputs": [
    {
     "name": "stdout",
     "output_type": "stream",
     "text": [
      "Index(['MSOA_code', 'MSOA_name', 'local_authority_code',\n",
      "       'local_authority_name', 'region_code', 'region_name',\n",
      "       'total_annual_income', 'upper_confidence_limit',\n",
      "       'lower_confidence_limit', 'confidence_interval',\n",
      "       'total_monthly_income'],\n",
      "      dtype='object')\n",
      "Index(['MSOA_code', 'MSOA_name', 'local_authority_code',\n",
      "       'local_authority_name', 'region_code', 'region_name',\n",
      "       'total_annual_income', 'upper_confidence_limit',\n",
      "       'lower_confidence_limit', 'confidence_interval',\n",
      "       'total_monthly_income'],\n",
      "      dtype='object')\n",
      "Index(['MSOA_code', 'MSOA_name', 'local_authority_code',\n",
      "       'local_authority_name', 'region_code', 'region_name',\n",
      "       'total_weekly_income', 'upper_confidence_limit',\n",
      "       'lower_confidence_limit', 'confidence_interval', 'total_monthly_income',\n",
      "       'total_annual_income'],\n",
      "      dtype='object')\n"
     ]
    }
   ],
   "source": [
    "print(df_income_2018.columns)\n",
    "print(df_income_2016.columns)\n",
    "print(df_income_2014.columns)\n"
   ]
  },
  {
   "cell_type": "code",
   "execution_count": 24,
   "metadata": {},
   "outputs": [],
   "source": [
    "df_income_2014 = df_income_2014[['MSOA_code','total_annual_income']]\n",
    "\n",
    "df_income_2016 = df_income_2016[['MSOA_code','total_annual_income']]\n",
    "\n",
    "df_income_2018 = df_income_2018[['MSOA_code','total_annual_income']]"
   ]
  },
  {
   "cell_type": "code",
   "execution_count": 25,
   "metadata": {},
   "outputs": [
    {
     "data": {
      "text/html": [
       "<div>\n",
       "<style scoped>\n",
       "    .dataframe tbody tr th:only-of-type {\n",
       "        vertical-align: middle;\n",
       "    }\n",
       "\n",
       "    .dataframe tbody tr th {\n",
       "        vertical-align: top;\n",
       "    }\n",
       "\n",
       "    .dataframe thead th {\n",
       "        text-align: right;\n",
       "    }\n",
       "</style>\n",
       "<table border=\"1\" class=\"dataframe\">\n",
       "  <thead>\n",
       "    <tr style=\"text-align: right;\">\n",
       "      <th></th>\n",
       "      <th>MSOA_code</th>\n",
       "      <th>total_annual_income</th>\n",
       "    </tr>\n",
       "  </thead>\n",
       "  <tbody>\n",
       "    <tr>\n",
       "      <th>0</th>\n",
       "      <td>E02004297</td>\n",
       "      <td>39800.0</td>\n",
       "    </tr>\n",
       "    <tr>\n",
       "      <th>1</th>\n",
       "      <td>E02004290</td>\n",
       "      <td>42200.0</td>\n",
       "    </tr>\n",
       "    <tr>\n",
       "      <th>2</th>\n",
       "      <td>E02004298</td>\n",
       "      <td>40100.0</td>\n",
       "    </tr>\n",
       "    <tr>\n",
       "      <th>3</th>\n",
       "      <td>E02004299</td>\n",
       "      <td>33800.0</td>\n",
       "    </tr>\n",
       "    <tr>\n",
       "      <th>4</th>\n",
       "      <td>E02004291</td>\n",
       "      <td>33400.0</td>\n",
       "    </tr>\n",
       "  </tbody>\n",
       "</table>\n",
       "</div>"
      ],
      "text/plain": [
       "   MSOA_code  total_annual_income\n",
       "0  E02004297              39800.0\n",
       "1  E02004290              42200.0\n",
       "2  E02004298              40100.0\n",
       "3  E02004299              33800.0\n",
       "4  E02004291              33400.0"
      ]
     },
     "execution_count": 25,
     "metadata": {},
     "output_type": "execute_result"
    }
   ],
   "source": [
    "df_income_2018.head()"
   ]
  },
  {
   "cell_type": "code",
   "execution_count": 26,
   "metadata": {},
   "outputs": [],
   "source": [
    "df_msoa_income = df_income_2014.merge(df_income_2016, on='MSOA_code', suffixes=('_2014','_2016'))"
   ]
  },
  {
   "cell_type": "code",
   "execution_count": 28,
   "metadata": {},
   "outputs": [
    {
     "data": {
      "text/html": [
       "<div>\n",
       "<style scoped>\n",
       "    .dataframe tbody tr th:only-of-type {\n",
       "        vertical-align: middle;\n",
       "    }\n",
       "\n",
       "    .dataframe tbody tr th {\n",
       "        vertical-align: top;\n",
       "    }\n",
       "\n",
       "    .dataframe thead th {\n",
       "        text-align: right;\n",
       "    }\n",
       "</style>\n",
       "<table border=\"1\" class=\"dataframe\">\n",
       "  <thead>\n",
       "    <tr style=\"text-align: right;\">\n",
       "      <th></th>\n",
       "      <th>MSOA_code</th>\n",
       "      <th>total_annual_income_2014</th>\n",
       "      <th>total_annual_income_2016</th>\n",
       "      <th>total_annual_income_2018</th>\n",
       "    </tr>\n",
       "  </thead>\n",
       "  <tbody>\n",
       "    <tr>\n",
       "      <th>0</th>\n",
       "      <td>E02004297</td>\n",
       "      <td>36400.0</td>\n",
       "      <td>35900.0</td>\n",
       "      <td>39800.0</td>\n",
       "    </tr>\n",
       "    <tr>\n",
       "      <th>1</th>\n",
       "      <td>E02004290</td>\n",
       "      <td>37960.0</td>\n",
       "      <td>42500.0</td>\n",
       "      <td>42200.0</td>\n",
       "    </tr>\n",
       "    <tr>\n",
       "      <th>2</th>\n",
       "      <td>E02004298</td>\n",
       "      <td>37960.0</td>\n",
       "      <td>38000.0</td>\n",
       "      <td>40100.0</td>\n",
       "    </tr>\n",
       "    <tr>\n",
       "      <th>3</th>\n",
       "      <td>E02004299</td>\n",
       "      <td>31200.0</td>\n",
       "      <td>33500.0</td>\n",
       "      <td>33800.0</td>\n",
       "    </tr>\n",
       "    <tr>\n",
       "      <th>4</th>\n",
       "      <td>E02004291</td>\n",
       "      <td>28080.0</td>\n",
       "      <td>31700.0</td>\n",
       "      <td>33400.0</td>\n",
       "    </tr>\n",
       "  </tbody>\n",
       "</table>\n",
       "</div>"
      ],
      "text/plain": [
       "   MSOA_code  total_annual_income_2014  total_annual_income_2016  \\\n",
       "0  E02004297                   36400.0                   35900.0   \n",
       "1  E02004290                   37960.0                   42500.0   \n",
       "2  E02004298                   37960.0                   38000.0   \n",
       "3  E02004299                   31200.0                   33500.0   \n",
       "4  E02004291                   28080.0                   31700.0   \n",
       "\n",
       "   total_annual_income_2018  \n",
       "0                   39800.0  \n",
       "1                   42200.0  \n",
       "2                   40100.0  \n",
       "3                   33800.0  \n",
       "4                   33400.0  "
      ]
     },
     "execution_count": 28,
     "metadata": {},
     "output_type": "execute_result"
    }
   ],
   "source": [
    "df_msoa_income = df_msoa_income.merge(df_income_2018, on='MSOA_code')\n",
    "df_msoa_income.rename(columns={'total_annual_income':'total_annual_income_2018'},inplace=True)\n",
    "df_msoa_income.head()"
   ]
  },
  {
   "cell_type": "code",
   "execution_count": 29,
   "metadata": {},
   "outputs": [
    {
     "data": {
      "text/plain": [
       "997.6753228718234"
      ]
     },
     "execution_count": 29,
     "metadata": {},
     "output_type": "execute_result"
    }
   ],
   "source": [
    "# interpolate\n",
    "msoa_gradient_14_16 = (df_msoa_income.total_annual_income_2016-df_msoa_income.total_annual_income_2014)/2\n",
    "df_msoa_income['total_annual_income_2015'] = df_msoa_income.total_annual_income_2014+msoa_gradient_14_16\n",
    "\n",
    "\n",
    "msoa_gradient_16_18 = (df_msoa_income.total_annual_income_2018-df_msoa_income.total_annual_income_2016)/2\n",
    "df_msoa_income['total_annual_income_2017'] = df_msoa_income.total_annual_income_2016+msoa_gradient_16_18\n",
    "\n",
    "msoa_gradient_average = ( msoa_gradient_14_16 + msoa_gradient_16_18)/2\n",
    "msoa_gradient_average.mean()"
   ]
  },
  {
   "cell_type": "code",
   "execution_count": 30,
   "metadata": {},
   "outputs": [],
   "source": [
    "df_msoa_income['total_annual_income_2013'] = df_msoa_income.total_annual_income_2014 - msoa_gradient_average\n",
    "df_msoa_income['total_annual_income_2019'] = df_msoa_income.total_annual_income_2018 + msoa_gradient_average"
   ]
  },
  {
   "cell_type": "code",
   "execution_count": 31,
   "metadata": {},
   "outputs": [
    {
     "data": {
      "text/html": [
       "<div>\n",
       "<style scoped>\n",
       "    .dataframe tbody tr th:only-of-type {\n",
       "        vertical-align: middle;\n",
       "    }\n",
       "\n",
       "    .dataframe tbody tr th {\n",
       "        vertical-align: top;\n",
       "    }\n",
       "\n",
       "    .dataframe thead th {\n",
       "        text-align: right;\n",
       "    }\n",
       "</style>\n",
       "<table border=\"1\" class=\"dataframe\">\n",
       "  <thead>\n",
       "    <tr style=\"text-align: right;\">\n",
       "      <th></th>\n",
       "      <th>MSOA_code</th>\n",
       "      <th>total_annual_income_2013</th>\n",
       "      <th>total_annual_income_2014</th>\n",
       "      <th>total_annual_income_2015</th>\n",
       "      <th>total_annual_income_2016</th>\n",
       "      <th>total_annual_income_2017</th>\n",
       "      <th>total_annual_income_2018</th>\n",
       "      <th>total_annual_income_2019</th>\n",
       "    </tr>\n",
       "  </thead>\n",
       "  <tbody>\n",
       "    <tr>\n",
       "      <th>0</th>\n",
       "      <td>E02004297</td>\n",
       "      <td>35550.0</td>\n",
       "      <td>36400.0</td>\n",
       "      <td>36150.0</td>\n",
       "      <td>35900.0</td>\n",
       "      <td>37850.0</td>\n",
       "      <td>39800.0</td>\n",
       "      <td>40650.0</td>\n",
       "    </tr>\n",
       "    <tr>\n",
       "      <th>1</th>\n",
       "      <td>E02004290</td>\n",
       "      <td>36900.0</td>\n",
       "      <td>37960.0</td>\n",
       "      <td>40230.0</td>\n",
       "      <td>42500.0</td>\n",
       "      <td>42350.0</td>\n",
       "      <td>42200.0</td>\n",
       "      <td>43260.0</td>\n",
       "    </tr>\n",
       "    <tr>\n",
       "      <th>2</th>\n",
       "      <td>E02004298</td>\n",
       "      <td>37425.0</td>\n",
       "      <td>37960.0</td>\n",
       "      <td>37980.0</td>\n",
       "      <td>38000.0</td>\n",
       "      <td>39050.0</td>\n",
       "      <td>40100.0</td>\n",
       "      <td>40635.0</td>\n",
       "    </tr>\n",
       "    <tr>\n",
       "      <th>3</th>\n",
       "      <td>E02004299</td>\n",
       "      <td>30550.0</td>\n",
       "      <td>31200.0</td>\n",
       "      <td>32350.0</td>\n",
       "      <td>33500.0</td>\n",
       "      <td>33650.0</td>\n",
       "      <td>33800.0</td>\n",
       "      <td>34450.0</td>\n",
       "    </tr>\n",
       "    <tr>\n",
       "      <th>4</th>\n",
       "      <td>E02004291</td>\n",
       "      <td>26750.0</td>\n",
       "      <td>28080.0</td>\n",
       "      <td>29890.0</td>\n",
       "      <td>31700.0</td>\n",
       "      <td>32550.0</td>\n",
       "      <td>33400.0</td>\n",
       "      <td>34730.0</td>\n",
       "    </tr>\n",
       "  </tbody>\n",
       "</table>\n",
       "</div>"
      ],
      "text/plain": [
       "   MSOA_code  total_annual_income_2013  total_annual_income_2014  \\\n",
       "0  E02004297                   35550.0                   36400.0   \n",
       "1  E02004290                   36900.0                   37960.0   \n",
       "2  E02004298                   37425.0                   37960.0   \n",
       "3  E02004299                   30550.0                   31200.0   \n",
       "4  E02004291                   26750.0                   28080.0   \n",
       "\n",
       "   total_annual_income_2015  total_annual_income_2016  \\\n",
       "0                   36150.0                   35900.0   \n",
       "1                   40230.0                   42500.0   \n",
       "2                   37980.0                   38000.0   \n",
       "3                   32350.0                   33500.0   \n",
       "4                   29890.0                   31700.0   \n",
       "\n",
       "   total_annual_income_2017  total_annual_income_2018  \\\n",
       "0                   37850.0                   39800.0   \n",
       "1                   42350.0                   42200.0   \n",
       "2                   39050.0                   40100.0   \n",
       "3                   33650.0                   33800.0   \n",
       "4                   32550.0                   33400.0   \n",
       "\n",
       "   total_annual_income_2019  \n",
       "0                   40650.0  \n",
       "1                   43260.0  \n",
       "2                   40635.0  \n",
       "3                   34450.0  \n",
       "4                   34730.0  "
      ]
     },
     "execution_count": 31,
     "metadata": {},
     "output_type": "execute_result"
    }
   ],
   "source": [
    "ordered_years = ['MSOA_code','total_annual_income_2013','total_annual_income_2014','total_annual_income_2015',\n",
    "                'total_annual_income_2016','total_annual_income_2017','total_annual_income_2018','total_annual_income_2019']\n",
    "df_msoa_income = df_msoa_income[ordered_years]\n",
    "df_msoa_income.head()"
   ]
  },
  {
   "cell_type": "code",
   "execution_count": 70,
   "metadata": {},
   "outputs": [],
   "source": [
    "#df_msoa_income.to_csv('msoa_annual_income.csv')"
   ]
  },
  {
   "cell_type": "code",
   "execution_count": null,
   "metadata": {},
   "outputs": [],
   "source": []
  },
  {
   "cell_type": "code",
   "execution_count": null,
   "metadata": {},
   "outputs": [],
   "source": []
  }
 ],
 "metadata": {
  "kernelspec": {
   "display_name": "Python [conda env:Python3] *",
   "language": "python",
   "name": "conda-env-Python3-py"
  },
  "language_info": {
   "codemirror_mode": {
    "name": "ipython",
    "version": 3
   },
   "file_extension": ".py",
   "mimetype": "text/x-python",
   "name": "python",
   "nbconvert_exporter": "python",
   "pygments_lexer": "ipython3",
   "version": "3.8.2"
  }
 },
 "nbformat": 4,
 "nbformat_minor": 2
}
